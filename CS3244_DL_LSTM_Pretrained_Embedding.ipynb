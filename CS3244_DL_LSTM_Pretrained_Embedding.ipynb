{
  "nbformat": 4,
  "nbformat_minor": 0,
  "metadata": {
    "accelerator": "TPU",
    "colab": {
      "name": "CS3244_DL_LSTM_Pretrained_Embedding.ipynb",
      "provenance": [],
      "collapsed_sections": [],
      "machine_shape": "hm",
      "authorship_tag": "ABX9TyMxqa1M0KOovF+WSIcykDlF",
      "include_colab_link": true
    },
    "kernelspec": {
      "display_name": "Python 3",
      "name": "python3"
    }
  },
  "cells": [
    {
      "cell_type": "markdown",
      "metadata": {
        "id": "view-in-github",
        "colab_type": "text"
      },
      "source": [
        "<a href=\"https://colab.research.google.com/github/nhamhung/CS3244-Machine-Learning/blob/main/CS3244_DL_LSTM_Pretrained_Embedding.ipynb\" target=\"_parent\"><img src=\"https://colab.research.google.com/assets/colab-badge.svg\" alt=\"Open In Colab\"/></a>"
      ]
    },
    {
      "cell_type": "code",
      "metadata": {
        "colab": {
          "base_uri": "https://localhost:8080/"
        },
        "id": "LUvTjVoY7g99",
        "outputId": "c1d88438-760b-436a-978a-04261149d26d"
      },
      "source": [
        "!nvidia-smi -L"
      ],
      "execution_count": null,
      "outputs": [
        {
          "output_type": "stream",
          "text": [
            "NVIDIA-SMI has failed because it couldn't communicate with the NVIDIA driver. Make sure that the latest NVIDIA driver is installed and running.\n",
            "\n"
          ],
          "name": "stdout"
        }
      ]
    },
    {
      "cell_type": "code",
      "metadata": {
        "id": "rL6aDWVv71Me",
        "colab": {
          "base_uri": "https://localhost:8080/"
        },
        "outputId": "403f149d-41a4-4760-bfaa-950353a77a5f"
      },
      "source": [
        "from google.colab import drive\n",
        "drive.mount('/content/drive')"
      ],
      "execution_count": null,
      "outputs": [
        {
          "output_type": "stream",
          "text": [
            "Drive already mounted at /content/drive; to attempt to forcibly remount, call drive.mount(\"/content/drive\", force_remount=True).\n"
          ],
          "name": "stdout"
        }
      ]
    },
    {
      "cell_type": "code",
      "metadata": {
        "id": "WAdMLr4F8gpL"
      },
      "source": [
        "import pandas as pd\n",
        "import numpy as np\n",
        "import json \n",
        "import os\n",
        "from sklearn.feature_extraction.text import TfidfVectorizer\n",
        "import nltk\n",
        "\n",
        "X_train = pd.read_csv('/content/drive/My Drive/CS3244 Project/Wiki Toxic Classification/train.csv')\n",
        "X_test = pd.read_csv('/content/drive/My Drive/CS3244 Project/Wiki Toxic Classification/test.csv')\n",
        "df_test_labels = pd.read_csv('/content/drive/My Drive/CS3244 Project/Wiki Toxic Classification/test_labels.csv')"
      ],
      "execution_count": null,
      "outputs": []
    },
    {
      "cell_type": "markdown",
      "metadata": {
        "id": "RNnQKGjNn-mY"
      },
      "source": [
        "# Pre-trained Embeddings"
      ]
    },
    {
      "cell_type": "code",
      "metadata": {
        "id": "wV_GG7tMoAvm"
      },
      "source": [
        "import tensorflow as tf\n",
        "from tensorflow import keras\n",
        "from tensorflow.keras import backend as K\n",
        "import sys, os, re, csv, codecs, numpy as np, pandas as pd\n",
        "import matplotlib.pyplot as plt\n",
        "%matplotlib inline\n",
        "from keras.preprocessing.text import Tokenizer\n",
        "from keras.preprocessing.sequence import pad_sequences\n",
        "from keras.layers import Dense, Input, LSTM, Embedding, Dropout, Activation\n",
        "from keras.layers import Bidirectional, GlobalMaxPool1D,Bidirectional\n",
        "from keras.models import Model\n",
        "from keras import initializers, regularizers, constraints, optimizers, layers\n",
        "import matplotlib.pyplot as plt\n",
        "%matplotlib inline\n",
        "import gensim.models.keyedvectors as word2vec\n",
        "import gc"
      ],
      "execution_count": null,
      "outputs": []
    },
    {
      "cell_type": "code",
      "metadata": {
        "id": "5le0-0CUj_T5"
      },
      "source": [
        "# preprocess\n",
        "def preprocess(max_features=20000, maxlen=200):\n",
        "  labels = [\"toxic\", \"severe_toxic\", \"obscene\", \"threat\", \"insult\", \"identity_hate\"]\n",
        "  \n",
        "  y = X_train[labels].values\n",
        "  train_sentence_list = X_train['comment_text']\n",
        "  test_sentence_list = X_test['comment_text']\n",
        "\n",
        "  tokenizer = Tokenizer(num_words=max_features)\n",
        "  tokenizer.fit_on_texts(list(train_sentence_list))\n",
        "  train_tokenized_list = tokenizer.texts_to_sequences(train_sentence_list)\n",
        "  test_tokenized_list = tokenizer.texts_to_sequences(test_sentence_list)\n",
        "\n",
        "  X_t = pad_sequences(train_tokenized_list, maxlen=maxlen)\n",
        "  X_te = pad_sequences(test_tokenized_list, maxlen=maxlen)\n",
        "\n",
        "  return tokenizer, X_t, X_te, train_tokenized_list, test_tokenized_list, y"
      ],
      "execution_count": null,
      "outputs": []
    },
    {
      "cell_type": "code",
      "metadata": {
        "id": "czpcbOm5kLW8"
      },
      "source": [
        "tokenizer, X_t, X_te, train_tokenized_list, test_tokenized_list, y = preprocess()"
      ],
      "execution_count": null,
      "outputs": []
    },
    {
      "cell_type": "code",
      "metadata": {
        "id": "NSWfeLSppHoM"
      },
      "source": [
        "def loadEmbeddingMatrix(typeToLoad=\"word2vec\"):\n",
        "        word2vecDict = word2vec.KeyedVectors.load_word2vec_format(\"/content/drive/My Drive/CS3244 Project/GoogleNews-vectors-negative300.bin\", binary=True)\n",
        "        embed_size = 300\n",
        "\n",
        "        embeddings_index = dict()\n",
        "        for word in word2vecDict.wv.vocab:\n",
        "            embeddings_index[word] = word2vecDict.word_vec(word)\n",
        "            \n",
        "        gc.collect()\n",
        "\n",
        "        #We get the mean and standard deviation of the embedding weights so that we could maintain the \n",
        "        #same statistics for the rest of our own random generated weights. \n",
        "        all_embs = np.stack(list(embeddings_index.values()))\n",
        "        emb_mean, emb_std = all_embs.mean(), all_embs.std()\n",
        "        \n",
        "        nb_words = len(tokenizer.word_index)\n",
        "        \n",
        "        #We are going to set the embedding size to the pretrained dimension as we are replicating it.\n",
        "        #the size will be Number of Words in Vocab X Embedding Size\n",
        "        embedding_matrix = np.random.normal(emb_mean, emb_std, (nb_words, embed_size))\n",
        "        gc.collect()\n",
        "\n",
        "        #With the newly created embedding matrix, we'll fill it up with the words that we have in both \n",
        "        #our own dictionary and loaded pretrained embedding. \n",
        "        embeddedCount = 0\n",
        "        for word, i in tokenizer.word_index.items():\n",
        "            i-=1\n",
        "            #then we see if this word is in word2vec's dictionary, if yes, get the corresponding weights\n",
        "            embedding_vector = embeddings_index.get(word)\n",
        "            #and store inside the embedding matrix that we will train later on.\n",
        "            if embedding_vector is not None: \n",
        "                embedding_matrix[i] = embedding_vector\n",
        "                embeddedCount+=1\n",
        "\n",
        "        print('total embedded:',embeddedCount,'common words')\n",
        "        \n",
        "        del(embeddings_index)\n",
        "        gc.collect()\n",
        "        \n",
        "        #finally, return the embedding matrix\n",
        "        return embedding_matrix"
      ],
      "execution_count": null,
      "outputs": []
    },
    {
      "cell_type": "code",
      "metadata": {
        "id": "t1FPVJwKpSLw",
        "colab": {
          "base_uri": "https://localhost:8080/"
        },
        "outputId": "21ed2048-28e2-483b-9608-afaac99b03d9"
      },
      "source": [
        "embedding_matrix = loadEmbeddingMatrix()"
      ],
      "execution_count": null,
      "outputs": [
        {
          "output_type": "stream",
          "text": [
            "/usr/local/lib/python3.6/dist-packages/ipykernel_launcher.py:6: DeprecationWarning: Call to deprecated `wv` (Attribute will be removed in 4.0.0, use self instead).\n",
            "  \n"
          ],
          "name": "stderr"
        },
        {
          "output_type": "stream",
          "text": [
            "total embedded: 66078 common words\n"
          ],
          "name": "stdout"
        }
      ]
    },
    {
      "cell_type": "code",
      "metadata": {
        "id": "LcxHxQlrvZpA"
      },
      "source": [
        "# list(embedding_matrix.keys())[:100]"
      ],
      "execution_count": null,
      "outputs": []
    },
    {
      "cell_type": "code",
      "metadata": {
        "id": "fU4Vudaip6nW",
        "colab": {
          "base_uri": "https://localhost:8080/"
        },
        "outputId": "8b333112-38df-4741-e7c8-cbd22b5a60ac"
      },
      "source": [
        "embedding_matrix.shape"
      ],
      "execution_count": null,
      "outputs": [
        {
          "output_type": "execute_result",
          "data": {
            "text/plain": [
              "(210337, 300)"
            ]
          },
          "metadata": {
            "tags": []
          },
          "execution_count": 9
        }
      ]
    },
    {
      "cell_type": "code",
      "metadata": {
        "id": "jFmGlZivgrc_"
      },
      "source": [
        "def build_pretrained_embeddings_LSTM(maxlen):\n",
        "  inp = Input(shape=(maxlen, )) #maxlen=200 as defined earlier  \n",
        "  x = Embedding(len(tokenizer.word_index), embedding_matrix.shape[1],weights=[embedding_matrix],trainable=False)(inp)\n",
        "  x = Bidirectional(LSTM(60, return_sequences=True,name='lstm_layer',dropout=0.2,recurrent_dropout=0.2))(x)  \n",
        "  x = GlobalMaxPool1D()(x)\n",
        "  x = Dropout(0.2)(x)\n",
        "  x = Dense(50, activation=\"relu\")(x)\n",
        "  x = Dropout(0.2)(x)\n",
        "  x = Dense(6, activation=\"sigmoid\")(x)\n",
        "  model = Model(inputs=inp, outputs=x)\n",
        "  model.compile(loss='binary_crossentropy',\n",
        "                    optimizer='adam',\n",
        "                  metrics=['accuracy', tf.keras.metrics.AUC()])\n",
        "  return model"
      ],
      "execution_count": null,
      "outputs": []
    },
    {
      "cell_type": "code",
      "metadata": {
        "id": "ekjcl-7Uqg5S",
        "colab": {
          "base_uri": "https://localhost:8080/"
        },
        "outputId": "aef8ed7e-cbb0-4b92-d263-23ef5110a526"
      },
      "source": [
        "model = build_pretrained_embeddings_LSTM(200)\n",
        "model.summary()\n"
      ],
      "execution_count": null,
      "outputs": [
        {
          "output_type": "stream",
          "text": [
            "Model: \"functional_1\"\n",
            "_________________________________________________________________\n",
            "Layer (type)                 Output Shape              Param #   \n",
            "=================================================================\n",
            "input_1 (InputLayer)         [(None, 200)]             0         \n",
            "_________________________________________________________________\n",
            "embedding (Embedding)        (None, 200, 300)          63101100  \n",
            "_________________________________________________________________\n",
            "bidirectional (Bidirectional (None, 200, 120)          173280    \n",
            "_________________________________________________________________\n",
            "global_max_pooling1d (Global (None, 120)               0         \n",
            "_________________________________________________________________\n",
            "dropout (Dropout)            (None, 120)               0         \n",
            "_________________________________________________________________\n",
            "dense (Dense)                (None, 50)                6050      \n",
            "_________________________________________________________________\n",
            "dropout_1 (Dropout)          (None, 50)                0         \n",
            "_________________________________________________________________\n",
            "dense_1 (Dense)              (None, 6)                 306       \n",
            "=================================================================\n",
            "Total params: 63,280,736\n",
            "Trainable params: 179,636\n",
            "Non-trainable params: 63,101,100\n",
            "_________________________________________________________________\n"
          ],
          "name": "stdout"
        }
      ]
    },
    {
      "cell_type": "code",
      "metadata": {
        "id": "t6cQL56Jqiib",
        "colab": {
          "base_uri": "https://localhost:8080/"
        },
        "outputId": "fd51c4ec-829f-4d05-913c-068deca73799"
      },
      "source": [
        "from tensorflow.keras.callbacks import EarlyStopping, ModelCheckpoint\n",
        "batch_size = 32\n",
        "epochs = 4\n",
        "\n",
        "\n",
        "checkpoint_filepath = '/content/drive/My Drive/CS3244 Project/checkpoints/checkpoint_pretrained'\n",
        "\n",
        "callbacks_list = [EarlyStopping(monitor='val_loss', patience=3), ModelCheckpoint(filepath=checkpoint_filepath, save_weights_only=True, monitor='val_loss', mode='min', save_best_only=True)]\n",
        "\n",
        "hist = model.fit(X_t,y, batch_size=batch_size, epochs=epochs, validation_split=0.1, callbacks=callbacks_list)"
      ],
      "execution_count": null,
      "outputs": [
        {
          "output_type": "stream",
          "text": [
            "Epoch 1/4\n",
            "4488/4488 [==============================] - 2193s 489ms/step - loss: 0.0847 - accuracy: 0.9513 - auc: 0.9302 - val_loss: 0.0620 - val_accuracy: 0.9940 - val_auc: 0.9668\n",
            "Epoch 2/4\n",
            "4488/4488 [==============================] - 2328s 519ms/step - loss: 0.0602 - accuracy: 0.9941 - auc: 0.9671 - val_loss: 0.0554 - val_accuracy: 0.9940 - val_auc: 0.9746\n",
            "Epoch 3/4\n",
            "4488/4488 [==============================] - 2363s 527ms/step - loss: 0.0546 - accuracy: 0.9941 - auc: 0.9739 - val_loss: 0.0527 - val_accuracy: 0.9940 - val_auc: 0.9764\n",
            "Epoch 4/4\n",
            "4488/4488 [==============================] - 2413s 538ms/step - loss: 0.0514 - accuracy: 0.9938 - auc: 0.9771 - val_loss: 0.0513 - val_accuracy: 0.9940 - val_auc: 0.9753\n"
          ],
          "name": "stdout"
        }
      ]
    },
    {
      "cell_type": "code",
      "metadata": {
        "id": "m2n_d4ufdYxz"
      },
      "source": [
        "model.save('word2vec_pretrained.h5')"
      ],
      "execution_count": null,
      "outputs": []
    },
    {
      "cell_type": "code",
      "metadata": {
        "id": "WcNoc0Okz996",
        "colab": {
          "base_uri": "https://localhost:8080/"
        },
        "outputId": "92eccfc3-b3f9-43ba-e62e-c36b2a0acc07"
      },
      "source": [
        "hist.history"
      ],
      "execution_count": null,
      "outputs": [
        {
          "output_type": "execute_result",
          "data": {
            "text/plain": [
              "{'accuracy': [0.9512648582458496,\n",
              "  0.9940882921218872,\n",
              "  0.9940743446350098,\n",
              "  0.9938237071037292],\n",
              " 'auc': [0.9302154183387756,\n",
              "  0.9670933485031128,\n",
              "  0.9738765954971313,\n",
              "  0.9770700335502625],\n",
              " 'loss': [0.0846811905503273,\n",
              "  0.060181282460689545,\n",
              "  0.05460897833108902,\n",
              "  0.05144799128174782],\n",
              " 'val_accuracy': [0.9939842224121094,\n",
              "  0.9939842224121094,\n",
              "  0.9939842224121094,\n",
              "  0.9939842224121094],\n",
              " 'val_auc': [0.9668133854866028,\n",
              "  0.9746487140655518,\n",
              "  0.9763771295547485,\n",
              "  0.9753377437591553],\n",
              " 'val_loss': [0.06196773424744606,\n",
              "  0.05535469576716423,\n",
              "  0.05267029255628586,\n",
              "  0.05130878835916519]}"
            ]
          },
          "metadata": {
            "tags": []
          },
          "execution_count": 14
        }
      ]
    },
    {
      "cell_type": "code",
      "metadata": {
        "id": "H13xl0Ph02bq",
        "colab": {
          "base_uri": "https://localhost:8080/"
        },
        "outputId": "02b27944-6d31-4a61-e419-75941c4f478c"
      },
      "source": [
        "y_test = model.predict([X_te], batch_size=1024, verbose=1)\n"
      ],
      "execution_count": null,
      "outputs": [
        {
          "output_type": "stream",
          "text": [
            "150/150 [==============================] - 95s 635ms/step\n"
          ],
          "name": "stdout"
        }
      ]
    },
    {
      "cell_type": "code",
      "metadata": {
        "id": "ekCZtiYG09PE",
        "colab": {
          "base_uri": "https://localhost:8080/"
        },
        "outputId": "15a71c5c-763d-402e-bdc8-b5afe7e5c316"
      },
      "source": [
        "y_test"
      ],
      "execution_count": null,
      "outputs": [
        {
          "output_type": "execute_result",
          "data": {
            "text/plain": [
              "array([[9.9871749e-01, 3.8115072e-01, 9.3926477e-01, 1.7975929e-01,\n",
              "        8.5079920e-01, 4.1678932e-01],\n",
              "       [2.6464164e-03, 7.3839619e-06, 3.0630827e-04, 1.7589326e-05,\n",
              "        2.5910139e-04, 1.1770344e-04],\n",
              "       [4.1717887e-03, 3.2480046e-05, 7.5638294e-04, 4.4749981e-05,\n",
              "        4.0894747e-04, 2.8198957e-04],\n",
              "       ...,\n",
              "       [3.4181178e-03, 1.6401818e-06, 2.9161572e-04, 3.5324622e-06,\n",
              "        2.2608042e-04, 9.2848706e-05],\n",
              "       [2.2335052e-03, 1.3719061e-06, 1.1910328e-04, 1.3414359e-05,\n",
              "        1.3443828e-04, 1.2895465e-04],\n",
              "       [9.3819833e-01, 6.8089426e-02, 7.1672374e-01, 4.5990348e-02,\n",
              "        5.3433204e-01, 8.8872850e-02]], dtype=float32)"
            ]
          },
          "metadata": {
            "tags": []
          },
          "execution_count": 16
        }
      ]
    },
    {
      "cell_type": "code",
      "metadata": {
        "id": "Tu5sSm2N02bv",
        "colab": {
          "base_uri": "https://localhost:8080/",
          "height": 419
        },
        "outputId": "73f5fd97-b0e6-49fd-edd3-bf9999bc7209"
      },
      "source": [
        "y_test\n",
        "sample_submission = pd.read_csv('/content/drive/My Drive/CS3244 Project/Wiki Toxic Classification/sample_submission.csv')\n",
        "sample_submission[[\"toxic\", \"severe_toxic\", \"obscene\", \"threat\", \"insult\", \"identity_hate\"]] = y_test\n",
        "sample_submission.to_csv('pretrained_LSTM_super_final.csv', index=False)\n",
        "# sample_submission = pd.merge(sample_submission, df_test, how='inner', on='id')\n",
        "sample_submission"
      ],
      "execution_count": null,
      "outputs": [
        {
          "output_type": "execute_result",
          "data": {
            "text/html": [
              "<div>\n",
              "<style scoped>\n",
              "    .dataframe tbody tr th:only-of-type {\n",
              "        vertical-align: middle;\n",
              "    }\n",
              "\n",
              "    .dataframe tbody tr th {\n",
              "        vertical-align: top;\n",
              "    }\n",
              "\n",
              "    .dataframe thead th {\n",
              "        text-align: right;\n",
              "    }\n",
              "</style>\n",
              "<table border=\"1\" class=\"dataframe\">\n",
              "  <thead>\n",
              "    <tr style=\"text-align: right;\">\n",
              "      <th></th>\n",
              "      <th>id</th>\n",
              "      <th>toxic</th>\n",
              "      <th>severe_toxic</th>\n",
              "      <th>obscene</th>\n",
              "      <th>threat</th>\n",
              "      <th>insult</th>\n",
              "      <th>identity_hate</th>\n",
              "    </tr>\n",
              "  </thead>\n",
              "  <tbody>\n",
              "    <tr>\n",
              "      <th>0</th>\n",
              "      <td>00001cee341fdb12</td>\n",
              "      <td>0.998717</td>\n",
              "      <td>3.811507e-01</td>\n",
              "      <td>0.939265</td>\n",
              "      <td>0.179759</td>\n",
              "      <td>0.850799</td>\n",
              "      <td>0.416789</td>\n",
              "    </tr>\n",
              "    <tr>\n",
              "      <th>1</th>\n",
              "      <td>0000247867823ef7</td>\n",
              "      <td>0.002646</td>\n",
              "      <td>7.383962e-06</td>\n",
              "      <td>0.000306</td>\n",
              "      <td>0.000018</td>\n",
              "      <td>0.000259</td>\n",
              "      <td>0.000118</td>\n",
              "    </tr>\n",
              "    <tr>\n",
              "      <th>2</th>\n",
              "      <td>00013b17ad220c46</td>\n",
              "      <td>0.004172</td>\n",
              "      <td>3.248005e-05</td>\n",
              "      <td>0.000756</td>\n",
              "      <td>0.000045</td>\n",
              "      <td>0.000409</td>\n",
              "      <td>0.000282</td>\n",
              "    </tr>\n",
              "    <tr>\n",
              "      <th>3</th>\n",
              "      <td>00017563c3f7919a</td>\n",
              "      <td>0.001019</td>\n",
              "      <td>9.753929e-07</td>\n",
              "      <td>0.000077</td>\n",
              "      <td>0.000003</td>\n",
              "      <td>0.000079</td>\n",
              "      <td>0.000037</td>\n",
              "    </tr>\n",
              "    <tr>\n",
              "      <th>4</th>\n",
              "      <td>00017695ad8997eb</td>\n",
              "      <td>0.006753</td>\n",
              "      <td>3.096107e-05</td>\n",
              "      <td>0.000882</td>\n",
              "      <td>0.000062</td>\n",
              "      <td>0.000796</td>\n",
              "      <td>0.000403</td>\n",
              "    </tr>\n",
              "    <tr>\n",
              "      <th>...</th>\n",
              "      <td>...</td>\n",
              "      <td>...</td>\n",
              "      <td>...</td>\n",
              "      <td>...</td>\n",
              "      <td>...</td>\n",
              "      <td>...</td>\n",
              "      <td>...</td>\n",
              "    </tr>\n",
              "    <tr>\n",
              "      <th>153159</th>\n",
              "      <td>fffcd0960ee309b5</td>\n",
              "      <td>0.614291</td>\n",
              "      <td>2.680689e-03</td>\n",
              "      <td>0.273463</td>\n",
              "      <td>0.000836</td>\n",
              "      <td>0.117809</td>\n",
              "      <td>0.010365</td>\n",
              "    </tr>\n",
              "    <tr>\n",
              "      <th>153160</th>\n",
              "      <td>fffd7a9a6eb32c16</td>\n",
              "      <td>0.016292</td>\n",
              "      <td>2.881332e-05</td>\n",
              "      <td>0.001742</td>\n",
              "      <td>0.000052</td>\n",
              "      <td>0.001712</td>\n",
              "      <td>0.000707</td>\n",
              "    </tr>\n",
              "    <tr>\n",
              "      <th>153161</th>\n",
              "      <td>fffda9e8d6fafa9e</td>\n",
              "      <td>0.003418</td>\n",
              "      <td>1.640182e-06</td>\n",
              "      <td>0.000292</td>\n",
              "      <td>0.000004</td>\n",
              "      <td>0.000226</td>\n",
              "      <td>0.000093</td>\n",
              "    </tr>\n",
              "    <tr>\n",
              "      <th>153162</th>\n",
              "      <td>fffe8f1340a79fc2</td>\n",
              "      <td>0.002234</td>\n",
              "      <td>1.371906e-06</td>\n",
              "      <td>0.000119</td>\n",
              "      <td>0.000013</td>\n",
              "      <td>0.000134</td>\n",
              "      <td>0.000129</td>\n",
              "    </tr>\n",
              "    <tr>\n",
              "      <th>153163</th>\n",
              "      <td>ffffce3fb183ee80</td>\n",
              "      <td>0.938198</td>\n",
              "      <td>6.808943e-02</td>\n",
              "      <td>0.716724</td>\n",
              "      <td>0.045990</td>\n",
              "      <td>0.534332</td>\n",
              "      <td>0.088873</td>\n",
              "    </tr>\n",
              "  </tbody>\n",
              "</table>\n",
              "<p>153164 rows × 7 columns</p>\n",
              "</div>"
            ],
            "text/plain": [
              "                      id     toxic  ...    insult  identity_hate\n",
              "0       00001cee341fdb12  0.998717  ...  0.850799       0.416789\n",
              "1       0000247867823ef7  0.002646  ...  0.000259       0.000118\n",
              "2       00013b17ad220c46  0.004172  ...  0.000409       0.000282\n",
              "3       00017563c3f7919a  0.001019  ...  0.000079       0.000037\n",
              "4       00017695ad8997eb  0.006753  ...  0.000796       0.000403\n",
              "...                  ...       ...  ...       ...            ...\n",
              "153159  fffcd0960ee309b5  0.614291  ...  0.117809       0.010365\n",
              "153160  fffd7a9a6eb32c16  0.016292  ...  0.001712       0.000707\n",
              "153161  fffda9e8d6fafa9e  0.003418  ...  0.000226       0.000093\n",
              "153162  fffe8f1340a79fc2  0.002234  ...  0.000134       0.000129\n",
              "153163  ffffce3fb183ee80  0.938198  ...  0.534332       0.088873\n",
              "\n",
              "[153164 rows x 7 columns]"
            ]
          },
          "metadata": {
            "tags": []
          },
          "execution_count": 19
        }
      ]
    }
  ]
}