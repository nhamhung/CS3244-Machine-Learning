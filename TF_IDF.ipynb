{
  "nbformat": 4,
  "nbformat_minor": 0,
  "metadata": {
    "colab": {
      "name": "TF-IDF.ipynb",
      "provenance": [],
      "collapsed_sections": [
        "EyfG4JyRXCEz",
        "suSQxllQgs48",
        "QBT62747CQmC",
        "SGnKHCmtE_mq",
        "pQd_RO8OsYrs",
        "U9wGPylU8Kv7",
        "VzVXfQ3bji-P"
      ],
      "machine_shape": "hm",
      "authorship_tag": "ABX9TyMO9cEwy1qNBZtdMNVAkujc",
      "include_colab_link": true
    },
    "kernelspec": {
      "name": "python3",
      "display_name": "Python 3"
    }
  },
  "cells": [
    {
      "cell_type": "markdown",
      "metadata": {
        "id": "view-in-github",
        "colab_type": "text"
      },
      "source": [
        "<a href=\"https://colab.research.google.com/github/nhamhung/CS3244-Machine-Learning/blob/main/TF_IDF.ipynb\" target=\"_parent\"><img src=\"https://colab.research.google.com/assets/colab-badge.svg\" alt=\"Open In Colab\"/></a>"
      ]
    },
    {
      "cell_type": "code",
      "metadata": {
        "id": "rL6aDWVv71Me",
        "colab": {
          "base_uri": "https://localhost:8080/"
        },
        "outputId": "470f6b89-1d54-49e8-a225-acbcc1b7c98c"
      },
      "source": [
        "from google.colab import drive\n",
        "drive.mount('/content/drive')"
      ],
      "execution_count": null,
      "outputs": [
        {
          "output_type": "stream",
          "text": [
            "Mounted at /content/drive\n"
          ],
          "name": "stdout"
        }
      ]
    },
    {
      "cell_type": "code",
      "metadata": {
        "id": "WAdMLr4F8gpL",
        "colab": {
          "base_uri": "https://localhost:8080/",
          "height": 408
        },
        "outputId": "9ececdb6-5f1a-4bc1-8f79-2e6a0ce2590c"
      },
      "source": [
        "import pandas as pd\n",
        "import numpy as np\n",
        "import json \n",
        "import os\n",
        "from sklearn.feature_extraction.text import TfidfVectorizer\n",
        "import nltk\n",
        "\n",
        "df_train = pd.read_csv('/content/drive/My Drive/CS3244 Project/train_lemmatized.csv')\n",
        "df_test = pd.read_csv('/content/drive/My Drive/CS3244 Project/test_lemmatized.csv')\n",
        "df_test_labels = pd.read_csv('/content/drive/My Drive/CS3244 Project/test_labels.csv')"
      ],
      "execution_count": null,
      "outputs": [
        {
          "output_type": "error",
          "ename": "FileNotFoundError",
          "evalue": "ignored",
          "traceback": [
            "\u001b[0;31m---------------------------------------------------------------------------\u001b[0m",
            "\u001b[0;31mFileNotFoundError\u001b[0m                         Traceback (most recent call last)",
            "\u001b[0;32m<ipython-input-2-acd754afa58e>\u001b[0m in \u001b[0;36m<module>\u001b[0;34m()\u001b[0m\n\u001b[1;32m      8\u001b[0m \u001b[0mdf_train\u001b[0m \u001b[0;34m=\u001b[0m \u001b[0mpd\u001b[0m\u001b[0;34m.\u001b[0m\u001b[0mread_csv\u001b[0m\u001b[0;34m(\u001b[0m\u001b[0;34m'/content/drive/My Drive/CS3244 Project/train_lemmatized.csv'\u001b[0m\u001b[0;34m)\u001b[0m\u001b[0;34m\u001b[0m\u001b[0;34m\u001b[0m\u001b[0m\n\u001b[1;32m      9\u001b[0m \u001b[0mdf_test\u001b[0m \u001b[0;34m=\u001b[0m \u001b[0mpd\u001b[0m\u001b[0;34m.\u001b[0m\u001b[0mread_csv\u001b[0m\u001b[0;34m(\u001b[0m\u001b[0;34m'/content/drive/My Drive/CS3244 Project/test_lemmatized.csv'\u001b[0m\u001b[0;34m)\u001b[0m\u001b[0;34m\u001b[0m\u001b[0;34m\u001b[0m\u001b[0m\n\u001b[0;32m---> 10\u001b[0;31m \u001b[0mdf_test_labels\u001b[0m \u001b[0;34m=\u001b[0m \u001b[0mpd\u001b[0m\u001b[0;34m.\u001b[0m\u001b[0mread_csv\u001b[0m\u001b[0;34m(\u001b[0m\u001b[0;34m'/content/drive/My Drive/CS3244 Project/test_labels.csv'\u001b[0m\u001b[0;34m)\u001b[0m\u001b[0;34m\u001b[0m\u001b[0;34m\u001b[0m\u001b[0m\n\u001b[0m",
            "\u001b[0;32m/usr/local/lib/python3.6/dist-packages/pandas/io/parsers.py\u001b[0m in \u001b[0;36mread_csv\u001b[0;34m(filepath_or_buffer, sep, delimiter, header, names, index_col, usecols, squeeze, prefix, mangle_dupe_cols, dtype, engine, converters, true_values, false_values, skipinitialspace, skiprows, skipfooter, nrows, na_values, keep_default_na, na_filter, verbose, skip_blank_lines, parse_dates, infer_datetime_format, keep_date_col, date_parser, dayfirst, cache_dates, iterator, chunksize, compression, thousands, decimal, lineterminator, quotechar, quoting, doublequote, escapechar, comment, encoding, dialect, error_bad_lines, warn_bad_lines, delim_whitespace, low_memory, memory_map, float_precision)\u001b[0m\n\u001b[1;32m    686\u001b[0m     )\n\u001b[1;32m    687\u001b[0m \u001b[0;34m\u001b[0m\u001b[0m\n\u001b[0;32m--> 688\u001b[0;31m     \u001b[0;32mreturn\u001b[0m \u001b[0m_read\u001b[0m\u001b[0;34m(\u001b[0m\u001b[0mfilepath_or_buffer\u001b[0m\u001b[0;34m,\u001b[0m \u001b[0mkwds\u001b[0m\u001b[0;34m)\u001b[0m\u001b[0;34m\u001b[0m\u001b[0;34m\u001b[0m\u001b[0m\n\u001b[0m\u001b[1;32m    689\u001b[0m \u001b[0;34m\u001b[0m\u001b[0m\n\u001b[1;32m    690\u001b[0m \u001b[0;34m\u001b[0m\u001b[0m\n",
            "\u001b[0;32m/usr/local/lib/python3.6/dist-packages/pandas/io/parsers.py\u001b[0m in \u001b[0;36m_read\u001b[0;34m(filepath_or_buffer, kwds)\u001b[0m\n\u001b[1;32m    452\u001b[0m \u001b[0;34m\u001b[0m\u001b[0m\n\u001b[1;32m    453\u001b[0m     \u001b[0;31m# Create the parser.\u001b[0m\u001b[0;34m\u001b[0m\u001b[0;34m\u001b[0m\u001b[0;34m\u001b[0m\u001b[0m\n\u001b[0;32m--> 454\u001b[0;31m     \u001b[0mparser\u001b[0m \u001b[0;34m=\u001b[0m \u001b[0mTextFileReader\u001b[0m\u001b[0;34m(\u001b[0m\u001b[0mfp_or_buf\u001b[0m\u001b[0;34m,\u001b[0m \u001b[0;34m**\u001b[0m\u001b[0mkwds\u001b[0m\u001b[0;34m)\u001b[0m\u001b[0;34m\u001b[0m\u001b[0;34m\u001b[0m\u001b[0m\n\u001b[0m\u001b[1;32m    455\u001b[0m \u001b[0;34m\u001b[0m\u001b[0m\n\u001b[1;32m    456\u001b[0m     \u001b[0;32mif\u001b[0m \u001b[0mchunksize\u001b[0m \u001b[0;32mor\u001b[0m \u001b[0miterator\u001b[0m\u001b[0;34m:\u001b[0m\u001b[0;34m\u001b[0m\u001b[0;34m\u001b[0m\u001b[0m\n",
            "\u001b[0;32m/usr/local/lib/python3.6/dist-packages/pandas/io/parsers.py\u001b[0m in \u001b[0;36m__init__\u001b[0;34m(self, f, engine, **kwds)\u001b[0m\n\u001b[1;32m    946\u001b[0m             \u001b[0mself\u001b[0m\u001b[0;34m.\u001b[0m\u001b[0moptions\u001b[0m\u001b[0;34m[\u001b[0m\u001b[0;34m\"has_index_names\"\u001b[0m\u001b[0;34m]\u001b[0m \u001b[0;34m=\u001b[0m \u001b[0mkwds\u001b[0m\u001b[0;34m[\u001b[0m\u001b[0;34m\"has_index_names\"\u001b[0m\u001b[0;34m]\u001b[0m\u001b[0;34m\u001b[0m\u001b[0;34m\u001b[0m\u001b[0m\n\u001b[1;32m    947\u001b[0m \u001b[0;34m\u001b[0m\u001b[0m\n\u001b[0;32m--> 948\u001b[0;31m         \u001b[0mself\u001b[0m\u001b[0;34m.\u001b[0m\u001b[0m_make_engine\u001b[0m\u001b[0;34m(\u001b[0m\u001b[0mself\u001b[0m\u001b[0;34m.\u001b[0m\u001b[0mengine\u001b[0m\u001b[0;34m)\u001b[0m\u001b[0;34m\u001b[0m\u001b[0;34m\u001b[0m\u001b[0m\n\u001b[0m\u001b[1;32m    949\u001b[0m \u001b[0;34m\u001b[0m\u001b[0m\n\u001b[1;32m    950\u001b[0m     \u001b[0;32mdef\u001b[0m \u001b[0mclose\u001b[0m\u001b[0;34m(\u001b[0m\u001b[0mself\u001b[0m\u001b[0;34m)\u001b[0m\u001b[0;34m:\u001b[0m\u001b[0;34m\u001b[0m\u001b[0;34m\u001b[0m\u001b[0m\n",
            "\u001b[0;32m/usr/local/lib/python3.6/dist-packages/pandas/io/parsers.py\u001b[0m in \u001b[0;36m_make_engine\u001b[0;34m(self, engine)\u001b[0m\n\u001b[1;32m   1178\u001b[0m     \u001b[0;32mdef\u001b[0m \u001b[0m_make_engine\u001b[0m\u001b[0;34m(\u001b[0m\u001b[0mself\u001b[0m\u001b[0;34m,\u001b[0m \u001b[0mengine\u001b[0m\u001b[0;34m=\u001b[0m\u001b[0;34m\"c\"\u001b[0m\u001b[0;34m)\u001b[0m\u001b[0;34m:\u001b[0m\u001b[0;34m\u001b[0m\u001b[0;34m\u001b[0m\u001b[0m\n\u001b[1;32m   1179\u001b[0m         \u001b[0;32mif\u001b[0m \u001b[0mengine\u001b[0m \u001b[0;34m==\u001b[0m \u001b[0;34m\"c\"\u001b[0m\u001b[0;34m:\u001b[0m\u001b[0;34m\u001b[0m\u001b[0;34m\u001b[0m\u001b[0m\n\u001b[0;32m-> 1180\u001b[0;31m             \u001b[0mself\u001b[0m\u001b[0;34m.\u001b[0m\u001b[0m_engine\u001b[0m \u001b[0;34m=\u001b[0m \u001b[0mCParserWrapper\u001b[0m\u001b[0;34m(\u001b[0m\u001b[0mself\u001b[0m\u001b[0;34m.\u001b[0m\u001b[0mf\u001b[0m\u001b[0;34m,\u001b[0m \u001b[0;34m**\u001b[0m\u001b[0mself\u001b[0m\u001b[0;34m.\u001b[0m\u001b[0moptions\u001b[0m\u001b[0;34m)\u001b[0m\u001b[0;34m\u001b[0m\u001b[0;34m\u001b[0m\u001b[0m\n\u001b[0m\u001b[1;32m   1181\u001b[0m         \u001b[0;32melse\u001b[0m\u001b[0;34m:\u001b[0m\u001b[0;34m\u001b[0m\u001b[0;34m\u001b[0m\u001b[0m\n\u001b[1;32m   1182\u001b[0m             \u001b[0;32mif\u001b[0m \u001b[0mengine\u001b[0m \u001b[0;34m==\u001b[0m \u001b[0;34m\"python\"\u001b[0m\u001b[0;34m:\u001b[0m\u001b[0;34m\u001b[0m\u001b[0;34m\u001b[0m\u001b[0m\n",
            "\u001b[0;32m/usr/local/lib/python3.6/dist-packages/pandas/io/parsers.py\u001b[0m in \u001b[0;36m__init__\u001b[0;34m(self, src, **kwds)\u001b[0m\n\u001b[1;32m   2008\u001b[0m         \u001b[0mkwds\u001b[0m\u001b[0;34m[\u001b[0m\u001b[0;34m\"usecols\"\u001b[0m\u001b[0;34m]\u001b[0m \u001b[0;34m=\u001b[0m \u001b[0mself\u001b[0m\u001b[0;34m.\u001b[0m\u001b[0musecols\u001b[0m\u001b[0;34m\u001b[0m\u001b[0;34m\u001b[0m\u001b[0m\n\u001b[1;32m   2009\u001b[0m \u001b[0;34m\u001b[0m\u001b[0m\n\u001b[0;32m-> 2010\u001b[0;31m         \u001b[0mself\u001b[0m\u001b[0;34m.\u001b[0m\u001b[0m_reader\u001b[0m \u001b[0;34m=\u001b[0m \u001b[0mparsers\u001b[0m\u001b[0;34m.\u001b[0m\u001b[0mTextReader\u001b[0m\u001b[0;34m(\u001b[0m\u001b[0msrc\u001b[0m\u001b[0;34m,\u001b[0m \u001b[0;34m**\u001b[0m\u001b[0mkwds\u001b[0m\u001b[0;34m)\u001b[0m\u001b[0;34m\u001b[0m\u001b[0;34m\u001b[0m\u001b[0m\n\u001b[0m\u001b[1;32m   2011\u001b[0m         \u001b[0mself\u001b[0m\u001b[0;34m.\u001b[0m\u001b[0munnamed_cols\u001b[0m \u001b[0;34m=\u001b[0m \u001b[0mself\u001b[0m\u001b[0;34m.\u001b[0m\u001b[0m_reader\u001b[0m\u001b[0;34m.\u001b[0m\u001b[0munnamed_cols\u001b[0m\u001b[0;34m\u001b[0m\u001b[0;34m\u001b[0m\u001b[0m\n\u001b[1;32m   2012\u001b[0m \u001b[0;34m\u001b[0m\u001b[0m\n",
            "\u001b[0;32mpandas/_libs/parsers.pyx\u001b[0m in \u001b[0;36mpandas._libs.parsers.TextReader.__cinit__\u001b[0;34m()\u001b[0m\n",
            "\u001b[0;32mpandas/_libs/parsers.pyx\u001b[0m in \u001b[0;36mpandas._libs.parsers.TextReader._setup_parser_source\u001b[0;34m()\u001b[0m\n",
            "\u001b[0;31mFileNotFoundError\u001b[0m: [Errno 2] No such file or directory: '/content/drive/My Drive/CS3244 Project/test_labels.csv'"
          ]
        }
      ]
    },
    {
      "cell_type": "markdown",
      "metadata": {
        "id": "EyfG4JyRXCEz"
      },
      "source": [
        "# Preprocess data"
      ]
    },
    {
      "cell_type": "code",
      "metadata": {
        "id": "70Gc18jUYNon"
      },
      "source": [
        "def lower(s):\n",
        "  return s.lower()"
      ],
      "execution_count": null,
      "outputs": []
    },
    {
      "cell_type": "code",
      "metadata": {
        "id": "m0N_rQ1WYkk9",
        "colab": {
          "base_uri": "https://localhost:8080/",
          "height": 588
        },
        "outputId": "8c8362c0-3c7a-4d7c-b894-534327b1e8f8"
      },
      "source": [
        "!pip install contractions\n",
        "import contractions\n",
        "sample_abbr = {\n",
        "    \"$\" : \" dollar \",\n",
        "    \"€\" : \" euro \",\n",
        "    \"4ao\" : \"for adults only\",\n",
        "    \"a.m\" : \"before midday\",\n",
        "    \"a3\" : \"anytime anywhere anyplace\",\n",
        "    \"aamof\" : \"as a matter of fact\",\n",
        "    \"acct\" : \"account\",\n",
        "    \"adih\" : \"another day in hell\",\n",
        "    \"afaic\" : \"as far as i am concerned\",\n",
        "    \"afaict\" : \"as far as i can tell\",\n",
        "    \"afaik\" : \"as far as i know\",\n",
        "    \"afair\" : \"as far as i remember\",\n",
        "    \"afk\" : \"away from keyboard\",\n",
        "    \"app\" : \"application\",\n",
        "    \"approx\" : \"approximately\",\n",
        "    \"apps\" : \"applications\",\n",
        "    \"asap\" : \"as soon as possible\",\n",
        "    \"asl\" : \"age, sex, location\",\n",
        "    \"atk\" : \"at the keyboard\",\n",
        "    \"ave.\" : \"avenue\",\n",
        "    \"aymm\" : \"are you my mother\",\n",
        "    \"ayor\" : \"at your own risk\", \n",
        "    \"b&b\" : \"bed and breakfast\",\n",
        "    \"b+b\" : \"bed and breakfast\",\n",
        "    \"b.c\" : \"before christ\",\n",
        "    \"b2b\" : \"business to business\",\n",
        "    \"b2c\" : \"business to customer\",\n",
        "    \"b4\" : \"before\",\n",
        "    \"b4n\" : \"bye for now\",\n",
        "    \"b@u\" : \"back at you\",\n",
        "    \"bae\" : \"before anyone else\",\n",
        "    \"bak\" : \"back at keyboard\",\n",
        "    \"bbbg\" : \"bye bye be good\",\n",
        "    \"bbc\" : \"british broadcasting corporation\",\n",
        "    \"bbias\" : \"be back in a second\",\n",
        "    \"bbl\" : \"be back later\",\n",
        "    \"bbs\" : \"be back soon\",\n",
        "    \"be4\" : \"before\",\n",
        "    \"bfn\" : \"bye for now\",\n",
        "    \"blvd\" : \"boulevard\",\n",
        "    \"bout\" : \"about\",\n",
        "    \"brb\" : \"be right back\",\n",
        "    \"bros\" : \"brothers\",\n",
        "    \"brt\" : \"be right there\",\n",
        "    \"bsaaw\" : \"big smile and a wink\",\n",
        "    \"btw\" : \"by the way\",\n",
        "    \"bwl\" : \"bursting with laughter\",\n",
        "    \"c/o\" : \"care of\",\n",
        "    \"cet\" : \"central european time\",\n",
        "    \"cf\" : \"compare\",\n",
        "    \"cia\" : \"central intelligence agency\",\n",
        "    \"csl\" : \"can not stop laughing\",\n",
        "    \"cu\" : \"see you\",\n",
        "    \"cul8r\" : \"see you later\",\n",
        "    \"cv\" : \"curriculum vitae\",\n",
        "    \"cwot\" : \"complete waste of time\",\n",
        "    \"cya\" : \"see you\",\n",
        "    \"cyt\" : \"see you tomorrow\",\n",
        "    \"dae\" : \"does anyone else\",\n",
        "    \"dbmib\" : \"do not bother me i am busy\",\n",
        "    \"diy\" : \"do it yourself\",\n",
        "    \"dm\" : \"direct message\",\n",
        "    \"dwh\" : \"during work hours\",\n",
        "    \"e123\" : \"easy as one two three\",\n",
        "    \"eet\" : \"eastern european time\",\n",
        "    \"eg\" : \"example\",\n",
        "    \"embm\" : \"early morning business meeting\",\n",
        "    \"encl\" : \"enclosed\",\n",
        "    \"encl.\" : \"enclosed\",\n",
        "    \"etc\" : \"and so on\",\n",
        "    \"faq\" : \"frequently asked questions\",\n",
        "    \"fawc\" : \"for anyone who cares\",\n",
        "    \"fb\" : \"facebook\",\n",
        "    \"fc\" : \"fingers crossed\",\n",
        "    \"fig\" : \"figure\",\n",
        "    \"fimh\" : \"forever in my heart\", \n",
        "    \"ft.\" : \"feet\",\n",
        "    \"ft\" : \"featuring\",\n",
        "    \"ftl\" : \"for the loss\",\n",
        "    \"ftw\" : \"for the win\",\n",
        "    \"fwiw\" : \"for what it is worth\",\n",
        "    \"fyi\" : \"for your information\",\n",
        "    \"g9\" : \"genius\",\n",
        "    \"gahoy\" : \"get a hold of yourself\",\n",
        "    \"gal\" : \"get a life\",\n",
        "    \"gcse\" : \"general certificate of secondary education\",\n",
        "    \"gfn\" : \"gone for now\",\n",
        "    \"gg\" : \"good game\",\n",
        "    \"gl\" : \"good luck\",\n",
        "    \"glhf\" : \"good luck have fun\",\n",
        "    \"gmt\" : \"greenwich mean time\",\n",
        "    \"gmta\" : \"great minds think alike\",\n",
        "    \"gn\" : \"good night\",\n",
        "    \"g.o.a.t\" : \"greatest of all time\",\n",
        "    \"goat\" : \"greatest of all time\",\n",
        "    \"goi\" : \"get over it\",\n",
        "    \"gps\" : \"global positioning system\",\n",
        "    \"gr8\" : \"great\",\n",
        "    \"gratz\" : \"congratulations\",\n",
        "    \"gyal\" : \"girl\",\n",
        "    \"h&c\" : \"hot and cold\",\n",
        "    \"hp\" : \"horsepower\",\n",
        "    \"hr\" : \"hour\",\n",
        "    \"hrh\" : \"his royal highness\",\n",
        "    \"ht\" : \"height\",\n",
        "    \"ibrb\" : \"i will be right back\",\n",
        "    \"ic\" : \"i see\",\n",
        "    \"icq\" : \"i seek you\",\n",
        "    \"icymi\" : \"in case you missed it\",\n",
        "    \"idc\" : \"i do not care\",\n",
        "    \"idgadf\" : \"i do not give a damn fuck\",\n",
        "    \"idgaf\" : \"i do not give a fuck\",\n",
        "    \"idk\" : \"i do not know\",\n",
        "    \"ie\" : \"that is\",\n",
        "    \"i.e\" : \"that is\",\n",
        "    \"ifyp\" : \"i feel your pain\",\n",
        "    \"IG\" : \"instagram\",\n",
        "    \"iirc\" : \"if i remember correctly\",\n",
        "    \"ilu\" : \"i love you\",\n",
        "    \"ily\" : \"i love you\",\n",
        "    \"imho\" : \"in my humble opinion\",\n",
        "    \"imo\" : \"in my opinion\",\n",
        "    \"imu\" : \"i miss you\",\n",
        "    \"iow\" : \"in other words\",\n",
        "    \"irl\" : \"in real life\",\n",
        "    \"j4f\" : \"just for fun\",\n",
        "    \"jic\" : \"just in case\",\n",
        "    \"jk\" : \"just kidding\",\n",
        "    \"jsyk\" : \"just so you know\",\n",
        "    \"l8r\" : \"later\",\n",
        "    \"lb\" : \"pound\",\n",
        "    \"lbs\" : \"pounds\",\n",
        "    \"ldr\" : \"long distance relationship\",\n",
        "    \"lmao\" : \"laugh my ass off\",\n",
        "    \"lmfao\" : \"laugh my fucking ass off\",\n",
        "    \"lol\" : \"laughing out loud\",\n",
        "    \"ltd\" : \"limited\",\n",
        "    \"ltns\" : \"long time no see\",\n",
        "    \"m8\" : \"mate\",\n",
        "    \"mf\" : \"motherfucker\",\n",
        "    \"mfs\" : \"motherfuckers\",\n",
        "    \"mfw\" : \"my face when\",\n",
        "    \"mofo\" : \"motherfucker\",\n",
        "    \"mph\" : \"miles per hour\",\n",
        "    \"mr\" : \"mister\",\n",
        "    \"mrw\" : \"my reaction when\",\n",
        "    \"ms\" : \"miss\",\n",
        "    \"mte\" : \"my thoughts exactly\",\n",
        "    \"nagi\" : \"not a good idea\",\n",
        "    \"nbc\" : \"national broadcasting company\",\n",
        "    \"nbd\" : \"not big deal\",\n",
        "    \"nfs\" : \"not for sale\",\n",
        "    \"ngl\" : \"not going to lie\",\n",
        "    \"nhs\" : \"national health service\",\n",
        "    \"nrn\" : \"no reply necessary\",\n",
        "    \"nsfl\" : \"not safe for life\",\n",
        "    \"nsfw\" : \"not safe for work\",\n",
        "    \"nth\" : \"nice to have\",\n",
        "    \"nvr\" : \"never\",\n",
        "    \"nyc\" : \"new york city\",\n",
        "    \"oc\" : \"original content\",\n",
        "    \"og\" : \"original\",\n",
        "    \"ohp\" : \"overhead projector\",\n",
        "    \"oic\" : \"oh i see\",\n",
        "    \"omdb\" : \"over my dead body\",\n",
        "    \"omg\" : \"oh my god\",\n",
        "    \"omw\" : \"on my way\",\n",
        "    \"p.a\" : \"per annum\",\n",
        "    \"p.m\" : \"after midday\",\n",
        "    \"pm\" : \"prime minister\",\n",
        "    \"poc\" : \"people of color\",\n",
        "    \"pov\" : \"point of view\",\n",
        "    \"pp\" : \"pages\",\n",
        "    \"ppl\" : \"people\",\n",
        "    \"prw\" : \"parents are watching\",\n",
        "    \"ps\" : \"postscript\",\n",
        "    \"pt\" : \"point\",\n",
        "    \"ptb\" : \"please text back\",\n",
        "    \"pto\" : \"please turn over\",\n",
        "    \"qpsa\" : \"what happens\", #\"que pasa\",\n",
        "    \"ratchet\" : \"rude\",\n",
        "    \"rbtl\" : \"read between the lines\",\n",
        "    \"rlrt\" : \"real life retweet\", \n",
        "    \"rofl\" : \"rolling on the floor laughing\",\n",
        "    \"roflol\" : \"rolling on the floor laughing out loud\",\n",
        "    \"rotflmao\" : \"rolling on the floor laughing my ass off\",\n",
        "    \"rt\" : \"retweet\",\n",
        "    \"ruok\" : \"are you ok\",\n",
        "    \"sfw\" : \"safe for work\",\n",
        "    \"sk8\" : \"skate\",\n",
        "    \"smh\" : \"shake my head\",\n",
        "    \"sq\" : \"square\",\n",
        "    \"srsly\" : \"seriously\", \n",
        "    \"ssdd\" : \"same stuff different day\",\n",
        "    \"tbh\" : \"to be honest\",\n",
        "    \"tbs\" : \"tablespooful\",\n",
        "    \"tbsp\" : \"tablespooful\",\n",
        "    \"tfw\" : \"that feeling when\",\n",
        "    \"thks\" : \"thank you\",\n",
        "    \"tho\" : \"though\",\n",
        "    \"thx\" : \"thank you\",\n",
        "    \"tia\" : \"thanks in advance\",\n",
        "    \"til\" : \"today i learned\",\n",
        "    \"tl;dr\" : \"too long i did not read\",\n",
        "    \"tldr\" : \"too long i did not read\",\n",
        "    \"tmb\" : \"tweet me back\",\n",
        "    \"tntl\" : \"trying not to laugh\",\n",
        "    \"ttyl\" : \"talk to you later\",\n",
        "    \"u\" : \"you\",\n",
        "    \"u2\" : \"you too\",\n",
        "    \"u4e\" : \"yours for ever\",\n",
        "    \"utc\" : \"coordinated universal time\",\n",
        "    \"w/\" : \"with\",\n",
        "    \"w/o\" : \"without\",\n",
        "    \"w8\" : \"wait\",\n",
        "    \"wassup\" : \"what is up\",\n",
        "    \"wb\" : \"welcome back\",\n",
        "    \"wtf\" : \"what the fuck\",\n",
        "    \"wtg\" : \"way to go\",\n",
        "    \"wtpa\" : \"where the party at\",\n",
        "    \"wuf\" : \"where are you from\",\n",
        "    \"wuzup\" : \"what is up\",\n",
        "    \"wywh\" : \"wish you were here\",\n",
        "    \"yd\" : \"yard\",\n",
        "    \"ygtr\" : \"you got that right\",\n",
        "    \"ynk\" : \"you never know\",\n",
        "    \"zzz\" : \"sleeping bored and tired\"\n",
        "}\n",
        "for key in sample_abbr.keys():\n",
        "  contractions.add(key, sample_abbr[key])\n",
        "\n",
        "def contraction(s):\n",
        "  return contractions.fix(s)"
      ],
      "execution_count": null,
      "outputs": [
        {
          "output_type": "stream",
          "text": [
            "Collecting contractions\n",
            "  Downloading https://files.pythonhosted.org/packages/00/92/a05b76a692ac08d470ae5c23873cf1c9a041532f1ee065e74b374f218306/contractions-0.0.25-py2.py3-none-any.whl\n",
            "Collecting textsearch\n",
            "  Downloading https://files.pythonhosted.org/packages/42/a8/03407021f9555043de5492a2bd7a35c56cc03c2510092b5ec018cae1bbf1/textsearch-0.0.17-py2.py3-none-any.whl\n",
            "Collecting pyahocorasick\n",
            "\u001b[?25l  Downloading https://files.pythonhosted.org/packages/f4/9f/f0d8e8850e12829eea2e778f1c90e3c53a9a799b7f412082a5d21cd19ae1/pyahocorasick-1.4.0.tar.gz (312kB)\n",
            "\u001b[K     |████████████████████████████████| 317kB 4.6MB/s \n",
            "\u001b[?25hCollecting Unidecode\n",
            "\u001b[?25l  Downloading https://files.pythonhosted.org/packages/d0/42/d9edfed04228bacea2d824904cae367ee9efd05e6cce7ceaaedd0b0ad964/Unidecode-1.1.1-py2.py3-none-any.whl (238kB)\n",
            "\u001b[K     |████████████████████████████████| 245kB 8.5MB/s \n",
            "\u001b[?25hBuilding wheels for collected packages: pyahocorasick\n",
            "  Building wheel for pyahocorasick (setup.py) ... \u001b[?25l\u001b[?25hcanceled\n",
            "\u001b[31mERROR: Operation cancelled by user\u001b[0m\n"
          ],
          "name": "stdout"
        },
        {
          "output_type": "error",
          "ename": "ModuleNotFoundError",
          "evalue": "ignored",
          "traceback": [
            "\u001b[0;31m---------------------------------------------------------------------------\u001b[0m",
            "\u001b[0;31mModuleNotFoundError\u001b[0m                       Traceback (most recent call last)",
            "\u001b[0;32m<ipython-input-6-80fdce8ef534>\u001b[0m in \u001b[0;36m<module>\u001b[0;34m()\u001b[0m\n\u001b[1;32m      1\u001b[0m \u001b[0mget_ipython\u001b[0m\u001b[0;34m(\u001b[0m\u001b[0;34m)\u001b[0m\u001b[0;34m.\u001b[0m\u001b[0msystem\u001b[0m\u001b[0;34m(\u001b[0m\u001b[0;34m'pip install contractions'\u001b[0m\u001b[0;34m)\u001b[0m\u001b[0;34m\u001b[0m\u001b[0;34m\u001b[0m\u001b[0m\n\u001b[0;32m----> 2\u001b[0;31m \u001b[0;32mimport\u001b[0m \u001b[0mcontractions\u001b[0m\u001b[0;34m\u001b[0m\u001b[0;34m\u001b[0m\u001b[0m\n\u001b[0m\u001b[1;32m      3\u001b[0m sample_abbr = {\n\u001b[1;32m      4\u001b[0m     \u001b[0;34m\"$\"\u001b[0m \u001b[0;34m:\u001b[0m \u001b[0;34m\" dollar \"\u001b[0m\u001b[0;34m,\u001b[0m\u001b[0;34m\u001b[0m\u001b[0;34m\u001b[0m\u001b[0m\n\u001b[1;32m      5\u001b[0m     \u001b[0;34m\"€\"\u001b[0m \u001b[0;34m:\u001b[0m \u001b[0;34m\" euro \"\u001b[0m\u001b[0;34m,\u001b[0m\u001b[0;34m\u001b[0m\u001b[0;34m\u001b[0m\u001b[0m\n",
            "\u001b[0;31mModuleNotFoundError\u001b[0m: No module named 'contractions'",
            "",
            "\u001b[0;31m---------------------------------------------------------------------------\u001b[0;32m\nNOTE: If your import is failing due to a missing package, you can\nmanually install dependencies using either !pip or !apt.\n\nTo view examples of installing some common dependencies, click the\n\"Open Examples\" button below.\n\u001b[0;31m---------------------------------------------------------------------------\u001b[0m\n"
          ]
        }
      ]
    },
    {
      "cell_type": "code",
      "metadata": {
        "id": "TOWkX_5IZfi1"
      },
      "source": [
        "APOSTROPHES = { \n",
        "\"ain't\": \"is not\",\n",
        "\"aren't\": \"are not\",\n",
        "\"can't\": \"cannot\",\n",
        "\"can't've\": \"cannot have\",\n",
        "\"'cause\": \"because\",\n",
        "\"could've\": \"could have\",\n",
        "\"couldn't\": \"could not\",\n",
        "\"couldn't've\": \"could not have\",\n",
        "\"didn't\": \"did not\",\n",
        "\"doesn't\": \"does not\",\n",
        "\"don't\": \"do not\",\n",
        "\"hadn't\": \"had not\",\n",
        "\"hadn't've\": \"had not have\",\n",
        "\"hasn't\": \"has not\",\n",
        "\"haven't\": \"have not\",\n",
        "\"he'd\": \"he would\",\n",
        "\"he'd've\": \"he would have\",\n",
        "\"he'll\": \"he will\",\n",
        "\"he'll've\": \"he will have\",\n",
        "\"he's\": \"he is\",\n",
        "\"how'd\": \"how did\",\n",
        "\"how'd'y\": \"how do you\",\n",
        "\"how'll\": \"how will\",\n",
        "\"how's\": \"how is\",\n",
        "\"I'd\": \"I would\",\n",
        "\"I'd've\": \"I would have\",\n",
        "\"I'll\": \"I will\",\n",
        "\"I'll've\": \"I will have\",\n",
        "\"I'm\": \"I am\",\n",
        "\"I've\": \"I have\",\n",
        "\"isn't\": \"is not\",\n",
        "\"it'd\": \"it would\",\n",
        "\"it'd've\": \"it would have\",\n",
        "\"it'll\": \"it will\",\n",
        "\"it'll've\": \"it will have\",\n",
        "\"it's\": \"it is\",\n",
        "\"let's\": \"let us\",\n",
        "\"ma'am\": \"madam\",\n",
        "\"mayn't\": \"may not\",\n",
        "\"might've\": \"might have\",\n",
        "\"mightn't\": \"might not\",\n",
        "\"mightn't've\": \"might not have\",\n",
        "\"must've\": \"must have\",\n",
        "\"mustn't\": \"must not\",\n",
        "\"mustn't've\": \"must not have\",\n",
        "\"needn't\": \"need not\",\n",
        "\"needn't've\": \"need not have\",\n",
        "\"o'clock\": \"of the clock\",\n",
        "\"oughtn't\": \"ought not\",\n",
        "\"oughtn't've\": \"ought not have\",\n",
        "\"shan't\": \"shall not\",\n",
        "\"sha'n't\": \"shall not\",\n",
        "\"shan't've\": \"shall not have\",\n",
        "\"she'd\": \"she had / she would\",\n",
        "\"she'd've\": \"she would have\",\n",
        "\"she'll\": \"she will\",\n",
        "\"she'll've\": \"she will have\",\n",
        "\"she's\": \"sshe is\",\n",
        "\"should've\": \"should have\",\n",
        "\"shouldn't\": \"should not\",\n",
        "\"shouldn't've\": \"should not have\",\n",
        "\"so've\": \"so have\",\n",
        "\"so's\": \"so is\",\n",
        "\"that'd\": \"that would\",\n",
        "\"that'd've\": \"that would have\",\n",
        "\"that's\": \"that is\",\n",
        "\"there'd\": \"there would\",\n",
        "\"there'd've\": \"there would have\",\n",
        "\"there's\": \"there is\",\n",
        "\"they'd\": \"they would\",\n",
        "\"they'd've\": \"they would have\",\n",
        "\"they'll\": \"they will\",\n",
        "\"they'll've\": \"they will have\",\n",
        "\"they're\": \"they are\",\n",
        "\"they've\": \"they have\",\n",
        "\"to've\": \"to have\",\n",
        "\"wasn't\": \"was not\",\n",
        "\"we'd\": \"we would\",\n",
        "\"we'd've\": \"we would have\",\n",
        "\"we'll\": \"we will\",\n",
        "\"we'll've\": \"we will have\",\n",
        "\"we're\": \"we are\",\n",
        "\"we've\": \"we have\",\n",
        "\"weren't\": \"were not\",\n",
        "\"what'll\": \"what shall\"\n",
        "}\n",
        "\n",
        "def remove_apostrophe(s):\n",
        "    words = s.split()\n",
        "    reformed = [ APOSTROPHES[word] if word in APOSTROPHES else word for word in words ]\n",
        "    reformed = \" \".join(reformed)\n",
        "    return reformed"
      ],
      "execution_count": null,
      "outputs": []
    },
    {
      "cell_type": "code",
      "metadata": {
        "id": "ZJF-WTs0cWbE"
      },
      "source": [
        "import re\n",
        "def remove_URL(s):\n",
        "    return re.sub(r\"https?://\\S+|www\\.\\S+\", \"\", s)"
      ],
      "execution_count": null,
      "outputs": []
    },
    {
      "cell_type": "code",
      "metadata": {
        "id": "UfbSf787Uf4H"
      },
      "source": [
        "def remove_html(s):\n",
        "    html = re.compile(r\"<.*?>|&([a-z0-9]+|#[0-9]{1,6}|#x[0-9a-f]{1,6});\")\n",
        "    return re.sub(html, \"\", s)"
      ],
      "execution_count": null,
      "outputs": []
    },
    {
      "cell_type": "code",
      "metadata": {
        "id": "lb4rNEURYzyt"
      },
      "source": [
        "def remove_non_ascii(s):\n",
        "    return re.sub(r\"[^\\x00-\\x7f]\", r\"\", s) # not in range range of char code 0 to 127"
      ],
      "execution_count": null,
      "outputs": []
    },
    {
      "cell_type": "code",
      "metadata": {
        "id": "gcoNwhIDfpyR"
      },
      "source": [
        "def remove_emoji(s):\n",
        "    emoji_pattern = re.compile(\"[\"\n",
        "                               u\"\\U0001F600-\\U0001F64F\"  # emoticons\n",
        "                               u\"\\U0001F300-\\U0001F5FF\"  # symbols & pictographs\n",
        "                               u\"\\U0001F680-\\U0001F6FF\"  # transport & map symbols\n",
        "                               u\"\\U0001F1E0-\\U0001F1FF\"  # flags (iOS)\n",
        "                               u\"\\U00002500-\\U00002BEF\"  # chinese char\n",
        "                               u\"\\U00002702-\\U000027B0\"\n",
        "                               u\"\\U00002702-\\U000027B0\"\n",
        "                               u\"\\U000024C2-\\U0001F251\"\n",
        "                               u\"\\U0001f926-\\U0001f937\"\n",
        "                               u\"\\U00010000-\\U0010ffff\"\n",
        "                               u\"\\u2640-\\u2642\"\n",
        "                               u\"\\u2600-\\u2B55\"\n",
        "                               u\"\\u200d\"\n",
        "                               u\"\\u23cf\"\n",
        "                               u\"\\u23e9\"\n",
        "                               u\"\\u231a\"\n",
        "                               u\"\\ufe0f\"  # dingbats\n",
        "                               u\"\\u3030\"\n",
        "                               \"]+\", flags=re.UNICODE)\n",
        "    return emoji_pattern.sub(r'', s)"
      ],
      "execution_count": null,
      "outputs": []
    },
    {
      "cell_type": "code",
      "metadata": {
        "id": "Ikbi0hF1ftvn"
      },
      "source": [
        "import string\n",
        "\n",
        "def remove_punctuation(s):\n",
        "    return s.translate(str.maketrans('', '', string.punctuation))"
      ],
      "execution_count": null,
      "outputs": []
    },
    {
      "cell_type": "code",
      "metadata": {
        "id": "iqpQ_b7FEa8H"
      },
      "source": [
        "def remove_number(s):\n",
        "  result = ''.join([i for i in s if not i.isdigit()])\n",
        "  return result"
      ],
      "execution_count": null,
      "outputs": []
    },
    {
      "cell_type": "code",
      "metadata": {
        "id": "IJKVWGdvTf8K"
      },
      "source": [
        "preprocess('are u gay?68.33.41.181 http://abc google.com')"
      ],
      "execution_count": null,
      "outputs": []
    },
    {
      "cell_type": "code",
      "metadata": {
        "id": "0xC85hSPUtLj"
      },
      "source": [
        "preprocess('Same for File:SeanKilpatrick2014.jpg and File:ConnorBarwinCincy.png')"
      ],
      "execution_count": null,
      "outputs": []
    },
    {
      "cell_type": "code",
      "metadata": {
        "id": "syqInpUJXEys"
      },
      "source": [
        "def preprocess(comment):\n",
        "  comment = lower(comment)\n",
        "  comment = contraction(comment)\n",
        "  comment = remove_apostrophe(comment)\n",
        "  comment = remove_number(comment)\n",
        "  comment = remove_URL(comment)\n",
        "  comment = remove_html(comment)\n",
        "  comment = remove_non_ascii(comment)\n",
        "  comment = remove_emoji(comment)\n",
        "  comment = remove_punctuation(comment)\n",
        "  return lower(comment)"
      ],
      "execution_count": null,
      "outputs": []
    },
    {
      "cell_type": "code",
      "metadata": {
        "id": "Q3RY0cRXf0sY"
      },
      "source": [
        "df_train['clean_text'] = df_train['comment_text'].apply(lambda x: preprocess(x))"
      ],
      "execution_count": null,
      "outputs": []
    },
    {
      "cell_type": "code",
      "metadata": {
        "id": "zVs2i9kYbHm2"
      },
      "source": [
        "df_train.head()"
      ],
      "execution_count": null,
      "outputs": []
    },
    {
      "cell_type": "markdown",
      "metadata": {
        "id": "suSQxllQgs48"
      },
      "source": [
        "# Vectorize"
      ]
    },
    {
      "cell_type": "code",
      "metadata": {
        "id": "XW1zAGbPgurZ"
      },
      "source": [
        "from nltk.tokenize import word_tokenize\n",
        "nltk.download('punkt')\n",
        "\n",
        "df_train['tokenized'] = df_train['clean_text'].apply(word_tokenize)\n",
        "df_train.head(10)"
      ],
      "execution_count": null,
      "outputs": []
    },
    {
      "cell_type": "code",
      "metadata": {
        "id": "VbILhWXKiSA7"
      },
      "source": [
        "nltk.download(\"stopwords\")\n",
        "from nltk.corpus import stopwords\n",
        "\n",
        "stop = set(stopwords.words('english'))\n",
        "df_train['stopwords_removed'] = df_train['tokenized'].apply(lambda x: [word for word in x if word not in stop])\n",
        "df_train.head()"
      ],
      "execution_count": null,
      "outputs": []
    },
    {
      "cell_type": "code",
      "metadata": {
        "id": "WxAeqMydjZae"
      },
      "source": [
        "df_train['stopwords_removed'][2]"
      ],
      "execution_count": null,
      "outputs": []
    },
    {
      "cell_type": "code",
      "metadata": {
        "id": "qRNsRNaTjCJ4"
      },
      "source": [
        "import nltk\n",
        "nltk.download('wordnet')\n",
        "nltk.download('brown')\n",
        "\n",
        "from nltk.corpus import wordnet\n",
        "from nltk.corpus import brown\n",
        "\n",
        "wordnet_map = {\"N\":wordnet.NOUN, \n",
        "               \"V\":wordnet.VERB, \n",
        "               \"J\":wordnet.ADJ, \n",
        "               \"R\":wordnet.ADV\n",
        "              }\n",
        "    \n",
        "train_sents = brown.tagged_sents(categories='news')\n",
        "t0 = nltk.DefaultTagger('NN')\n",
        "t1 = nltk.UnigramTagger(train_sents, backoff=t0)\n",
        "t2 = nltk.BigramTagger(train_sents, backoff=t1)\n",
        "\n",
        "def pos_tag_wordnet(text, pos_tag_type=\"pos_tag\"):\n",
        "    \"\"\"\n",
        "        Create pos_tag with wordnet format\n",
        "    \"\"\"\n",
        "    pos_tagged_text = t2.tag(text)\n",
        "    \n",
        "    # map the pos tagging output with wordnet output \n",
        "    pos_tagged_text = [(word, wordnet_map.get(pos_tag[0])) if pos_tag[0] in wordnet_map.keys() else (word, wordnet.NOUN) for (word, pos_tag) in pos_tagged_text ] # if tag is in wordnet_map then map also default noun\n",
        "    return pos_tagged_text\n",
        "\n",
        "df_train['combined_postag_wnet'] = df_train['stopwords_removed'].apply(lambda x: pos_tag_wordnet(x))\n",
        "df_train.head()"
      ],
      "execution_count": null,
      "outputs": []
    },
    {
      "cell_type": "code",
      "metadata": {
        "id": "H1KW0ixjnepv"
      },
      "source": [
        "from nltk.stem import WordNetLemmatizer\n",
        "\n",
        "def lemmatize_word(text):\n",
        "    \"\"\"\n",
        "        Lemmatize the tokenized words\n",
        "    \"\"\"\n",
        "\n",
        "    lemmatizer = WordNetLemmatizer()\n",
        "    lemma = [lemmatizer.lemmatize(word, tag) for word, tag in text]\n",
        "    return lemma\n",
        "\n",
        "df_train['lemmatize_word_w_pos'] = df_train['combined_postag_wnet'].apply(lambda x: lemmatize_word(x))\n",
        "df_train['lemmatize_word_w_pos'] = df_train['lemmatize_word_w_pos'].apply(lambda x: [word for word in x if word not in stop]) # double check to remove stop words\n",
        "df_train['lemmatize_text'] = [' '.join(map(str, l)) for l in df_train['lemmatize_word_w_pos']] # join back to text\n",
        "\n",
        "df_train.head()"
      ],
      "execution_count": null,
      "outputs": []
    },
    {
      "cell_type": "code",
      "metadata": {
        "id": "dCPZ0HbVwYUL"
      },
      "source": [
        "df_test.head()"
      ],
      "execution_count": null,
      "outputs": []
    },
    {
      "cell_type": "code",
      "metadata": {
        "id": "Z5XbrJMGOlF8"
      },
      "source": [
        "df_train.to_csv(\"/content/drive/My Drive/CS3244 Project/train_lemmatized.csv\")"
      ],
      "execution_count": null,
      "outputs": []
    },
    {
      "cell_type": "code",
      "metadata": {
        "id": "rwaRkRNQOm6T"
      },
      "source": [
        "df_test.to_csv(\"/content/drive/My Drive/CS3244 Project/test_lemmatized.csv\")"
      ],
      "execution_count": null,
      "outputs": []
    },
    {
      "cell_type": "code",
      "metadata": {
        "id": "3Ky_Ee7Qn_rj"
      },
      "source": [
        "df_test['clean_text'] = df_test['comment_text'].apply(lambda x:preprocess(x))"
      ],
      "execution_count": null,
      "outputs": []
    },
    {
      "cell_type": "code",
      "metadata": {
        "id": "W8E_qGr7MR2j"
      },
      "source": [
        "df_test['tokenized'] = df_test['clean_text'].apply(word_tokenize)"
      ],
      "execution_count": null,
      "outputs": []
    },
    {
      "cell_type": "code",
      "metadata": {
        "id": "AdZEket_NOA0"
      },
      "source": [
        "stop = set(stopwords.words('english'))\n",
        "df_test['stopwords_removed'] = df_test['tokenized'].apply(lambda x: [word for word in x if word not in stop])"
      ],
      "execution_count": null,
      "outputs": []
    },
    {
      "cell_type": "code",
      "metadata": {
        "id": "mGvLDiKuODdX"
      },
      "source": [
        "df_test['combined_postag_wnet'] = df_test['stopwords_removed'].apply(lambda x: pos_tag_wordnet(x))"
      ],
      "execution_count": null,
      "outputs": []
    },
    {
      "cell_type": "code",
      "metadata": {
        "id": "Mn3yVuxDOiWK"
      },
      "source": [
        "df_test['lemmatize_word_w_pos'] = df_test['combined_postag_wnet'].apply(lambda x: lemmatize_word(x))\n",
        "df_test['lemmatize_word_w_pos'] = df_test['lemmatize_word_w_pos'].apply(lambda x: [word for word in x if word not in stop]) # double check to remove stop words\n",
        "df_test['lemmatize_text'] = [' '.join(map(str, l)) for l in df_test['lemmatize_word_w_pos']] # join back to text"
      ],
      "execution_count": null,
      "outputs": []
    },
    {
      "cell_type": "markdown",
      "metadata": {
        "id": "YsUf_6m9FKiM"
      },
      "source": [
        "# Model Building"
      ]
    },
    {
      "cell_type": "code",
      "metadata": {
        "id": "4NdYX5WlDfZq"
      },
      "source": [
        "# Import packages for pre-processing\n",
        "from sklearn import preprocessing\n",
        "from sklearn.feature_selection import SelectFromModel\n",
        "\n",
        "# Import tools to split data and evaluate model performance\n",
        "from sklearn.model_selection import train_test_split, KFold, cross_val_score\n",
        "from sklearn.metrics import f1_score, precision_score, recall_score, precision_recall_curve, fbeta_score, confusion_matrix\n",
        "from sklearn.metrics import roc_auc_score, roc_curve\n",
        "\n",
        "# Import ML algos\n",
        "from sklearn.linear_model import LogisticRegression\n",
        "from sklearn.neighbors import KNeighborsClassifier\n",
        "from sklearn.naive_bayes import MultinomialNB, BernoulliNB\n",
        "from sklearn.svm import LinearSVC\n",
        "from sklearn.ensemble import RandomForestClassifier"
      ],
      "execution_count": null,
      "outputs": []
    },
    {
      "cell_type": "code",
      "metadata": {
        "id": "lkruQNucZGSV"
      },
      "source": [
        "df_train = df_train.fillna(\"\")\n",
        "df_test = df_test.fillna(\"\")"
      ],
      "execution_count": null,
      "outputs": []
    },
    {
      "cell_type": "code",
      "metadata": {
        "id": "WAW5xHqaCZBI"
      },
      "source": [
        "data_tox = df_train.loc[:, ['id', 'lemmatize_text', 'toxic']]\n",
        "data_sev = df_train.loc[:, ['id', 'lemmatize_text', 'severe_toxic']]\n",
        "data_obs = df_train.loc[:, ['id', 'lemmatize_text', 'obscene']]\n",
        "data_thr = df_train.loc[:, ['id', 'lemmatize_text', 'threat']]\n",
        "data_ins = df_train.loc[:, ['id', 'lemmatize_text', 'insult']]\n",
        "data_ide = df_train.loc[:, ['id', 'lemmatize_text', 'identity_hate']]"
      ],
      "execution_count": null,
      "outputs": []
    },
    {
      "cell_type": "code",
      "metadata": {
        "id": "H8fxomUBGHOb"
      },
      "source": [
        "'''\n",
        "df_done: data_tox_done, data_sev_done, ...\n",
        "label: toxic, severe_toxic, ...\n",
        "vectorizer values: CountVectorizer, TfidfVectorizer\n",
        "gram_range values: (1,1) for unigram, (2,2) for bigram\n",
        "'''\n",
        "\n",
        "def cv_tf_train_test(df_type,label,vectorizer,ngram):\n",
        "\n",
        "    ''' Train/Test split'''\n",
        "    # Split the data into X and y data sets\n",
        "    X = df_type.lemmatize_text\n",
        "    y = df_type[label]\n",
        "\n",
        "    # Split our data into training and test data \n",
        "    X_train, X_test, y_train, y_test = train_test_split(X, y, test_size=0.3, random_state=42)\n",
        "\n",
        "    ''' Count Vectorizer/TF-IDF '''\n",
        "\n",
        "    # Create a Vectorizer object and remove stopwords from the table\n",
        "    cv1 = vectorizer(ngram_range=(ngram), max_features=5000, strip_accents='unicode', analyzer='word', norm='l2')\n",
        "    \n",
        "    X_train_cv1 = cv1.fit_transform(X_train) # Learn the vocabulary dictionary and return term-document matrix\n",
        "    X_test_cv1  = cv1.transform(X_test)      # Learn a vocabulary dictionary of all tokens in the raw documents.\n",
        "    \n",
        "    # Output a Dataframe of the CountVectorizer with unique words as the labels\n",
        "    # test = pd.DataFrame(X_train_cv1.toarray(), columns=cv1.get_feature_names())\n",
        "        \n",
        "    ''' Initialize all model objects and fit the models on the training data '''\n",
        "    lr = LogisticRegression(max_iter=300)\n",
        "    lr.fit(X_train_cv1, y_train)\n",
        "    print('lr done')\n",
        "\n",
        "    knn = KNeighborsClassifier(n_neighbors=5)\n",
        "    knn.fit(X_train_cv1, y_train)\n",
        "    print('knn done')\n",
        "\n",
        "    bnb = BernoulliNB()\n",
        "    bnb.fit(X_train_cv1, y_train)\n",
        "    print('bnb done')\n",
        "    \n",
        "    mnb = MultinomialNB()\n",
        "    mnb.fit(X_train_cv1, y_train)\n",
        "    print('mnb done')\n",
        "    \n",
        "    # svm_model = LinearSVC()\n",
        "    # svm_model.fit(X_train_cv1, y_train)\n",
        "    # print('svm done')\n",
        "\n",
        "    randomforest = RandomForestClassifier(n_estimators=50, random_state=42)\n",
        "    randomforest.fit(X_train_cv1, y_train)\n",
        "    print('rdf done')\n",
        "\n",
        "    print(len(y_test))\n",
        "    print(roc_auc_score(y_test, lr.predict_proba(X_test_cv1)[:,1]))    \n",
        "    # Create a list of F1 score of all models \n",
        "    f1_score_data = {'Roc Auc Score':[roc_auc_score(y_test, lr.predict_proba(X_test_cv1)[:,1]), roc_auc_score(y_test, knn.predict_proba(X_test_cv1)[:,1]),\n",
        "                                      roc_auc_score(y_test, bnb.predict_proba(X_test_cv1)[:,1]), roc_auc_score(y_test, mnb.predict_proba(X_test_cv1)[:,1]),\n",
        "                                      roc_auc_score(y_test, svm_model.predict_proba(X_test_cv1)[:,1]), roc_auc_score(y_test, randomforest.predict_proba(X_test_cv1)[:,1])]} \n",
        "                          \n",
        "    # Create DataFrame with the model names as column labels\n",
        "    df_f1 = pd.DataFrame(f1_score_data, index=['Log Regression','KNN', 'BernoulliNB', 'MultinomialNB', '', 'RandomForest'])  "
      ],
      "execution_count": null,
      "outputs": []
    },
    {
      "cell_type": "code",
      "metadata": {
        "id": "oT_coXE3QI4P",
        "colab": {
          "base_uri": "https://localhost:8080/",
          "height": 355
        },
        "outputId": "f863a6d9-347e-4130-d2b2-2976ffdebef1"
      },
      "source": [
        "'''\n",
        "def cv_tf_train_test(df_done,label,vectorizer,ngram)\n",
        "vectorizer values: CountVectorizer, TfidfVectorizer\n",
        "ngram_range values: (1,1) for unigram, (2,2) for bigram\n",
        "'''\n",
        "\n",
        "import time\n",
        "\n",
        "t0 = time.time()\n",
        "\n",
        "df_ide_cv = cv_tf_train_test(data_ide, 'identity_hate', TfidfVectorizer, (1,2))\n",
        "df_ide_cv.rename(columns={'F1 Score': 'F1 Score(identity_hate)', 'Roc Auc Score': 'Roc Auc Score(identity_hate)'}, inplace=True)\n",
        "\n",
        "t1 = time.time()\n",
        "\n",
        "total = 'Time taken: {} seconds'.format(t1-t0)\n",
        "print(total)\n",
        "\n",
        "df_ide_cv"
      ],
      "execution_count": null,
      "outputs": [
        {
          "output_type": "stream",
          "text": [
            "lr done\n",
            "knn done\n",
            "bnb done\n",
            "mnb done\n",
            "svm done\n",
            "rdf done\n",
            "Time taken: 289.2395284175873 seconds\n"
          ],
          "name": "stdout"
        },
        {
          "output_type": "execute_result",
          "data": {
            "text/html": [
              "<div>\n",
              "<style scoped>\n",
              "    .dataframe tbody tr th:only-of-type {\n",
              "        vertical-align: middle;\n",
              "    }\n",
              "\n",
              "    .dataframe tbody tr th {\n",
              "        vertical-align: top;\n",
              "    }\n",
              "\n",
              "    .dataframe thead th {\n",
              "        text-align: right;\n",
              "    }\n",
              "</style>\n",
              "<table border=\"1\" class=\"dataframe\">\n",
              "  <thead>\n",
              "    <tr style=\"text-align: right;\">\n",
              "      <th></th>\n",
              "      <th>F1 Score(identity_hate)</th>\n",
              "    </tr>\n",
              "  </thead>\n",
              "  <tbody>\n",
              "    <tr>\n",
              "      <th>Log Regression</th>\n",
              "      <td>0.287648</td>\n",
              "    </tr>\n",
              "    <tr>\n",
              "      <th>KNN</th>\n",
              "      <td>0.204668</td>\n",
              "    </tr>\n",
              "    <tr>\n",
              "      <th>BernoulliNB</th>\n",
              "      <td>0.117614</td>\n",
              "    </tr>\n",
              "    <tr>\n",
              "      <th>MultinomialNB</th>\n",
              "      <td>0.165441</td>\n",
              "    </tr>\n",
              "    <tr>\n",
              "      <th>SVM</th>\n",
              "      <td>0.353303</td>\n",
              "    </tr>\n",
              "    <tr>\n",
              "      <th>Random Forest</th>\n",
              "      <td>0.209765</td>\n",
              "    </tr>\n",
              "  </tbody>\n",
              "</table>\n",
              "</div>"
            ],
            "text/plain": [
              "                F1 Score(identity_hate)\n",
              "Log Regression                 0.287648\n",
              "KNN                            0.204668\n",
              "BernoulliNB                    0.117614\n",
              "MultinomialNB                  0.165441\n",
              "SVM                            0.353303\n",
              "Random Forest                  0.209765"
            ]
          },
          "metadata": {
            "tags": []
          },
          "execution_count": 103
        }
      ]
    },
    {
      "cell_type": "code",
      "metadata": {
        "id": "AHsQJa8EQgbk",
        "colab": {
          "base_uri": "https://localhost:8080/",
          "height": 228
        },
        "outputId": "2b9971e1-301f-4d4a-b141-acd165d83631"
      },
      "source": [
        "f1_all = pd.concat([df_tox_cv, df_sev_cv, df_obs_cv, df_ins_cv, df_thr_cv, df_ide_cv], axis=1)\n",
        "f1_all"
      ],
      "execution_count": null,
      "outputs": [
        {
          "output_type": "execute_result",
          "data": {
            "text/html": [
              "<div>\n",
              "<style scoped>\n",
              "    .dataframe tbody tr th:only-of-type {\n",
              "        vertical-align: middle;\n",
              "    }\n",
              "\n",
              "    .dataframe tbody tr th {\n",
              "        vertical-align: top;\n",
              "    }\n",
              "\n",
              "    .dataframe thead th {\n",
              "        text-align: right;\n",
              "    }\n",
              "</style>\n",
              "<table border=\"1\" class=\"dataframe\">\n",
              "  <thead>\n",
              "    <tr style=\"text-align: right;\">\n",
              "      <th></th>\n",
              "      <th>F1 Score(toxic)</th>\n",
              "      <th>F1 Score(severe_toxic)</th>\n",
              "      <th>F1 Score(obscene)</th>\n",
              "      <th>F1 Score(insult)</th>\n",
              "      <th>F1 Score(threat)</th>\n",
              "      <th>F1 Score(identity_hate)</th>\n",
              "    </tr>\n",
              "  </thead>\n",
              "  <tbody>\n",
              "    <tr>\n",
              "      <th>Log Regression</th>\n",
              "      <td>0.723269</td>\n",
              "      <td>0.344828</td>\n",
              "      <td>0.734251</td>\n",
              "      <td>0.639721</td>\n",
              "      <td>0.176796</td>\n",
              "      <td>0.287648</td>\n",
              "    </tr>\n",
              "    <tr>\n",
              "      <th>KNN</th>\n",
              "      <td>0.445968</td>\n",
              "      <td>0.243386</td>\n",
              "      <td>0.486952</td>\n",
              "      <td>0.428456</td>\n",
              "      <td>0.176166</td>\n",
              "      <td>0.204668</td>\n",
              "    </tr>\n",
              "    <tr>\n",
              "      <th>BernoulliNB</th>\n",
              "      <td>0.341392</td>\n",
              "      <td>0.111934</td>\n",
              "      <td>0.245026</td>\n",
              "      <td>0.229751</td>\n",
              "      <td>0.177340</td>\n",
              "      <td>0.117614</td>\n",
              "    </tr>\n",
              "    <tr>\n",
              "      <th>MultinomialNB</th>\n",
              "      <td>0.653518</td>\n",
              "      <td>0.242236</td>\n",
              "      <td>0.665026</td>\n",
              "      <td>0.581361</td>\n",
              "      <td>0.000000</td>\n",
              "      <td>0.165441</td>\n",
              "    </tr>\n",
              "    <tr>\n",
              "      <th>SVM</th>\n",
              "      <td>0.747109</td>\n",
              "      <td>0.320323</td>\n",
              "      <td>0.761069</td>\n",
              "      <td>0.653589</td>\n",
              "      <td>0.309179</td>\n",
              "      <td>0.353303</td>\n",
              "    </tr>\n",
              "    <tr>\n",
              "      <th>Random Forest</th>\n",
              "      <td>0.729846</td>\n",
              "      <td>0.120325</td>\n",
              "      <td>0.776119</td>\n",
              "      <td>0.644310</td>\n",
              "      <td>0.080460</td>\n",
              "      <td>0.209765</td>\n",
              "    </tr>\n",
              "  </tbody>\n",
              "</table>\n",
              "</div>"
            ],
            "text/plain": [
              "                F1 Score(toxic)  ...  F1 Score(identity_hate)\n",
              "Log Regression         0.723269  ...                 0.287648\n",
              "KNN                    0.445968  ...                 0.204668\n",
              "BernoulliNB            0.341392  ...                 0.117614\n",
              "MultinomialNB          0.653518  ...                 0.165441\n",
              "SVM                    0.747109  ...                 0.353303\n",
              "Random Forest          0.729846  ...                 0.209765\n",
              "\n",
              "[6 rows x 6 columns]"
            ]
          },
          "metadata": {
            "tags": []
          },
          "execution_count": 105
        }
      ]
    },
    {
      "cell_type": "markdown",
      "metadata": {
        "id": "U9wGPylU8Kv7"
      },
      "source": [
        "# Sk-multilearn"
      ]
    },
    {
      "cell_type": "code",
      "metadata": {
        "id": "u0vFnOBQFsIx",
        "colab": {
          "base_uri": "https://localhost:8080/",
          "height": 102
        },
        "outputId": "e7656dae-5a04-4048-d619-04ad2d6d1db0"
      },
      "source": [
        "!pip install scikit-multilearn"
      ],
      "execution_count": null,
      "outputs": [
        {
          "output_type": "stream",
          "text": [
            "Collecting scikit-multilearn\n",
            "\u001b[?25l  Downloading https://files.pythonhosted.org/packages/bb/1f/e6ff649c72a1cdf2c7a1d31eb21705110ce1c5d3e7e26b2cc300e1637272/scikit_multilearn-0.2.0-py3-none-any.whl (89kB)\n",
            "\r\u001b[K     |███▊                            | 10kB 15.5MB/s eta 0:00:01\r\u001b[K     |███████▍                        | 20kB 2.1MB/s eta 0:00:01\r\u001b[K     |███████████                     | 30kB 2.8MB/s eta 0:00:01\r\u001b[K     |██████████████▊                 | 40kB 3.1MB/s eta 0:00:01\r\u001b[K     |██████████████████▍             | 51kB 2.4MB/s eta 0:00:01\r\u001b[K     |██████████████████████          | 61kB 2.7MB/s eta 0:00:01\r\u001b[K     |█████████████████████████▊      | 71kB 3.0MB/s eta 0:00:01\r\u001b[K     |█████████████████████████████▍  | 81kB 3.2MB/s eta 0:00:01\r\u001b[K     |████████████████████████████████| 92kB 2.6MB/s \n",
            "\u001b[?25hInstalling collected packages: scikit-multilearn\n",
            "Successfully installed scikit-multilearn-0.2.0\n"
          ],
          "name": "stdout"
        }
      ]
    },
    {
      "cell_type": "code",
      "metadata": {
        "id": "fJp6r-X3DrqD",
        "colab": {
          "base_uri": "https://localhost:8080/",
          "height": 1000
        },
        "outputId": "e19185ee-c02e-4802-db7d-2fba00271893"
      },
      "source": [
        "from sklearn.linear_model import LogisticRegression\n",
        "from sklearn.pipeline import Pipeline\n",
        "from sklearn.metrics import accuracy_score\n",
        "from sklearn.multiclass import OneVsRestClassifier\n",
        "from sklearn.model_selection import train_test_split\n",
        "from sklearn.metrics import f1_score, precision_score, recall_score, precision_recall_curve, fbeta_score, confusion_matrix, roc_auc_score\n",
        "\n",
        "labels = ['toxic', 'severe_toxic', 'obscene', 'insult', 'threat', 'identity_hate']\n",
        "\n",
        "# train and test set\n",
        "X_train, X_test, y_train, y_test = train_test_split(df_train, df_train[labels], test_size=0.3, random_state=42)\n",
        "\n",
        "# Vectorize X_train, X_test\n",
        "vectorizer = TfidfVectorizer(strip_accents='unicode', analyzer='word', ngram_range=(1,1), norm='l2', max_features=5000)\n",
        "\n",
        "X_train_vectorized = vectorizer.fit_transform(X_train['lemmatize_text']) # note that X_train is converted into a \"sparse matrix\"\n",
        "X_test_vectorized = vectorizer.transform(X_test['lemmatize_text']) # note that for new comments, we also need to transform them into sparse matrix before prediction\n",
        "\n",
        "# initialize LabelPowerset multi-label classifier with a RandomForest\n",
        "LogReg_pipeline = Pipeline([\n",
        "                ('clf', OneVsRestClassifier(LogisticRegression(solver='sag'), n_jobs=-1)), # 'clf' is just the name of the OneVsRestClassifier\n",
        "            ])\n",
        "\n",
        "# train\n",
        "for label in labels:\n",
        "  print('**Processing {} comments...**'.format(label))\n",
        "  LogReg_pipeline.fit(X_train_vectorized, y_train[label])\n",
        "  prediction = LogReg_pipeline.predict(X_test_vectorized)\n",
        "\n",
        "  print('Test accuracy is {}'.format(accuracy_score(y_test[label], prediction)))\n",
        "  print('F1 score is {}'.format(f1_score(y_test[label], prediction)))\n",
        "  print('Confusion matrix: \\n', confusion_matrix(y_test[label], prediction))\n",
        "  print('roc_auc_score: \\n', roc_auc_score(y_test[label], prediction))\n",
        "  print(\"\\n\")\n"
      ],
      "execution_count": null,
      "outputs": [
        {
          "output_type": "stream",
          "text": [
            "**Processing toxic comments...**\n",
            "Test accuracy is 0.955276570855615\n",
            "F1 score is 0.7153304081904003\n",
            "Confusion matrix: \n",
            " [[43041   249]\n",
            " [ 1892  2690]]\n",
            "roc_auc_score: \n",
            " 0.7906639860153609\n",
            "\n",
            "\n",
            "**Processing severe_toxic comments...**\n",
            "Test accuracy is 0.9904954879679144\n",
            "F1 score is 0.341534008683068\n",
            "Confusion matrix: \n",
            " [[47299    87]\n",
            " [  368   118]]\n",
            "roc_auc_score: \n",
            " 0.6204811842986737\n",
            "\n",
            "\n",
            "**Processing obscene comments...**\n",
            "Test accuracy is 0.9756433823529411\n",
            "F1 score is 0.7247403210576016\n",
            "Confusion matrix: \n",
            " [[45171   145]\n",
            " [ 1021  1535]]\n",
            "roc_auc_score: \n",
            " 0.7986739889913722\n",
            "\n",
            "\n",
            "**Processing insult comments...**\n",
            "Test accuracy is 0.9688335561497327\n",
            "F1 score is 0.6071616640337019\n",
            "Confusion matrix: \n",
            " [[45227   256]\n",
            " [ 1236  1153]]\n",
            "roc_auc_score: \n",
            " 0.7385001191849132\n",
            "\n",
            "\n",
            "**Processing threat comments...**\n",
            "Test accuracy is 0.9973888703208557\n",
            "F1 score is 0.2038216560509554\n",
            "Confusion matrix: \n",
            " [[47731     5]\n",
            " [  120    16]]\n",
            "roc_auc_score: \n",
            " 0.558771158035864\n",
            "\n",
            "\n",
            "**Processing identity_hate comments...**\n",
            "Test accuracy is 0.991915942513369\n",
            "F1 score is 0.2656546489563567\n",
            "Confusion matrix: \n",
            " [[47415    25]\n",
            " [  362    70]]\n",
            "roc_auc_score: \n",
            " 0.5807550277933919\n",
            "\n",
            "\n"
          ],
          "name": "stdout"
        }
      ]
    },
    {
      "cell_type": "code",
      "metadata": {
        "id": "bZq4wPMaI-9N",
        "colab": {
          "base_uri": "https://localhost:8080/",
          "height": 51
        },
        "outputId": "d8852299-36d2-41e5-e4f2-a0bca5e96916"
      },
      "source": [
        "X_train_vectorized"
      ],
      "execution_count": null,
      "outputs": [
        {
          "output_type": "execute_result",
          "data": {
            "text/plain": [
              "<111699x50000 sparse matrix of type '<class 'numpy.float64'>'\n",
              "\twith 2760464 stored elements in Compressed Sparse Row format>"
            ]
          },
          "metadata": {
            "tags": []
          },
          "execution_count": 26
        }
      ]
    },
    {
      "cell_type": "code",
      "metadata": {
        "id": "bXrVPxaoKNl7",
        "colab": {
          "base_uri": "https://localhost:8080/",
          "height": 35
        },
        "outputId": "37f4dde2-53e1-41e9-b863-3c43f20c0802"
      },
      "source": [
        "X_train[X_train['severe_toxic'] == 1]['lemmatize_text'].iloc[3]"
      ],
      "execution_count": null,
      "outputs": [
        {
          "output_type": "execute_result",
          "data": {
            "application/vnd.google.colaboratory.intrinsic+json": {
              "type": "string"
            },
            "text/plain": [
              "'need verifiable source statement check user page fat miserable balding fuck'"
            ]
          },
          "metadata": {
            "tags": []
          },
          "execution_count": 27
        }
      ]
    },
    {
      "cell_type": "code",
      "metadata": {
        "id": "zRDfPhm7HMpk",
        "colab": {
          "base_uri": "https://localhost:8080/",
          "height": 35
        },
        "outputId": "3bad75c5-d0c5-4edf-b0de-b615d1216db7"
      },
      "source": [
        "X_test[X_test['severe_toxic'] == 1]['lemmatize_text'].iloc[1]"
      ],
      "execution_count": null,
      "outputs": [
        {
          "output_type": "execute_result",
          "data": {
            "application/vnd.google.colaboratory.intrinsic+json": {
              "type": "string"
            },
            "text/plain": [
              "'motherfucking assholesuck dickyou dirty son whore'"
            ]
          },
          "metadata": {
            "tags": []
          },
          "execution_count": 28
        }
      ]
    },
    {
      "cell_type": "code",
      "metadata": {
        "id": "T-MQMMgTAyxx",
        "colab": {
          "base_uri": "https://localhost:8080/",
          "height": 222
        },
        "outputId": "4cdc19d9-7694-4b2a-fbe3-02b68b08fe11"
      },
      "source": [
        "test_sentences = ['stupid shit', 'suck dikkkkk suck dikkkkk gogo gogo give blowjob demand', 'motherfucking assholesuck dickyou dirty son whore', 'becasue asshole cunt fucking asshole whimsical reverts legitimate addition biased nature go fuck pathetic existence']\n",
        "test_sentences = pd.Series(test_sentences)\n",
        "test = vectorizer.transform(test_sentences)  # convert sentence into sparse matrix\n",
        "\n",
        "# visualize the sparse matrix\n",
        "import scipy.sparse\n",
        "pd.DataFrame.sparse.from_spmatrix(test)"
      ],
      "execution_count": null,
      "outputs": [
        {
          "output_type": "execute_result",
          "data": {
            "text/html": [
              "<div>\n",
              "<style scoped>\n",
              "    .dataframe tbody tr th:only-of-type {\n",
              "        vertical-align: middle;\n",
              "    }\n",
              "\n",
              "    .dataframe tbody tr th {\n",
              "        vertical-align: top;\n",
              "    }\n",
              "\n",
              "    .dataframe thead th {\n",
              "        text-align: right;\n",
              "    }\n",
              "</style>\n",
              "<table border=\"1\" class=\"dataframe\">\n",
              "  <thead>\n",
              "    <tr style=\"text-align: right;\">\n",
              "      <th></th>\n",
              "      <th>0</th>\n",
              "      <th>1</th>\n",
              "      <th>2</th>\n",
              "      <th>3</th>\n",
              "      <th>4</th>\n",
              "      <th>5</th>\n",
              "      <th>6</th>\n",
              "      <th>7</th>\n",
              "      <th>8</th>\n",
              "      <th>9</th>\n",
              "      <th>10</th>\n",
              "      <th>11</th>\n",
              "      <th>12</th>\n",
              "      <th>13</th>\n",
              "      <th>14</th>\n",
              "      <th>15</th>\n",
              "      <th>16</th>\n",
              "      <th>17</th>\n",
              "      <th>18</th>\n",
              "      <th>19</th>\n",
              "      <th>20</th>\n",
              "      <th>21</th>\n",
              "      <th>22</th>\n",
              "      <th>23</th>\n",
              "      <th>24</th>\n",
              "      <th>25</th>\n",
              "      <th>26</th>\n",
              "      <th>27</th>\n",
              "      <th>28</th>\n",
              "      <th>29</th>\n",
              "      <th>30</th>\n",
              "      <th>31</th>\n",
              "      <th>32</th>\n",
              "      <th>33</th>\n",
              "      <th>34</th>\n",
              "      <th>35</th>\n",
              "      <th>36</th>\n",
              "      <th>37</th>\n",
              "      <th>38</th>\n",
              "      <th>39</th>\n",
              "      <th>...</th>\n",
              "      <th>49960</th>\n",
              "      <th>49961</th>\n",
              "      <th>49962</th>\n",
              "      <th>49963</th>\n",
              "      <th>49964</th>\n",
              "      <th>49965</th>\n",
              "      <th>49966</th>\n",
              "      <th>49967</th>\n",
              "      <th>49968</th>\n",
              "      <th>49969</th>\n",
              "      <th>49970</th>\n",
              "      <th>49971</th>\n",
              "      <th>49972</th>\n",
              "      <th>49973</th>\n",
              "      <th>49974</th>\n",
              "      <th>49975</th>\n",
              "      <th>49976</th>\n",
              "      <th>49977</th>\n",
              "      <th>49978</th>\n",
              "      <th>49979</th>\n",
              "      <th>49980</th>\n",
              "      <th>49981</th>\n",
              "      <th>49982</th>\n",
              "      <th>49983</th>\n",
              "      <th>49984</th>\n",
              "      <th>49985</th>\n",
              "      <th>49986</th>\n",
              "      <th>49987</th>\n",
              "      <th>49988</th>\n",
              "      <th>49989</th>\n",
              "      <th>49990</th>\n",
              "      <th>49991</th>\n",
              "      <th>49992</th>\n",
              "      <th>49993</th>\n",
              "      <th>49994</th>\n",
              "      <th>49995</th>\n",
              "      <th>49996</th>\n",
              "      <th>49997</th>\n",
              "      <th>49998</th>\n",
              "      <th>49999</th>\n",
              "    </tr>\n",
              "  </thead>\n",
              "  <tbody>\n",
              "    <tr>\n",
              "      <th>0</th>\n",
              "      <td>0.0</td>\n",
              "      <td>0.0</td>\n",
              "      <td>0.0</td>\n",
              "      <td>0.0</td>\n",
              "      <td>0.0</td>\n",
              "      <td>0.0</td>\n",
              "      <td>0.0</td>\n",
              "      <td>0.0</td>\n",
              "      <td>0.0</td>\n",
              "      <td>0.0</td>\n",
              "      <td>0.0</td>\n",
              "      <td>0.0</td>\n",
              "      <td>0.0</td>\n",
              "      <td>0.0</td>\n",
              "      <td>0.0</td>\n",
              "      <td>0.0</td>\n",
              "      <td>0.0</td>\n",
              "      <td>0.0</td>\n",
              "      <td>0.0</td>\n",
              "      <td>0.0</td>\n",
              "      <td>0.0</td>\n",
              "      <td>0.0</td>\n",
              "      <td>0.0</td>\n",
              "      <td>0.0</td>\n",
              "      <td>0.0</td>\n",
              "      <td>0.0</td>\n",
              "      <td>0.0</td>\n",
              "      <td>0.0</td>\n",
              "      <td>0.0</td>\n",
              "      <td>0.0</td>\n",
              "      <td>0.0</td>\n",
              "      <td>0.0</td>\n",
              "      <td>0.0</td>\n",
              "      <td>0.0</td>\n",
              "      <td>0.0</td>\n",
              "      <td>0.0</td>\n",
              "      <td>0.0</td>\n",
              "      <td>0.0</td>\n",
              "      <td>0.0</td>\n",
              "      <td>0.0</td>\n",
              "      <td>...</td>\n",
              "      <td>0.0</td>\n",
              "      <td>0.0</td>\n",
              "      <td>0.0</td>\n",
              "      <td>0.0</td>\n",
              "      <td>0.0</td>\n",
              "      <td>0.0</td>\n",
              "      <td>0.0</td>\n",
              "      <td>0.0</td>\n",
              "      <td>0.0</td>\n",
              "      <td>0.0</td>\n",
              "      <td>0.0</td>\n",
              "      <td>0.0</td>\n",
              "      <td>0.0</td>\n",
              "      <td>0.0</td>\n",
              "      <td>0.0</td>\n",
              "      <td>0.0</td>\n",
              "      <td>0.0</td>\n",
              "      <td>0.0</td>\n",
              "      <td>0.0</td>\n",
              "      <td>0.0</td>\n",
              "      <td>0.0</td>\n",
              "      <td>0.0</td>\n",
              "      <td>0.0</td>\n",
              "      <td>0.0</td>\n",
              "      <td>0.0</td>\n",
              "      <td>0.0</td>\n",
              "      <td>0.0</td>\n",
              "      <td>0.0</td>\n",
              "      <td>0.0</td>\n",
              "      <td>0.0</td>\n",
              "      <td>0.0</td>\n",
              "      <td>0.0</td>\n",
              "      <td>0.0</td>\n",
              "      <td>0.0</td>\n",
              "      <td>0.0</td>\n",
              "      <td>0.0</td>\n",
              "      <td>0.0</td>\n",
              "      <td>0.0</td>\n",
              "      <td>0.0</td>\n",
              "      <td>0.0</td>\n",
              "    </tr>\n",
              "    <tr>\n",
              "      <th>1</th>\n",
              "      <td>0.0</td>\n",
              "      <td>0.0</td>\n",
              "      <td>0.0</td>\n",
              "      <td>0.0</td>\n",
              "      <td>0.0</td>\n",
              "      <td>0.0</td>\n",
              "      <td>0.0</td>\n",
              "      <td>0.0</td>\n",
              "      <td>0.0</td>\n",
              "      <td>0.0</td>\n",
              "      <td>0.0</td>\n",
              "      <td>0.0</td>\n",
              "      <td>0.0</td>\n",
              "      <td>0.0</td>\n",
              "      <td>0.0</td>\n",
              "      <td>0.0</td>\n",
              "      <td>0.0</td>\n",
              "      <td>0.0</td>\n",
              "      <td>0.0</td>\n",
              "      <td>0.0</td>\n",
              "      <td>0.0</td>\n",
              "      <td>0.0</td>\n",
              "      <td>0.0</td>\n",
              "      <td>0.0</td>\n",
              "      <td>0.0</td>\n",
              "      <td>0.0</td>\n",
              "      <td>0.0</td>\n",
              "      <td>0.0</td>\n",
              "      <td>0.0</td>\n",
              "      <td>0.0</td>\n",
              "      <td>0.0</td>\n",
              "      <td>0.0</td>\n",
              "      <td>0.0</td>\n",
              "      <td>0.0</td>\n",
              "      <td>0.0</td>\n",
              "      <td>0.0</td>\n",
              "      <td>0.0</td>\n",
              "      <td>0.0</td>\n",
              "      <td>0.0</td>\n",
              "      <td>0.0</td>\n",
              "      <td>...</td>\n",
              "      <td>0.0</td>\n",
              "      <td>0.0</td>\n",
              "      <td>0.0</td>\n",
              "      <td>0.0</td>\n",
              "      <td>0.0</td>\n",
              "      <td>0.0</td>\n",
              "      <td>0.0</td>\n",
              "      <td>0.0</td>\n",
              "      <td>0.0</td>\n",
              "      <td>0.0</td>\n",
              "      <td>0.0</td>\n",
              "      <td>0.0</td>\n",
              "      <td>0.0</td>\n",
              "      <td>0.0</td>\n",
              "      <td>0.0</td>\n",
              "      <td>0.0</td>\n",
              "      <td>0.0</td>\n",
              "      <td>0.0</td>\n",
              "      <td>0.0</td>\n",
              "      <td>0.0</td>\n",
              "      <td>0.0</td>\n",
              "      <td>0.0</td>\n",
              "      <td>0.0</td>\n",
              "      <td>0.0</td>\n",
              "      <td>0.0</td>\n",
              "      <td>0.0</td>\n",
              "      <td>0.0</td>\n",
              "      <td>0.0</td>\n",
              "      <td>0.0</td>\n",
              "      <td>0.0</td>\n",
              "      <td>0.0</td>\n",
              "      <td>0.0</td>\n",
              "      <td>0.0</td>\n",
              "      <td>0.0</td>\n",
              "      <td>0.0</td>\n",
              "      <td>0.0</td>\n",
              "      <td>0.0</td>\n",
              "      <td>0.0</td>\n",
              "      <td>0.0</td>\n",
              "      <td>0.0</td>\n",
              "    </tr>\n",
              "    <tr>\n",
              "      <th>2</th>\n",
              "      <td>0.0</td>\n",
              "      <td>0.0</td>\n",
              "      <td>0.0</td>\n",
              "      <td>0.0</td>\n",
              "      <td>0.0</td>\n",
              "      <td>0.0</td>\n",
              "      <td>0.0</td>\n",
              "      <td>0.0</td>\n",
              "      <td>0.0</td>\n",
              "      <td>0.0</td>\n",
              "      <td>0.0</td>\n",
              "      <td>0.0</td>\n",
              "      <td>0.0</td>\n",
              "      <td>0.0</td>\n",
              "      <td>0.0</td>\n",
              "      <td>0.0</td>\n",
              "      <td>0.0</td>\n",
              "      <td>0.0</td>\n",
              "      <td>0.0</td>\n",
              "      <td>0.0</td>\n",
              "      <td>0.0</td>\n",
              "      <td>0.0</td>\n",
              "      <td>0.0</td>\n",
              "      <td>0.0</td>\n",
              "      <td>0.0</td>\n",
              "      <td>0.0</td>\n",
              "      <td>0.0</td>\n",
              "      <td>0.0</td>\n",
              "      <td>0.0</td>\n",
              "      <td>0.0</td>\n",
              "      <td>0.0</td>\n",
              "      <td>0.0</td>\n",
              "      <td>0.0</td>\n",
              "      <td>0.0</td>\n",
              "      <td>0.0</td>\n",
              "      <td>0.0</td>\n",
              "      <td>0.0</td>\n",
              "      <td>0.0</td>\n",
              "      <td>0.0</td>\n",
              "      <td>0.0</td>\n",
              "      <td>...</td>\n",
              "      <td>0.0</td>\n",
              "      <td>0.0</td>\n",
              "      <td>0.0</td>\n",
              "      <td>0.0</td>\n",
              "      <td>0.0</td>\n",
              "      <td>0.0</td>\n",
              "      <td>0.0</td>\n",
              "      <td>0.0</td>\n",
              "      <td>0.0</td>\n",
              "      <td>0.0</td>\n",
              "      <td>0.0</td>\n",
              "      <td>0.0</td>\n",
              "      <td>0.0</td>\n",
              "      <td>0.0</td>\n",
              "      <td>0.0</td>\n",
              "      <td>0.0</td>\n",
              "      <td>0.0</td>\n",
              "      <td>0.0</td>\n",
              "      <td>0.0</td>\n",
              "      <td>0.0</td>\n",
              "      <td>0.0</td>\n",
              "      <td>0.0</td>\n",
              "      <td>0.0</td>\n",
              "      <td>0.0</td>\n",
              "      <td>0.0</td>\n",
              "      <td>0.0</td>\n",
              "      <td>0.0</td>\n",
              "      <td>0.0</td>\n",
              "      <td>0.0</td>\n",
              "      <td>0.0</td>\n",
              "      <td>0.0</td>\n",
              "      <td>0.0</td>\n",
              "      <td>0.0</td>\n",
              "      <td>0.0</td>\n",
              "      <td>0.0</td>\n",
              "      <td>0.0</td>\n",
              "      <td>0.0</td>\n",
              "      <td>0.0</td>\n",
              "      <td>0.0</td>\n",
              "      <td>0.0</td>\n",
              "    </tr>\n",
              "    <tr>\n",
              "      <th>3</th>\n",
              "      <td>0.0</td>\n",
              "      <td>0.0</td>\n",
              "      <td>0.0</td>\n",
              "      <td>0.0</td>\n",
              "      <td>0.0</td>\n",
              "      <td>0.0</td>\n",
              "      <td>0.0</td>\n",
              "      <td>0.0</td>\n",
              "      <td>0.0</td>\n",
              "      <td>0.0</td>\n",
              "      <td>0.0</td>\n",
              "      <td>0.0</td>\n",
              "      <td>0.0</td>\n",
              "      <td>0.0</td>\n",
              "      <td>0.0</td>\n",
              "      <td>0.0</td>\n",
              "      <td>0.0</td>\n",
              "      <td>0.0</td>\n",
              "      <td>0.0</td>\n",
              "      <td>0.0</td>\n",
              "      <td>0.0</td>\n",
              "      <td>0.0</td>\n",
              "      <td>0.0</td>\n",
              "      <td>0.0</td>\n",
              "      <td>0.0</td>\n",
              "      <td>0.0</td>\n",
              "      <td>0.0</td>\n",
              "      <td>0.0</td>\n",
              "      <td>0.0</td>\n",
              "      <td>0.0</td>\n",
              "      <td>0.0</td>\n",
              "      <td>0.0</td>\n",
              "      <td>0.0</td>\n",
              "      <td>0.0</td>\n",
              "      <td>0.0</td>\n",
              "      <td>0.0</td>\n",
              "      <td>0.0</td>\n",
              "      <td>0.0</td>\n",
              "      <td>0.0</td>\n",
              "      <td>0.0</td>\n",
              "      <td>...</td>\n",
              "      <td>0.0</td>\n",
              "      <td>0.0</td>\n",
              "      <td>0.0</td>\n",
              "      <td>0.0</td>\n",
              "      <td>0.0</td>\n",
              "      <td>0.0</td>\n",
              "      <td>0.0</td>\n",
              "      <td>0.0</td>\n",
              "      <td>0.0</td>\n",
              "      <td>0.0</td>\n",
              "      <td>0.0</td>\n",
              "      <td>0.0</td>\n",
              "      <td>0.0</td>\n",
              "      <td>0.0</td>\n",
              "      <td>0.0</td>\n",
              "      <td>0.0</td>\n",
              "      <td>0.0</td>\n",
              "      <td>0.0</td>\n",
              "      <td>0.0</td>\n",
              "      <td>0.0</td>\n",
              "      <td>0.0</td>\n",
              "      <td>0.0</td>\n",
              "      <td>0.0</td>\n",
              "      <td>0.0</td>\n",
              "      <td>0.0</td>\n",
              "      <td>0.0</td>\n",
              "      <td>0.0</td>\n",
              "      <td>0.0</td>\n",
              "      <td>0.0</td>\n",
              "      <td>0.0</td>\n",
              "      <td>0.0</td>\n",
              "      <td>0.0</td>\n",
              "      <td>0.0</td>\n",
              "      <td>0.0</td>\n",
              "      <td>0.0</td>\n",
              "      <td>0.0</td>\n",
              "      <td>0.0</td>\n",
              "      <td>0.0</td>\n",
              "      <td>0.0</td>\n",
              "      <td>0.0</td>\n",
              "    </tr>\n",
              "  </tbody>\n",
              "</table>\n",
              "<p>4 rows × 50000 columns</p>\n",
              "</div>"
            ],
            "text/plain": [
              "   0      1      2      3      4      ...  49995  49996  49997  49998  49999\n",
              "0    0.0    0.0    0.0    0.0    0.0  ...    0.0    0.0    0.0    0.0    0.0\n",
              "1    0.0    0.0    0.0    0.0    0.0  ...    0.0    0.0    0.0    0.0    0.0\n",
              "2    0.0    0.0    0.0    0.0    0.0  ...    0.0    0.0    0.0    0.0    0.0\n",
              "3    0.0    0.0    0.0    0.0    0.0  ...    0.0    0.0    0.0    0.0    0.0\n",
              "\n",
              "[4 rows x 50000 columns]"
            ]
          },
          "metadata": {
            "tags": []
          },
          "execution_count": 29
        }
      ]
    },
    {
      "cell_type": "code",
      "metadata": {
        "id": "CUqBBTYqEuU3",
        "colab": {
          "base_uri": "https://localhost:8080/",
          "height": 34
        },
        "outputId": "fc520e45-3ddc-4527-ed88-ea28148639fe"
      },
      "source": [
        "LogReg_pipeline.fit(X_train_vectorized, y_train['toxic']) # logreg fit on y_train['toxic']\n",
        "LogReg_pipeline.predict(test)"
      ],
      "execution_count": null,
      "outputs": [
        {
          "output_type": "execute_result",
          "data": {
            "text/plain": [
              "array([1, 1, 1, 1])"
            ]
          },
          "metadata": {
            "tags": []
          },
          "execution_count": 30
        }
      ]
    },
    {
      "cell_type": "code",
      "metadata": {
        "id": "Q47YF4XrFVL1",
        "colab": {
          "base_uri": "https://localhost:8080/",
          "height": 34
        },
        "outputId": "f7bc59d5-8b05-4831-8fdd-e95774911fb7"
      },
      "source": [
        "LogReg_pipeline.fit(X_train_vectorized, y_train['threat']) # logreg fit on y_train['toxic']\n",
        "LogReg_pipeline.predict(test)"
      ],
      "execution_count": null,
      "outputs": [
        {
          "output_type": "execute_result",
          "data": {
            "text/plain": [
              "array([0, 0, 0, 0])"
            ]
          },
          "metadata": {
            "tags": []
          },
          "execution_count": 31
        }
      ]
    },
    {
      "cell_type": "code",
      "metadata": {
        "id": "uW6wHYV4F39X",
        "colab": {
          "base_uri": "https://localhost:8080/",
          "height": 34
        },
        "outputId": "ed771163-7d0d-485d-cfc4-628bf915160a"
      },
      "source": [
        "LogReg_pipeline.fit(X_train_vectorized, y_train['severe_toxic']) # logreg fit on y_train['severe_toxic']\n",
        "LogReg_pipeline.predict(test)"
      ],
      "execution_count": null,
      "outputs": [
        {
          "output_type": "execute_result",
          "data": {
            "text/plain": [
              "array([0, 0, 0, 1])"
            ]
          },
          "metadata": {
            "tags": []
          },
          "execution_count": 32
        }
      ]
    },
    {
      "cell_type": "markdown",
      "metadata": {
        "id": "WKSBiRLLoQbt"
      },
      "source": [
        ""
      ]
    },
    {
      "cell_type": "code",
      "metadata": {
        "id": "6wwssUhf7GeB",
        "colab": {
          "base_uri": "https://localhost:8080/",
          "height": 1000
        },
        "outputId": "9c073b77-6709-44b0-b45c-2e6959b487b7"
      },
      "source": [
        "train_data_randomized = train_data.loc[np.random.choice(train_data.index, size=10000)]\n",
        "train_data_randomized"
      ],
      "execution_count": null,
      "outputs": [
        {
          "output_type": "execute_result",
          "data": {
            "text/html": [
              "<div>\n",
              "<style scoped>\n",
              "    .dataframe tbody tr th:only-of-type {\n",
              "        vertical-align: middle;\n",
              "    }\n",
              "\n",
              "    .dataframe tbody tr th {\n",
              "        vertical-align: top;\n",
              "    }\n",
              "\n",
              "    .dataframe thead th {\n",
              "        text-align: right;\n",
              "    }\n",
              "</style>\n",
              "<table border=\"1\" class=\"dataframe\">\n",
              "  <thead>\n",
              "    <tr style=\"text-align: right;\">\n",
              "      <th></th>\n",
              "      <th>id</th>\n",
              "      <th>comment_text</th>\n",
              "      <th>toxic</th>\n",
              "      <th>severe_toxic</th>\n",
              "      <th>obscene</th>\n",
              "      <th>threat</th>\n",
              "      <th>insult</th>\n",
              "      <th>identity_hate</th>\n",
              "      <th>clean_text</th>\n",
              "      <th>tokenized</th>\n",
              "      <th>stopwords_removed</th>\n",
              "      <th>combined_postag_wnet</th>\n",
              "      <th>lemmatize_word_w_pos</th>\n",
              "      <th>lemmatize_text</th>\n",
              "    </tr>\n",
              "  </thead>\n",
              "  <tbody>\n",
              "    <tr>\n",
              "      <th>55053</th>\n",
              "      <td>931f2f3f650f11a9</td>\n",
              "      <td>Your work will be deleted or bastardized wheth...</td>\n",
              "      <td>1</td>\n",
              "      <td>0</td>\n",
              "      <td>0</td>\n",
              "      <td>0</td>\n",
              "      <td>0</td>\n",
              "      <td>0</td>\n",
              "      <td>your work will be deleted or bastardized wheth...</td>\n",
              "      <td>[your, work, will, be, deleted, or, bastardize...</td>\n",
              "      <td>[work, deleted, bastardized, whether, adheres,...</td>\n",
              "      <td>[(work, n), (deleted, n), (bastardized, n), (w...</td>\n",
              "      <td>[work, deleted, bastardized, whether, adheres,...</td>\n",
              "      <td>work deleted bastardized whether adheres curre...</td>\n",
              "    </tr>\n",
              "    <tr>\n",
              "      <th>138398</th>\n",
              "      <td>e46f37bdecf445f9</td>\n",
              "      <td>Are you a deaf idiot? He BROKE the bird's neck...</td>\n",
              "      <td>1</td>\n",
              "      <td>0</td>\n",
              "      <td>0</td>\n",
              "      <td>0</td>\n",
              "      <td>1</td>\n",
              "      <td>0</td>\n",
              "      <td>are you a deaf idiot he broke the birds neck t...</td>\n",
              "      <td>[are, you, a, deaf, idiot, he, broke, the, bir...</td>\n",
              "      <td>[deaf, idiot, broke, birds, neck, sound, clear...</td>\n",
              "      <td>[(deaf, a), (idiot, n), (broke, v), (birds, n)...</td>\n",
              "      <td>[deaf, idiot, break, bird, neck, sound, clearl...</td>\n",
              "      <td>deaf idiot break bird neck sound clearly show ...</td>\n",
              "    </tr>\n",
              "    <tr>\n",
              "      <th>12107</th>\n",
              "      <td>200bce8d97ac29e1</td>\n",
              "      <td>Well, again you are deleting my part (sourced)...</td>\n",
              "      <td>0</td>\n",
              "      <td>0</td>\n",
              "      <td>0</td>\n",
              "      <td>0</td>\n",
              "      <td>0</td>\n",
              "      <td>0</td>\n",
              "      <td>well again you are deleting my part sourced yo...</td>\n",
              "      <td>[well, again, you, are, deleting, my, part, so...</td>\n",
              "      <td>[well, deleting, part, sourced, also, forgot, ...</td>\n",
              "      <td>[(well, r), (deleting, n), (part, n), (sourced...</td>\n",
              "      <td>[well, deleting, part, sourced, also, forgot, ...</td>\n",
              "      <td>well deleting part sourced also forgot put int...</td>\n",
              "    </tr>\n",
              "    <tr>\n",
              "      <th>2839</th>\n",
              "      <td>07a72f0b59459a3f</td>\n",
              "      <td>Yea. I was sort of the local shit disturber in...</td>\n",
              "      <td>1</td>\n",
              "      <td>0</td>\n",
              "      <td>0</td>\n",
              "      <td>0</td>\n",
              "      <td>0</td>\n",
              "      <td>0</td>\n",
              "      <td>yea i was sort of the local shit disturber in ...</td>\n",
              "      <td>[yea, i, was, sort, of, the, local, shit, dist...</td>\n",
              "      <td>[yea, sort, local, shit, disturber, young, adu...</td>\n",
              "      <td>[(yea, n), (sort, n), (local, n), (shit, n), (...</td>\n",
              "      <td>[yea, sort, local, shit, disturber, young, adu...</td>\n",
              "      <td>yea sort local shit disturber young adult life...</td>\n",
              "    </tr>\n",
              "    <tr>\n",
              "      <th>14872</th>\n",
              "      <td>274f5a6fde5aaa56</td>\n",
              "      <td>Yes, thats right, use your admin power to disp...</td>\n",
              "      <td>0</td>\n",
              "      <td>0</td>\n",
              "      <td>0</td>\n",
              "      <td>0</td>\n",
              "      <td>0</td>\n",
              "      <td>0</td>\n",
              "      <td>yes that is right use your admin power to disp...</td>\n",
              "      <td>[yes, that, is, right, use, your, admin, power...</td>\n",
              "      <td>[yes, right, use, admin, power, dispose, real,...</td>\n",
              "      <td>[(yes, n), (right, n), (use, v), (admin, n), (...</td>\n",
              "      <td>[yes, right, use, admin, power, dispose, real,...</td>\n",
              "      <td>yes right use admin power dispose real threat ...</td>\n",
              "    </tr>\n",
              "    <tr>\n",
              "      <th>...</th>\n",
              "      <td>...</td>\n",
              "      <td>...</td>\n",
              "      <td>...</td>\n",
              "      <td>...</td>\n",
              "      <td>...</td>\n",
              "      <td>...</td>\n",
              "      <td>...</td>\n",
              "      <td>...</td>\n",
              "      <td>...</td>\n",
              "      <td>...</td>\n",
              "      <td>...</td>\n",
              "      <td>...</td>\n",
              "      <td>...</td>\n",
              "      <td>...</td>\n",
              "    </tr>\n",
              "    <tr>\n",
              "      <th>63341</th>\n",
              "      <td>a97b17c1944abad6</td>\n",
              "      <td>Do me a favor...\\n\\nDrop dead, and don't accus...</td>\n",
              "      <td>1</td>\n",
              "      <td>0</td>\n",
              "      <td>0</td>\n",
              "      <td>0</td>\n",
              "      <td>0</td>\n",
              "      <td>0</td>\n",
              "      <td>do me a  drop dead and do not accuse people of...</td>\n",
              "      <td>[do, me, a, drop, dead, and, do, not, accuse, ...</td>\n",
              "      <td>[drop, dead, accuse, people, fabricating, thin...</td>\n",
              "      <td>[(drop, n), (dead, a), (accuse, v), (people, n...</td>\n",
              "      <td>[drop, dead, accuse, people, fabricating, thin...</td>\n",
              "      <td>drop dead accuse people fabricating thing okay</td>\n",
              "    </tr>\n",
              "    <tr>\n",
              "      <th>11842</th>\n",
              "      <td>1f572f3585453038</td>\n",
              "      <td>Applicability to Wikipedia \\n\\nTo what degree ...</td>\n",
              "      <td>0</td>\n",
              "      <td>0</td>\n",
              "      <td>0</td>\n",
              "      <td>0</td>\n",
              "      <td>0</td>\n",
              "      <td>0</td>\n",
              "      <td>applicability to wikipedia to what degree if a...</td>\n",
              "      <td>[applicability, to, wikipedia, to, what, degre...</td>\n",
              "      <td>[applicability, wikipedia, degree, apply, wiki...</td>\n",
              "      <td>[(applicability, n), (wikipedia, n), (degree, ...</td>\n",
              "      <td>[applicability, wikipedia, degree, apply, wiki...</td>\n",
              "      <td>applicability wikipedia degree apply wikipedia...</td>\n",
              "    </tr>\n",
              "    <tr>\n",
              "      <th>159312</th>\n",
              "      <td>fbf20e312cd4a78d</td>\n",
              "      <td>Walter Mercado \\n\\nAntonio, quite frankly, you...</td>\n",
              "      <td>1</td>\n",
              "      <td>1</td>\n",
              "      <td>1</td>\n",
              "      <td>0</td>\n",
              "      <td>1</td>\n",
              "      <td>0</td>\n",
              "      <td>walter mercado antonio quite frankly you are a...</td>\n",
              "      <td>[walter, mercado, antonio, quite, frankly, you...</td>\n",
              "      <td>[walter, mercado, antonio, quite, frankly, fuc...</td>\n",
              "      <td>[(walter, n), (mercado, n), (antonio, n), (qui...</td>\n",
              "      <td>[walter, mercado, antonio, quite, frankly, fuc...</td>\n",
              "      <td>walter mercado antonio quite frankly fucker co...</td>\n",
              "    </tr>\n",
              "    <tr>\n",
              "      <th>11096</th>\n",
              "      <td>1d51e5c20edfe817</td>\n",
              "      <td>You're not the only one who's surprised that s...</td>\n",
              "      <td>0</td>\n",
              "      <td>0</td>\n",
              "      <td>0</td>\n",
              "      <td>0</td>\n",
              "      <td>0</td>\n",
              "      <td>0</td>\n",
              "      <td>you are not the only one who is surprised that...</td>\n",
              "      <td>[you, are, not, the, only, one, who, is, surpr...</td>\n",
              "      <td>[one, surprised, someone, died, death]</td>\n",
              "      <td>[(one, n), (surprised, v), (someone, n), (died...</td>\n",
              "      <td>[one, surprise, someone, die, death]</td>\n",
              "      <td>one surprise someone die death</td>\n",
              "    </tr>\n",
              "    <tr>\n",
              "      <th>147355</th>\n",
              "      <td>3b244c81a3bdad92</td>\n",
              "      <td>burtalbert you fucking suck dick u king asshole</td>\n",
              "      <td>1</td>\n",
              "      <td>1</td>\n",
              "      <td>1</td>\n",
              "      <td>0</td>\n",
              "      <td>1</td>\n",
              "      <td>0</td>\n",
              "      <td>burtalbert you fucking suck dick you king asshole</td>\n",
              "      <td>[burtalbert, you, fucking, suck, dick, you, ki...</td>\n",
              "      <td>[burtalbert, fucking, suck, dick, king, asshole]</td>\n",
              "      <td>[(burtalbert, n), (fucking, n), (suck, n), (di...</td>\n",
              "      <td>[burtalbert, fucking, suck, dick, king, asshole]</td>\n",
              "      <td>burtalbert fucking suck dick king asshole</td>\n",
              "    </tr>\n",
              "  </tbody>\n",
              "</table>\n",
              "<p>10000 rows × 14 columns</p>\n",
              "</div>"
            ],
            "text/plain": [
              "                      id  ...                                     lemmatize_text\n",
              "55053   931f2f3f650f11a9  ...  work deleted bastardized whether adheres curre...\n",
              "138398  e46f37bdecf445f9  ...  deaf idiot break bird neck sound clearly show ...\n",
              "12107   200bce8d97ac29e1  ...  well deleting part sourced also forgot put int...\n",
              "2839    07a72f0b59459a3f  ...  yea sort local shit disturber young adult life...\n",
              "14872   274f5a6fde5aaa56  ...  yes right use admin power dispose real threat ...\n",
              "...                  ...  ...                                                ...\n",
              "63341   a97b17c1944abad6  ...     drop dead accuse people fabricating thing okay\n",
              "11842   1f572f3585453038  ...  applicability wikipedia degree apply wikipedia...\n",
              "159312  fbf20e312cd4a78d  ...  walter mercado antonio quite frankly fucker co...\n",
              "11096   1d51e5c20edfe817  ...                     one surprise someone die death\n",
              "147355  3b244c81a3bdad92  ...          burtalbert fucking suck dick king asshole\n",
              "\n",
              "[10000 rows x 14 columns]"
            ]
          },
          "metadata": {
            "tags": []
          },
          "execution_count": 33
        }
      ]
    },
    {
      "cell_type": "code",
      "metadata": {
        "id": "LZ4zj2YRoonV"
      },
      "source": [
        "from sklearn.linear_model import LogisticRegression\n",
        "from sklearn.pipeline import Pipeline\n",
        "from sklearn.metrics import accuracy_score\n",
        "from sklearn.multiclass import OneVsRestClassifier\n",
        "from sklearn.model_selection import train_test_split\n",
        "\n",
        "labels = ['toxic', 'severe_toxic', 'obscene', 'insult', 'threat', 'identity_hate']\n",
        "\n",
        "# train and test set\n",
        "X_train, X_test, y_train, y_test = train_test_split(df_train, df_train[labels], test_size=0.3, random_state=42)\n",
        "\n",
        "# Vectorize X_train, X_test\n",
        "vectorizer = TfidfVectorizer(max_features=30000, strip_accents='unicode', analyzer='word', ngram_range=(1,1), norm='l2', stop_words='english')\n",
        "\n",
        "X_train_vectorized = vectorizer.fit_transform(X_train['lemmatize_text']) # note that X_train is converted into a \"sparse matrix\"\n",
        "X_test_vectorized = vectorizer.transform(X_test['lemmatize_text']) # note that for new comments, we also need to transform them into sparse matrix before prediction\n"
      ],
      "execution_count": null,
      "outputs": []
    },
    {
      "cell_type": "code",
      "metadata": {
        "id": "Y_6RTACHEHZH",
        "colab": {
          "base_uri": "https://localhost:8080/",
          "height": 51
        },
        "outputId": "84a921c6-022a-4bac-d8ce-ea1994d5a3d5"
      },
      "source": [
        "X_train_vectorized"
      ],
      "execution_count": null,
      "outputs": [
        {
          "output_type": "execute_result",
          "data": {
            "text/plain": [
              "<111699x30000 sparse matrix of type '<class 'numpy.float64'>'\n",
              "\twith 2331300 stored elements in Compressed Sparse Row format>"
            ]
          },
          "metadata": {
            "tags": []
          },
          "execution_count": 21
        }
      ]
    },
    {
      "cell_type": "code",
      "metadata": {
        "id": "R4q-ZJPHBCKp",
        "colab": {
          "base_uri": "https://localhost:8080/",
          "height": 630
        },
        "outputId": "8e2eb2ab-211d-433d-acb4-5fb100e488f4"
      },
      "source": [
        "from yellowbrick.text import FreqDistVisualizer\n",
        "features = vectorizer.get_feature_names()\n",
        "visualizer = FreqDistVisualizer(features=features, orient='v')\n",
        "visualizer.fit(X_train_vectorized)"
      ],
      "execution_count": null,
      "outputs": [
        {
          "output_type": "stream",
          "text": [
            "/usr/local/lib/python3.6/dist-packages/sklearn/utils/deprecation.py:144: FutureWarning: The sklearn.metrics.classification module is  deprecated in version 0.22 and will be removed in version 0.24. The corresponding classes / functions should instead be imported from sklearn.metrics. Anything that cannot be imported from sklearn.metrics is now part of the private API.\n",
            "  warnings.warn(message, FutureWarning)\n",
            "/usr/local/lib/python3.6/dist-packages/sklearn/base.py:197: FutureWarning: From version 0.24, get_params will raise an AttributeError if a parameter cannot be retrieved as an instance attribute. Previously it would return None.\n",
            "  FutureWarning)\n"
          ],
          "name": "stderr"
        },
        {
          "output_type": "execute_result",
          "data": {
            "text/plain": [
              "FrequencyVisualizer(ax=<matplotlib.axes._subplots.AxesSubplot object at 0x7fdb2bdc5d68>,\n",
              "                    color=None,\n",
              "                    features=['aa', 'aaa', 'aah', 'aaliyah', 'aap', 'aaps',\n",
              "                              'aardvark', 'aaron', 'aau', 'aave', 'ab', 'aba',\n",
              "                              'abad', 'abandon', 'abandoning', 'abandonment',\n",
              "                              'abb', 'abbas', 'abbey', 'abbott', 'abbreviate',\n",
              "                              'abbreviated', 'abbreviation', 'abby', 'abc',\n",
              "                              'abcde', 'abd', 'abdication', 'abds', 'abducted', ...],\n",
              "                    n=None, orient='v')"
            ]
          },
          "metadata": {
            "tags": []
          },
          "execution_count": 22
        },
        {
          "output_type": "display_data",
          "data": {
            "image/png": "[encoded data removed]",
            "text/plain": [
              "<Figure size 576x396 with 1 Axes>"
            ]
          },
          "metadata": {
            "tags": []
          }
        }
      ]
    },
    {
      "cell_type": "code",
      "metadata": {
        "id": "p0oCeV5UGqtv"
      },
      "source": [
        "from sklearn.metrics import accuracy_score, precision_score, recall_score, f1_score, confusion_matrix, hamming_loss\n",
        "\n",
        "ModelsPerformance = {}\n",
        "\n",
        "def metricsReport(modelName, test_labels, predictions):\n",
        "    accuracy = accuracy_score(test_labels, predictions)\n",
        "\n",
        "    macro_precision = precision_score(test_labels, predictions, average='macro')\n",
        "    macro_recall = recall_score(test_labels, predictions, average='macro')\n",
        "    macro_f1 = f1_score(test_labels, predictions, average='macro')\n",
        "\n",
        "    micro_precision = precision_score(test_labels, predictions, average='micro')\n",
        "    micro_recall = recall_score(test_labels, predictions, average='micro')\n",
        "    micro_f1 = f1_score(test_labels, predictions, average='micro')\n",
        "    hamLoss = hamming_loss(test_labels, predictions)\n",
        "    print(\"------\" + modelName + \" Model Metrics-----\")\n",
        "    print(\"Accuracy: {:.4f}\\nHamming Loss: {:.4f}\\nPrecision:\\n  - Macro: {:.4f}\\n  - Micro: {:.4f}\\nRecall:\\n  - Macro: {:.4f}\\n  - Micro: {:.4f}\\nF1-measure:\\n  - Macro: {:.4f}\\n  - Micro: {:.4f}\"\\\n",
        "          .format(accuracy, hamLoss, macro_precision, micro_precision, macro_recall, micro_recall, macro_f1, micro_f1))\n",
        "    ModelsPerformance[modelName] = micro_f1"
      ],
      "execution_count": null,
      "outputs": []
    },
    {
      "cell_type": "code",
      "metadata": {
        "id": "hQPv7C1tGtkv",
        "colab": {
          "base_uri": "https://localhost:8080/",
          "height": 221
        },
        "outputId": "7d13c7db-cf54-46ea-9267-0cb87a0565cc"
      },
      "source": [
        "from sklearn.neighbors import KNeighborsClassifier\n",
        "from sklearn.multiclass import OneVsRestClassifier\n",
        "\n",
        "knnClf = KNeighborsClassifier()\n",
        "\n",
        "knnClf.fit(X_train_vectorized, y_train)\n",
        "knnPredictions = knnClf.predict(X_test_vectorized)\n",
        "metricsReport(\"knn\", y_test, knnPredictions)"
      ],
      "execution_count": null,
      "outputs": [
        {
          "output_type": "stream",
          "text": [
            "------knn Model Metrics-----\n",
            "Accuracy: 0.8999\n",
            "Hamming Loss: 0.0313\n",
            "Precision:\n",
            "  - Macro: 0.6823\n",
            "  - Micro: 0.7661\n",
            "Recall:\n",
            "  - Macro: 0.1571\n",
            "  - Micro: 0.2155\n",
            "F1-measure:\n",
            "  - Macro: 0.2503\n",
            "  - Micro: 0.3364\n"
          ],
          "name": "stdout"
        }
      ]
    },
    {
      "cell_type": "code",
      "metadata": {
        "id": "rbqNvO_ejaDA",
        "colab": {
          "base_uri": "https://localhost:8080/",
          "height": 51
        },
        "outputId": "3c42064e-cff5-4b17-87bf-f282003312b7"
      },
      "source": [
        "X_train_vectorized"
      ],
      "execution_count": null,
      "outputs": [
        {
          "output_type": "execute_result",
          "data": {
            "text/plain": [
              "<111699x50000 sparse matrix of type '<class 'numpy.float64'>'\n",
              "\twith 2376567 stored elements in Compressed Sparse Row format>"
            ]
          },
          "metadata": {
            "tags": []
          },
          "execution_count": 60
        }
      ]
    },
    {
      "cell_type": "markdown",
      "metadata": {
        "id": "VzVXfQ3bji-P"
      },
      "source": [
        "## Dimensionality reduction?"
      ]
    },
    {
      "cell_type": "code",
      "metadata": {
        "id": "h_4gNsYPjKOI",
        "colab": {
          "base_uri": "https://localhost:8080/",
          "height": 136
        },
        "outputId": "06bee628-b973-493d-e2bd-e5f770ec0fc7"
      },
      "source": [
        "knnClf.predict(X_test_vectorized)"
      ],
      "execution_count": null,
      "outputs": [
        {
          "output_type": "execute_result",
          "data": {
            "text/plain": [
              "array([[0, 0, 0, 0, 0, 0],\n",
              "       [0, 0, 0, 0, 0, 0],\n",
              "       [0, 0, 0, 0, 0, 0],\n",
              "       ...,\n",
              "       [0, 0, 0, 0, 0, 0],\n",
              "       [0, 0, 0, 0, 0, 0],\n",
              "       [0, 0, 0, 0, 0, 0]])"
            ]
          },
          "metadata": {
            "tags": []
          },
          "execution_count": 61
        }
      ]
    },
    {
      "cell_type": "code",
      "metadata": {
        "id": "YzOdDEqQG9NZ",
        "colab": {
          "base_uri": "https://localhost:8080/",
          "height": 221
        },
        "outputId": "92292cc1-18c7-4b31-d045-f108356afe82"
      },
      "source": [
        "from sklearn.tree import DecisionTreeClassifier\n",
        "\n",
        "dtClassifier = DecisionTreeClassifier()\n",
        "dtClassifier.fit(X_train_vectorized, y_train)\n",
        "dtPreds = dtClassifier.predict(X_test_vectorized)\n",
        "metricsReport(\"Decision Tree\", y_test, dtPreds)"
      ],
      "execution_count": null,
      "outputs": [
        {
          "output_type": "stream",
          "text": [
            "------Decision Tree Model Metrics-----\n",
            "Accuracy: 0.8965\n",
            "Hamming Loss: 0.0254\n",
            "Precision:\n",
            "  - Macro: 0.5264\n",
            "  - Micro: 0.6717\n",
            "Recall:\n",
            "  - Macro: 0.4353\n",
            "  - Micro: 0.6057\n",
            "F1-measure:\n",
            "  - Macro: 0.4726\n",
            "  - Micro: 0.6370\n"
          ],
          "name": "stdout"
        }
      ]
    },
    {
      "cell_type": "code",
      "metadata": {
        "id": "nfeTxRMRKUV5",
        "colab": {
          "base_uri": "https://localhost:8080/",
          "height": 646
        },
        "outputId": "7bc4999f-d407-4a77-ff5d-5961a488d3f1"
      },
      "source": [
        "dtClassifier.predict_proba(X_test_vectorized)"
      ],
      "execution_count": null,
      "outputs": [
        {
          "output_type": "execute_result",
          "data": {
            "text/plain": [
              "[array([[1., 0.],\n",
              "        [1., 0.],\n",
              "        [1., 0.],\n",
              "        ...,\n",
              "        [1., 0.],\n",
              "        [1., 0.],\n",
              "        [1., 0.]]), array([[1., 0.],\n",
              "        [1., 0.],\n",
              "        [1., 0.],\n",
              "        ...,\n",
              "        [1., 0.],\n",
              "        [1., 0.],\n",
              "        [1., 0.]]), array([[1., 0.],\n",
              "        [1., 0.],\n",
              "        [1., 0.],\n",
              "        ...,\n",
              "        [1., 0.],\n",
              "        [1., 0.],\n",
              "        [1., 0.]]), array([[1., 0.],\n",
              "        [1., 0.],\n",
              "        [1., 0.],\n",
              "        ...,\n",
              "        [1., 0.],\n",
              "        [1., 0.],\n",
              "        [1., 0.]]), array([[1., 0.],\n",
              "        [1., 0.],\n",
              "        [1., 0.],\n",
              "        ...,\n",
              "        [1., 0.],\n",
              "        [1., 0.],\n",
              "        [1., 0.]]), array([[1., 0.],\n",
              "        [1., 0.],\n",
              "        [1., 0.],\n",
              "        ...,\n",
              "        [1., 0.],\n",
              "        [1., 0.],\n",
              "        [1., 0.]])]"
            ]
          },
          "metadata": {
            "tags": []
          },
          "execution_count": 63
        }
      ]
    },
    {
      "cell_type": "code",
      "metadata": {
        "id": "U79j2VkHHXCf",
        "colab": {
          "base_uri": "https://localhost:8080/",
          "height": 419
        },
        "outputId": "d3dd5069-7c69-4af1-fa51-0ed3c74211ad"
      },
      "source": [
        "X_test[['comment_text', 'lemmatize_text', 'toxic', 'severe_toxic', 'obscene', 'threat', 'insult', 'identity_hate']]"
      ],
      "execution_count": null,
      "outputs": [
        {
          "output_type": "execute_result",
          "data": {
            "text/html": [
              "<div>\n",
              "<style scoped>\n",
              "    .dataframe tbody tr th:only-of-type {\n",
              "        vertical-align: middle;\n",
              "    }\n",
              "\n",
              "    .dataframe tbody tr th {\n",
              "        vertical-align: top;\n",
              "    }\n",
              "\n",
              "    .dataframe thead th {\n",
              "        text-align: right;\n",
              "    }\n",
              "</style>\n",
              "<table border=\"1\" class=\"dataframe\">\n",
              "  <thead>\n",
              "    <tr style=\"text-align: right;\">\n",
              "      <th></th>\n",
              "      <th>comment_text</th>\n",
              "      <th>lemmatize_text</th>\n",
              "      <th>toxic</th>\n",
              "      <th>severe_toxic</th>\n",
              "      <th>obscene</th>\n",
              "      <th>threat</th>\n",
              "      <th>insult</th>\n",
              "      <th>identity_hate</th>\n",
              "    </tr>\n",
              "  </thead>\n",
              "  <tbody>\n",
              "    <tr>\n",
              "      <th>119105</th>\n",
              "      <td>Geez, are you forgetful!  We've already discus...</td>\n",
              "      <td>geez forgetful already discuss marx anarchist ...</td>\n",
              "      <td>0</td>\n",
              "      <td>0</td>\n",
              "      <td>0</td>\n",
              "      <td>0</td>\n",
              "      <td>0</td>\n",
              "      <td>0</td>\n",
              "    </tr>\n",
              "    <tr>\n",
              "      <th>131631</th>\n",
              "      <td>Carioca RFA \\n\\nThanks for your support on my ...</td>\n",
              "      <td>carioca rfa thanks support request adminship f...</td>\n",
              "      <td>0</td>\n",
              "      <td>0</td>\n",
              "      <td>0</td>\n",
              "      <td>0</td>\n",
              "      <td>0</td>\n",
              "      <td>0</td>\n",
              "    </tr>\n",
              "    <tr>\n",
              "      <th>125326</th>\n",
              "      <td>\"\\n\\n Birthday \\n\\nNo worries, It's what I do ...</td>\n",
              "      <td>birthday worry enjoy ur daytalke</td>\n",
              "      <td>0</td>\n",
              "      <td>0</td>\n",
              "      <td>0</td>\n",
              "      <td>0</td>\n",
              "      <td>0</td>\n",
              "      <td>0</td>\n",
              "    </tr>\n",
              "    <tr>\n",
              "      <th>111256</th>\n",
              "      <td>Pseudoscience category? \\n\\nI'm assuming that ...</td>\n",
              "      <td>pseudoscience category assuming article pseudo...</td>\n",
              "      <td>0</td>\n",
              "      <td>0</td>\n",
              "      <td>0</td>\n",
              "      <td>0</td>\n",
              "      <td>0</td>\n",
              "      <td>0</td>\n",
              "    </tr>\n",
              "    <tr>\n",
              "      <th>83590</th>\n",
              "      <td>(and if such phrase exists, it would be provid...</td>\n",
              "      <td>phrase exists would provide search engine even...</td>\n",
              "      <td>0</td>\n",
              "      <td>0</td>\n",
              "      <td>0</td>\n",
              "      <td>0</td>\n",
              "      <td>0</td>\n",
              "      <td>0</td>\n",
              "    </tr>\n",
              "    <tr>\n",
              "      <th>...</th>\n",
              "      <td>...</td>\n",
              "      <td>...</td>\n",
              "      <td>...</td>\n",
              "      <td>...</td>\n",
              "      <td>...</td>\n",
              "      <td>...</td>\n",
              "      <td>...</td>\n",
              "      <td>...</td>\n",
              "    </tr>\n",
              "    <tr>\n",
              "      <th>61999</th>\n",
              "      <td>\"\\n\\n His documented emotional involvements wi...</td>\n",
              "      <td>documented emotional involvement boy exclusion...</td>\n",
              "      <td>0</td>\n",
              "      <td>0</td>\n",
              "      <td>0</td>\n",
              "      <td>0</td>\n",
              "      <td>0</td>\n",
              "      <td>0</td>\n",
              "    </tr>\n",
              "    <tr>\n",
              "      <th>116777</th>\n",
              "      <td>Rename\\n\\nI don't know if it has been done or ...</td>\n",
              "      <td>rename know propose past article may renamed t...</td>\n",
              "      <td>0</td>\n",
              "      <td>0</td>\n",
              "      <td>0</td>\n",
              "      <td>0</td>\n",
              "      <td>0</td>\n",
              "      <td>0</td>\n",
              "    </tr>\n",
              "    <tr>\n",
              "      <th>134143</th>\n",
              "      <td>Just random nazi soldiers?</td>\n",
              "      <td>random nazi soldier</td>\n",
              "      <td>0</td>\n",
              "      <td>0</td>\n",
              "      <td>0</td>\n",
              "      <td>0</td>\n",
              "      <td>0</td>\n",
              "      <td>0</td>\n",
              "    </tr>\n",
              "    <tr>\n",
              "      <th>81360</th>\n",
              "      <td>add comments below this line&gt;</td>\n",
              "      <td>add comment line</td>\n",
              "      <td>0</td>\n",
              "      <td>0</td>\n",
              "      <td>0</td>\n",
              "      <td>0</td>\n",
              "      <td>0</td>\n",
              "      <td>0</td>\n",
              "    </tr>\n",
              "    <tr>\n",
              "      <th>145904</th>\n",
              "      <td>Hi ur are free to add pictures and details</td>\n",
              "      <td>hi ur free add picture detail</td>\n",
              "      <td>0</td>\n",
              "      <td>0</td>\n",
              "      <td>0</td>\n",
              "      <td>0</td>\n",
              "      <td>0</td>\n",
              "      <td>0</td>\n",
              "    </tr>\n",
              "  </tbody>\n",
              "</table>\n",
              "<p>47872 rows × 8 columns</p>\n",
              "</div>"
            ],
            "text/plain": [
              "                                             comment_text  ... identity_hate\n",
              "119105  Geez, are you forgetful!  We've already discus...  ...             0\n",
              "131631  Carioca RFA \\n\\nThanks for your support on my ...  ...             0\n",
              "125326  \"\\n\\n Birthday \\n\\nNo worries, It's what I do ...  ...             0\n",
              "111256  Pseudoscience category? \\n\\nI'm assuming that ...  ...             0\n",
              "83590   (and if such phrase exists, it would be provid...  ...             0\n",
              "...                                                   ...  ...           ...\n",
              "61999   \"\\n\\n His documented emotional involvements wi...  ...             0\n",
              "116777  Rename\\n\\nI don't know if it has been done or ...  ...             0\n",
              "134143                         Just random nazi soldiers?  ...             0\n",
              "81360                       add comments below this line>  ...             0\n",
              "145904         Hi ur are free to add pictures and details  ...             0\n",
              "\n",
              "[47872 rows x 8 columns]"
            ]
          },
          "metadata": {
            "tags": []
          },
          "execution_count": 64
        }
      ]
    },
    {
      "cell_type": "code",
      "metadata": {
        "id": "dNZ3fTz9HEZp",
        "colab": {
          "base_uri": "https://localhost:8080/",
          "height": 34
        },
        "outputId": "df4821c4-b46d-4e51-9c31-fcec8dbbff11"
      },
      "source": [
        "test = ['arrogant administrator homosexual bastard fuck\t']\n",
        "test = vectorizer.transform(test)\n",
        "dtClassifier.predict(test)"
      ],
      "execution_count": null,
      "outputs": [
        {
          "output_type": "execute_result",
          "data": {
            "text/plain": [
              "array([[1, 0, 1, 1, 0, 0]])"
            ]
          },
          "metadata": {
            "tags": []
          },
          "execution_count": 65
        }
      ]
    },
    {
      "cell_type": "code",
      "metadata": {
        "id": "h-_v0BwC_JnW"
      },
      "source": [
        "# X_train_vectorized"
      ],
      "execution_count": null,
      "outputs": []
    },
    {
      "cell_type": "code",
      "metadata": {
        "id": "kPCxjxJpJ3La",
        "colab": {
          "base_uri": "https://localhost:8080/",
          "height": 221
        },
        "outputId": "b33c95cb-d94b-4976-b847-3cc52c51275c"
      },
      "source": [
        "from sklearn.svm import LinearSVC\n",
        "\n",
        "svmClassifier = OneVsRestClassifier(LinearSVC(), n_jobs=-1)\n",
        "svmClassifier.fit(X_train_vectorized, y_train)\n",
        "\n",
        "svmPreds = svmClassifier.predict(X_test_vectorized)\n",
        "metricsReport(\"SVC Sq. Hinge Loss\", y_test, svmPreds)"
      ],
      "execution_count": null,
      "outputs": [
        {
          "output_type": "stream",
          "text": [
            "------SVC Sq. Hinge Loss Model Metrics-----\n",
            "Accuracy: 0.9173\n",
            "Hamming Loss: 0.0191\n",
            "Precision:\n",
            "  - Macro: 0.7133\n",
            "  - Micro: 0.8323\n",
            "Recall:\n",
            "  - Macro: 0.4348\n",
            "  - Micro: 0.6047\n",
            "F1-measure:\n",
            "  - Macro: 0.5284\n",
            "  - Micro: 0.7005\n"
          ],
          "name": "stdout"
        }
      ]
    },
    {
      "cell_type": "code",
      "metadata": {
        "id": "cmvNCO65KFDb",
        "colab": {
          "base_uri": "https://localhost:8080/",
          "height": 34
        },
        "outputId": "2e1baabb-254c-4613-e916-6aa879fe0f3e"
      },
      "source": [
        "test = ['arrogant administrator homosexual bastard fuck\t']\n",
        "\n",
        "test = vectorizer.transform(test)\n",
        "svmClassifier.predict(test)"
      ],
      "execution_count": null,
      "outputs": [
        {
          "output_type": "execute_result",
          "data": {
            "text/plain": [
              "array([[1, 0, 1, 1, 0, 1]])"
            ]
          },
          "metadata": {
            "tags": []
          },
          "execution_count": 67
        }
      ]
    },
    {
      "cell_type": "code",
      "metadata": {
        "id": "cunNS10XL0SO"
      },
      "source": [
        "from skmultilearn.problem_transform import LabelPowerset\n",
        "from sklearn.svm import LinearSVC\n",
        "\n",
        "\n",
        "powerSetSVC = LabelPowerset(LinearSVC())\n",
        "powerSetSVC.fit(X_train_vectorized, y_train)\n",
        "\n",
        "powerSetSVCPreds = powerSetSVC.predict(X_test_vectorized)\n",
        "metricsReport(\"Power Set SVC\", y_test, powerSetSVCPreds)"
      ],
      "execution_count": null,
      "outputs": []
    },
    {
      "cell_type": "code",
      "metadata": {
        "id": "h4jAhRIEhvG2",
        "colab": {
          "base_uri": "https://localhost:8080/",
          "height": 34
        },
        "outputId": "e59a7835-efc2-4122-f80b-3a2517d4e535"
      },
      "source": [
        "accuracy_score(y_test, pd.DataFrame.sparse.from_spmatrix(powerSetSVCPreds))"
      ],
      "execution_count": null,
      "outputs": [
        {
          "output_type": "execute_result",
          "data": {
            "text/plain": [
              "0.6311248073959939"
            ]
          },
          "metadata": {
            "tags": []
          },
          "execution_count": 49
        }
      ]
    },
    {
      "cell_type": "code",
      "metadata": {
        "id": "OFA4EWvPNmVw",
        "colab": {
          "base_uri": "https://localhost:8080/",
          "height": 136
        },
        "outputId": "d874310d-c0d3-42c3-84d5-134776af2a8f"
      },
      "source": [
        "powerSetSVCPreds.toarray()"
      ],
      "execution_count": null,
      "outputs": [
        {
          "output_type": "execute_result",
          "data": {
            "text/plain": [
              "array([[1, 0, 0, 1, 0, 0],\n",
              "       [0, 0, 0, 0, 0, 0],\n",
              "       [1, 0, 0, 0, 0, 0],\n",
              "       ...,\n",
              "       [0, 0, 0, 0, 0, 0],\n",
              "       [1, 0, 0, 0, 0, 0],\n",
              "       [1, 0, 0, 0, 0, 0]])"
            ]
          },
          "metadata": {
            "tags": []
          },
          "execution_count": 50
        }
      ]
    },
    {
      "cell_type": "code",
      "metadata": {
        "id": "Qs01Q5xpNrIV",
        "colab": {
          "base_uri": "https://localhost:8080/",
          "height": 34
        },
        "outputId": "7b450720-2f71-46ab-cd15-74835d73cce1"
      },
      "source": [
        "test = ['arrogant administrator homosexual bastard fuck\t']\n",
        "\n",
        "test = vectorizer.transform(test)\n",
        "powerSetSVC.predict(test).toarray()"
      ],
      "execution_count": null,
      "outputs": [
        {
          "output_type": "execute_result",
          "data": {
            "text/plain": [
              "array([[1, 0, 1, 1, 0, 0]])"
            ]
          },
          "metadata": {
            "tags": []
          },
          "execution_count": 51
        }
      ]
    },
    {
      "cell_type": "code",
      "metadata": {
        "id": "_-PlG2_2LrmM",
        "colab": {
          "base_uri": "https://localhost:8080/",
          "height": 51
        },
        "outputId": "ed8bc2eb-5497-47b9-c492-2137bc97c772"
      },
      "source": [
        "%%time\n",
        "\n",
        "# using binary relevance\n",
        "from sklearn.multioutput import ClassifierChain\n",
        "from sklearn.linear_model import LogisticRegression\n"
      ],
      "execution_count": null,
      "outputs": [
        {
          "output_type": "stream",
          "text": [
            "CPU times: user 1.2 ms, sys: 6.02 ms, total: 7.21 ms\n",
            "Wall time: 2.79 ms\n"
          ],
          "name": "stdout"
        }
      ]
    },
    {
      "cell_type": "code",
      "metadata": {
        "id": "doe7eqkKJunc"
      },
      "source": [
        "X_train, X_test, y_train, y_test = train_test_split(df_train, df_train[labels], test_size=0.3, random_state=42)\n",
        "\n",
        "# Vectorize X_train, X_test\n",
        "vectorizer = TfidfVectorizer(strip_accents='unicode', analyzer='word', ngram_range=(1,2), norm='l2', max_features=50000)\n",
        "\n",
        "X_train_vectorized = vectorizer.fit_transform(X_train['lemmatize_text']) # note that X_train is converted into a \"sparse matrix\"\n",
        "X_test_vectorized = vectorizer.transform(X_test['lemmatize_text']) # note that for new comments, we also need to transform them into sparse matrix before prediction\n"
      ],
      "execution_count": null,
      "outputs": []
    },
    {
      "cell_type": "code",
      "metadata": {
        "id": "dUgdr9OdPGcV",
        "colab": {
          "base_uri": "https://localhost:8080/",
          "height": 1000
        },
        "outputId": "f7ef013c-2fe9-403a-9267-1ecc6ed92f4f"
      },
      "source": [
        "# initialize binary relevance multi-label classifier\n",
        "# with a gaussian naive bayes base classifier\n",
        "import numpy as np\n",
        "import matplotlib.pyplot as plt\n",
        "from sklearn.datasets import fetch_openml\n",
        "from sklearn.multioutput import ClassifierChain\n",
        "from sklearn.model_selection import train_test_split\n",
        "from sklearn.multiclass import OneVsRestClassifier\n",
        "from sklearn.metrics import jaccard_score\n",
        "from sklearn.linear_model import LogisticRegression\n",
        "\n",
        "base_lr = LogisticRegression()\n",
        "\n",
        "ovr = OneVsRestClassifier(base_lr)\n",
        "ovr.fit(X_train_vectorized, y_train)\n",
        "Y_pred_ovr = ovr.predict(X_test_vectorized)\n",
        "ovr_jaccard_score = jaccard_score(y_test, Y_pred_ovr, average='samples')\n",
        "\n",
        "\n",
        "chains = [ClassifierChain(base_lr, random_state=i)\n",
        "          for i in range(6)]\n",
        "for chain in chains:\n",
        "    chain.fit(X_train_vectorized, y_train)\n",
        "\n",
        "Y_pred_chains = np.array([chain.predict(X_test_vectorized) for chain in\n",
        "                          chains])\n",
        "\n",
        "chain_jaccard_scores = [jaccard_score(y_test, Y_pred_chain >= .5,\n",
        "                                      average='samples')\n",
        "                        for Y_pred_chain in Y_pred_chains]\n",
        "\n",
        "Y_pred_ensemble = Y_pred_chains.mean(axis=0)\n",
        "ensemble_jaccard_score = jaccard_score(y_test,\n",
        "                                       Y_pred_ensemble >= .5,\n",
        "                                       average='samples')\n",
        "\n",
        "model_scores = [ovr_jaccard_score] + chain_jaccard_scores\n",
        "model_scores.append(ensemble_jaccard_score)\n",
        "\n",
        "model_names = ('Independent',\n",
        "               'Chain 1',\n",
        "               'Chain 2',\n",
        "               'Chain 3',\n",
        "               'Chain 4',\n",
        "               'Chain 5',\n",
        "               'Chain 6',\n",
        "               'Ensemble')\n",
        "\n",
        "x_pos = np.arange(len(model_names))\n",
        "\n",
        "fig, ax = plt.subplots(figsize=(7, 4))\n",
        "ax.grid(True)\n",
        "ax.set_title('Classifier Chain Ensemble Performance Comparison')\n",
        "ax.set_xticks(x_pos)\n",
        "ax.set_xticklabels(model_names, rotation='vertical')\n",
        "ax.set_ylabel('Jaccard Similarity Score')\n",
        "ax.set_ylim([min(model_scores) * .9, max(model_scores) * 1.1])\n",
        "colors = ['r'] + ['b'] * len(chain_jaccard_scores) + ['g']\n",
        "ax.bar(x_pos, model_scores, alpha=0.5, color=colors)\n",
        "plt.tight_layout()\n",
        "plt.show()"
      ],
      "execution_count": null,
      "outputs": [
        {
          "output_type": "stream",
          "text": [
            "/usr/local/lib/python3.6/dist-packages/sklearn/metrics/_classification.py:1272: UndefinedMetricWarning: Jaccard is ill-defined and being set to 0.0 in samples with no true or predicted labels. Use `zero_division` parameter to control this behavior.\n",
            "  _warn_prf(average, modifier, msg_start, len(result))\n",
            "/usr/local/lib/python3.6/dist-packages/sklearn/linear_model/_logistic.py:940: ConvergenceWarning: lbfgs failed to converge (status=1):\n",
            "STOP: TOTAL NO. of ITERATIONS REACHED LIMIT.\n",
            "\n",
            "Increase the number of iterations (max_iter) or scale the data as shown in:\n",
            "    https://scikit-learn.org/stable/modules/preprocessing.html\n",
            "Please also refer to the documentation for alternative solver options:\n",
            "    https://scikit-learn.org/stable/modules/linear_model.html#logistic-regression\n",
            "  extra_warning_msg=_LOGISTIC_SOLVER_CONVERGENCE_MSG)\n",
            "/usr/local/lib/python3.6/dist-packages/sklearn/linear_model/_logistic.py:940: ConvergenceWarning: lbfgs failed to converge (status=1):\n",
            "STOP: TOTAL NO. of ITERATIONS REACHED LIMIT.\n",
            "\n",
            "Increase the number of iterations (max_iter) or scale the data as shown in:\n",
            "    https://scikit-learn.org/stable/modules/preprocessing.html\n",
            "Please also refer to the documentation for alternative solver options:\n",
            "    https://scikit-learn.org/stable/modules/linear_model.html#logistic-regression\n",
            "  extra_warning_msg=_LOGISTIC_SOLVER_CONVERGENCE_MSG)\n",
            "/usr/local/lib/python3.6/dist-packages/sklearn/linear_model/_logistic.py:940: ConvergenceWarning: lbfgs failed to converge (status=1):\n",
            "STOP: TOTAL NO. of ITERATIONS REACHED LIMIT.\n",
            "\n",
            "Increase the number of iterations (max_iter) or scale the data as shown in:\n",
            "    https://scikit-learn.org/stable/modules/preprocessing.html\n",
            "Please also refer to the documentation for alternative solver options:\n",
            "    https://scikit-learn.org/stable/modules/linear_model.html#logistic-regression\n",
            "  extra_warning_msg=_LOGISTIC_SOLVER_CONVERGENCE_MSG)\n",
            "/usr/local/lib/python3.6/dist-packages/sklearn/linear_model/_logistic.py:940: ConvergenceWarning: lbfgs failed to converge (status=1):\n",
            "STOP: TOTAL NO. of ITERATIONS REACHED LIMIT.\n",
            "\n",
            "Increase the number of iterations (max_iter) or scale the data as shown in:\n",
            "    https://scikit-learn.org/stable/modules/preprocessing.html\n",
            "Please also refer to the documentation for alternative solver options:\n",
            "    https://scikit-learn.org/stable/modules/linear_model.html#logistic-regression\n",
            "  extra_warning_msg=_LOGISTIC_SOLVER_CONVERGENCE_MSG)\n",
            "/usr/local/lib/python3.6/dist-packages/sklearn/linear_model/_logistic.py:940: ConvergenceWarning: lbfgs failed to converge (status=1):\n",
            "STOP: TOTAL NO. of ITERATIONS REACHED LIMIT.\n",
            "\n",
            "Increase the number of iterations (max_iter) or scale the data as shown in:\n",
            "    https://scikit-learn.org/stable/modules/preprocessing.html\n",
            "Please also refer to the documentation for alternative solver options:\n",
            "    https://scikit-learn.org/stable/modules/linear_model.html#logistic-regression\n",
            "  extra_warning_msg=_LOGISTIC_SOLVER_CONVERGENCE_MSG)\n",
            "/usr/local/lib/python3.6/dist-packages/sklearn/linear_model/_logistic.py:940: ConvergenceWarning: lbfgs failed to converge (status=1):\n",
            "STOP: TOTAL NO. of ITERATIONS REACHED LIMIT.\n",
            "\n",
            "Increase the number of iterations (max_iter) or scale the data as shown in:\n",
            "    https://scikit-learn.org/stable/modules/preprocessing.html\n",
            "Please also refer to the documentation for alternative solver options:\n",
            "    https://scikit-learn.org/stable/modules/linear_model.html#logistic-regression\n",
            "  extra_warning_msg=_LOGISTIC_SOLVER_CONVERGENCE_MSG)\n",
            "/usr/local/lib/python3.6/dist-packages/sklearn/metrics/_classification.py:1272: UndefinedMetricWarning: Jaccard is ill-defined and being set to 0.0 in samples with no true or predicted labels. Use `zero_division` parameter to control this behavior.\n",
            "  _warn_prf(average, modifier, msg_start, len(result))\n"
          ],
          "name": "stderr"
        },
        {
          "output_type": "display_data",
          "data": {
            "image/png": "[encoded data removed]",
            "text/plain": [
              "<Figure size 504x288 with 1 Axes>"
            ]
          },
          "metadata": {
            "tags": []
          }
        }
      ]
    },
    {
      "cell_type": "code",
      "metadata": {
        "id": "SSTmIBhi9kvL",
        "colab": {
          "base_uri": "https://localhost:8080/",
          "height": 932
        },
        "outputId": "3f5ff9de-40d9-4a47-bce7-e5c99f573394"
      },
      "source": [
        "X_test"
      ],
      "execution_count": null,
      "outputs": [
        {
          "output_type": "execute_result",
          "data": {
            "text/html": [
              "<div>\n",
              "<style scoped>\n",
              "    .dataframe tbody tr th:only-of-type {\n",
              "        vertical-align: middle;\n",
              "    }\n",
              "\n",
              "    .dataframe tbody tr th {\n",
              "        vertical-align: top;\n",
              "    }\n",
              "\n",
              "    .dataframe thead th {\n",
              "        text-align: right;\n",
              "    }\n",
              "</style>\n",
              "<table border=\"1\" class=\"dataframe\">\n",
              "  <thead>\n",
              "    <tr style=\"text-align: right;\">\n",
              "      <th></th>\n",
              "      <th>id</th>\n",
              "      <th>comment_text</th>\n",
              "      <th>toxic</th>\n",
              "      <th>severe_toxic</th>\n",
              "      <th>obscene</th>\n",
              "      <th>threat</th>\n",
              "      <th>insult</th>\n",
              "      <th>identity_hate</th>\n",
              "      <th>clean_text</th>\n",
              "      <th>tokenized</th>\n",
              "      <th>stopwords_removed</th>\n",
              "      <th>combined_postag_wnet</th>\n",
              "      <th>lemmatize_word_w_pos</th>\n",
              "      <th>lemmatize_text</th>\n",
              "    </tr>\n",
              "  </thead>\n",
              "  <tbody>\n",
              "    <tr>\n",
              "      <th>119105</th>\n",
              "      <td>7ca72b5b9c688e9e</td>\n",
              "      <td>Geez, are you forgetful!  We've already discus...</td>\n",
              "      <td>0</td>\n",
              "      <td>0</td>\n",
              "      <td>0</td>\n",
              "      <td>0</td>\n",
              "      <td>0</td>\n",
              "      <td>0</td>\n",
              "      <td>geez are you forgetful we have already discuss...</td>\n",
              "      <td>[geez, are, you, forgetful, we, have, already,...</td>\n",
              "      <td>[geez, forgetful, already, discussed, marx, an...</td>\n",
              "      <td>[(geez, n), (forgetful, n), (already, r), (dis...</td>\n",
              "      <td>[geez, forgetful, already, discuss, marx, anar...</td>\n",
              "      <td>geez forgetful already discuss marx anarchist ...</td>\n",
              "    </tr>\n",
              "    <tr>\n",
              "      <th>131631</th>\n",
              "      <td>c03f72fd8f8bf54f</td>\n",
              "      <td>Carioca RFA \\n\\nThanks for your support on my ...</td>\n",
              "      <td>0</td>\n",
              "      <td>0</td>\n",
              "      <td>0</td>\n",
              "      <td>0</td>\n",
              "      <td>0</td>\n",
              "      <td>0</td>\n",
              "      <td>carioca rfa thanks for your support on my requ...</td>\n",
              "      <td>[carioca, rfa, thanks, for, your, support, on,...</td>\n",
              "      <td>[carioca, rfa, thanks, support, request, admin...</td>\n",
              "      <td>[(carioca, n), (rfa, n), (thanks, n), (support...</td>\n",
              "      <td>[carioca, rfa, thanks, support, request, admin...</td>\n",
              "      <td>carioca rfa thanks support request adminship f...</td>\n",
              "    </tr>\n",
              "    <tr>\n",
              "      <th>125326</th>\n",
              "      <td>9e5b8e8fc1ff2e84</td>\n",
              "      <td>\"\\n\\n Birthday \\n\\nNo worries, It's what I do ...</td>\n",
              "      <td>0</td>\n",
              "      <td>0</td>\n",
              "      <td>0</td>\n",
              "      <td>0</td>\n",
              "      <td>0</td>\n",
              "      <td>0</td>\n",
              "      <td>birthday no worries it is what i do enjoy ur ...</td>\n",
              "      <td>[birthday, no, worries, it, is, what, i, do, e...</td>\n",
              "      <td>[birthday, worries, enjoy, ur, daytalke]</td>\n",
              "      <td>[(birthday, n), (worries, n), (enjoy, v), (ur,...</td>\n",
              "      <td>[birthday, worry, enjoy, ur, daytalke]</td>\n",
              "      <td>birthday worry enjoy ur daytalke</td>\n",
              "    </tr>\n",
              "    <tr>\n",
              "      <th>111256</th>\n",
              "      <td>5332799e706665a6</td>\n",
              "      <td>Pseudoscience category? \\n\\nI'm assuming that ...</td>\n",
              "      <td>0</td>\n",
              "      <td>0</td>\n",
              "      <td>0</td>\n",
              "      <td>0</td>\n",
              "      <td>0</td>\n",
              "      <td>0</td>\n",
              "      <td>pseudoscience category i am assuming that this...</td>\n",
              "      <td>[pseudoscience, category, i, am, assuming, tha...</td>\n",
              "      <td>[pseudoscience, category, assuming, article, p...</td>\n",
              "      <td>[(pseudoscience, n), (category, n), (assuming,...</td>\n",
              "      <td>[pseudoscience, category, assuming, article, p...</td>\n",
              "      <td>pseudoscience category assuming article pseudo...</td>\n",
              "    </tr>\n",
              "    <tr>\n",
              "      <th>83590</th>\n",
              "      <td>dfa7d8f0b4366680</td>\n",
              "      <td>(and if such phrase exists, it would be provid...</td>\n",
              "      <td>0</td>\n",
              "      <td>0</td>\n",
              "      <td>0</td>\n",
              "      <td>0</td>\n",
              "      <td>0</td>\n",
              "      <td>0</td>\n",
              "      <td>and if such phrase exists it would be provided...</td>\n",
              "      <td>[and, if, such, phrase, exists, it, would, be,...</td>\n",
              "      <td>[phrase, exists, would, provided, search, engi...</td>\n",
              "      <td>[(phrase, n), (exists, n), (would, n), (provid...</td>\n",
              "      <td>[phrase, exists, would, provide, search, engin...</td>\n",
              "      <td>phrase exists would provide search engine even...</td>\n",
              "    </tr>\n",
              "    <tr>\n",
              "      <th>...</th>\n",
              "      <td>...</td>\n",
              "      <td>...</td>\n",
              "      <td>...</td>\n",
              "      <td>...</td>\n",
              "      <td>...</td>\n",
              "      <td>...</td>\n",
              "      <td>...</td>\n",
              "      <td>...</td>\n",
              "      <td>...</td>\n",
              "      <td>...</td>\n",
              "      <td>...</td>\n",
              "      <td>...</td>\n",
              "      <td>...</td>\n",
              "      <td>...</td>\n",
              "    </tr>\n",
              "    <tr>\n",
              "      <th>61999</th>\n",
              "      <td>a5e8811002c2e965</td>\n",
              "      <td>\"\\n\\n His documented emotional involvements wi...</td>\n",
              "      <td>0</td>\n",
              "      <td>0</td>\n",
              "      <td>0</td>\n",
              "      <td>0</td>\n",
              "      <td>0</td>\n",
              "      <td>0</td>\n",
              "      <td>his documented emotional involvements with bo...</td>\n",
              "      <td>[his, documented, emotional, involvements, wit...</td>\n",
              "      <td>[documented, emotional, involvements, boys, ex...</td>\n",
              "      <td>[(documented, n), (emotional, n), (involvement...</td>\n",
              "      <td>[documented, emotional, involvement, boy, excl...</td>\n",
              "      <td>documented emotional involvement boy exclusion...</td>\n",
              "    </tr>\n",
              "    <tr>\n",
              "      <th>116777</th>\n",
              "      <td>703c79bd1ef1f61d</td>\n",
              "      <td>Rename\\n\\nI don't know if it has been done or ...</td>\n",
              "      <td>0</td>\n",
              "      <td>0</td>\n",
              "      <td>0</td>\n",
              "      <td>0</td>\n",
              "      <td>0</td>\n",
              "      <td>0</td>\n",
              "      <td>rename i do not know if it has been done or pr...</td>\n",
              "      <td>[rename, i, do, not, know, if, it, has, been, ...</td>\n",
              "      <td>[rename, know, done, proposed, past, article, ...</td>\n",
              "      <td>[(rename, n), (know, v), (done, v), (proposed,...</td>\n",
              "      <td>[rename, know, propose, past, article, may, re...</td>\n",
              "      <td>rename know propose past article may renamed t...</td>\n",
              "    </tr>\n",
              "    <tr>\n",
              "      <th>134143</th>\n",
              "      <td>cd618fa54e2da21d</td>\n",
              "      <td>Just random nazi soldiers?</td>\n",
              "      <td>0</td>\n",
              "      <td>0</td>\n",
              "      <td>0</td>\n",
              "      <td>0</td>\n",
              "      <td>0</td>\n",
              "      <td>0</td>\n",
              "      <td>just random nazi soldiers</td>\n",
              "      <td>[just, random, nazi, soldiers]</td>\n",
              "      <td>[random, nazi, soldiers]</td>\n",
              "      <td>[(random, n), (nazi, n), (soldiers, n)]</td>\n",
              "      <td>[random, nazi, soldier]</td>\n",
              "      <td>random nazi soldier</td>\n",
              "    </tr>\n",
              "    <tr>\n",
              "      <th>81360</th>\n",
              "      <td>d99ec9d910520101</td>\n",
              "      <td>add comments below this line&gt;</td>\n",
              "      <td>0</td>\n",
              "      <td>0</td>\n",
              "      <td>0</td>\n",
              "      <td>0</td>\n",
              "      <td>0</td>\n",
              "      <td>0</td>\n",
              "      <td>add comments below this line</td>\n",
              "      <td>[add, comments, below, this, line]</td>\n",
              "      <td>[add, comments, line]</td>\n",
              "      <td>[(add, v), (comments, n), (line, n)]</td>\n",
              "      <td>[add, comment, line]</td>\n",
              "      <td>add comment line</td>\n",
              "    </tr>\n",
              "    <tr>\n",
              "      <th>145904</th>\n",
              "      <td>23f6d004bfd9ed1d</td>\n",
              "      <td>Hi ur are free to add pictures and details</td>\n",
              "      <td>0</td>\n",
              "      <td>0</td>\n",
              "      <td>0</td>\n",
              "      <td>0</td>\n",
              "      <td>0</td>\n",
              "      <td>0</td>\n",
              "      <td>hi ur are free to add pictures and details</td>\n",
              "      <td>[hi, ur, are, free, to, add, pictures, and, de...</td>\n",
              "      <td>[hi, ur, free, add, pictures, details]</td>\n",
              "      <td>[(hi, n), (ur, n), (free, a), (add, v), (pictu...</td>\n",
              "      <td>[hi, ur, free, add, picture, detail]</td>\n",
              "      <td>hi ur free add picture detail</td>\n",
              "    </tr>\n",
              "  </tbody>\n",
              "</table>\n",
              "<p>47872 rows × 14 columns</p>\n",
              "</div>"
            ],
            "text/plain": [
              "                      id  ...                                     lemmatize_text\n",
              "119105  7ca72b5b9c688e9e  ...  geez forgetful already discuss marx anarchist ...\n",
              "131631  c03f72fd8f8bf54f  ...  carioca rfa thanks support request adminship f...\n",
              "125326  9e5b8e8fc1ff2e84  ...                   birthday worry enjoy ur daytalke\n",
              "111256  5332799e706665a6  ...  pseudoscience category assuming article pseudo...\n",
              "83590   dfa7d8f0b4366680  ...  phrase exists would provide search engine even...\n",
              "...                  ...  ...                                                ...\n",
              "61999   a5e8811002c2e965  ...  documented emotional involvement boy exclusion...\n",
              "116777  703c79bd1ef1f61d  ...  rename know propose past article may renamed t...\n",
              "134143  cd618fa54e2da21d  ...                                random nazi soldier\n",
              "81360   d99ec9d910520101  ...                                   add comment line\n",
              "145904  23f6d004bfd9ed1d  ...                      hi ur free add picture detail\n",
              "\n",
              "[47872 rows x 14 columns]"
            ]
          },
          "metadata": {
            "tags": []
          },
          "execution_count": 25
        }
      ]
    },
    {
      "cell_type": "code",
      "metadata": {
        "id": "HcJGE2pZ9fqy",
        "colab": {
          "base_uri": "https://localhost:8080/",
          "height": 136
        },
        "outputId": "b46d83b2-1af5-4ca3-8026-7e7d449eaabe"
      },
      "source": [
        "Y_pred_ensemble"
      ],
      "execution_count": null,
      "outputs": [
        {
          "output_type": "execute_result",
          "data": {
            "text/plain": [
              "array([[0., 0., 0., 0., 0., 0.],\n",
              "       [0., 0., 0., 0., 0., 0.],\n",
              "       [0., 0., 0., 0., 0., 0.],\n",
              "       ...,\n",
              "       [0., 0., 0., 0., 0., 0.],\n",
              "       [0., 0., 0., 0., 0., 0.],\n",
              "       [0., 0., 0., 0., 0., 0.]])"
            ]
          },
          "metadata": {
            "tags": []
          },
          "execution_count": 26
        }
      ]
    },
    {
      "cell_type": "code",
      "metadata": {
        "id": "-QZs7kkt9rgy",
        "colab": {
          "base_uri": "https://localhost:8080/",
          "height": 816
        },
        "outputId": "dbbea098-ea10-4268-a162-3ab2a04d3490"
      },
      "source": [
        "Y_pred_chains"
      ],
      "execution_count": null,
      "outputs": [
        {
          "output_type": "execute_result",
          "data": {
            "text/plain": [
              "array([[[0., 0., 0., 0., 0., 0.],\n",
              "        [0., 0., 0., 0., 0., 0.],\n",
              "        [0., 0., 0., 0., 0., 0.],\n",
              "        ...,\n",
              "        [0., 0., 0., 0., 0., 0.],\n",
              "        [0., 0., 0., 0., 0., 0.],\n",
              "        [0., 0., 0., 0., 0., 0.]],\n",
              "\n",
              "       [[0., 0., 0., 0., 0., 0.],\n",
              "        [0., 0., 0., 0., 0., 0.],\n",
              "        [0., 0., 0., 0., 0., 0.],\n",
              "        ...,\n",
              "        [0., 0., 0., 0., 0., 0.],\n",
              "        [0., 0., 0., 0., 0., 0.],\n",
              "        [0., 0., 0., 0., 0., 0.]],\n",
              "\n",
              "       [[0., 0., 0., 0., 0., 0.],\n",
              "        [0., 0., 0., 0., 0., 0.],\n",
              "        [0., 0., 0., 0., 0., 0.],\n",
              "        ...,\n",
              "        [0., 0., 0., 0., 0., 0.],\n",
              "        [0., 0., 0., 0., 0., 0.],\n",
              "        [0., 0., 0., 0., 0., 0.]],\n",
              "\n",
              "       [[0., 0., 0., 0., 0., 0.],\n",
              "        [0., 0., 0., 0., 0., 0.],\n",
              "        [0., 0., 0., 0., 0., 0.],\n",
              "        ...,\n",
              "        [0., 0., 0., 0., 0., 0.],\n",
              "        [0., 0., 0., 0., 0., 0.],\n",
              "        [0., 0., 0., 0., 0., 0.]],\n",
              "\n",
              "       [[0., 0., 0., 0., 0., 0.],\n",
              "        [0., 0., 0., 0., 0., 0.],\n",
              "        [0., 0., 0., 0., 0., 0.],\n",
              "        ...,\n",
              "        [0., 0., 0., 0., 0., 0.],\n",
              "        [0., 0., 0., 0., 0., 0.],\n",
              "        [0., 0., 0., 0., 0., 0.]],\n",
              "\n",
              "       [[0., 0., 0., 0., 0., 0.],\n",
              "        [0., 0., 0., 0., 0., 0.],\n",
              "        [0., 0., 0., 0., 0., 0.],\n",
              "        ...,\n",
              "        [0., 0., 0., 0., 0., 0.],\n",
              "        [0., 0., 0., 0., 0., 0.],\n",
              "        [0., 0., 0., 0., 0., 0.]]])"
            ]
          },
          "metadata": {
            "tags": []
          },
          "execution_count": 27
        }
      ]
    },
    {
      "cell_type": "code",
      "metadata": {
        "id": "2g_QPbtjGeDX",
        "colab": {
          "base_uri": "https://localhost:8080/",
          "height": 136
        },
        "outputId": "c3ff1ca0-8ecf-4d05-98b8-9dcfbf95411d"
      },
      "source": [
        "Y_pred_ovr"
      ],
      "execution_count": null,
      "outputs": [
        {
          "output_type": "execute_result",
          "data": {
            "text/plain": [
              "array([[0, 0, 0, 0, 0, 0],\n",
              "       [0, 0, 0, 0, 0, 0],\n",
              "       [0, 0, 0, 0, 0, 0],\n",
              "       ...,\n",
              "       [0, 0, 0, 0, 0, 0],\n",
              "       [0, 0, 0, 0, 0, 0],\n",
              "       [0, 0, 0, 0, 0, 0]])"
            ]
          },
          "metadata": {
            "tags": []
          },
          "execution_count": 28
        }
      ]
    },
    {
      "cell_type": "code",
      "metadata": {
        "id": "LzNF3l9m96Sm",
        "colab": {
          "base_uri": "https://localhost:8080/",
          "height": 34
        },
        "outputId": "b347cb08-91f3-480c-9c33-ecef776c2727"
      },
      "source": [
        "accuracy_score(y_test, Y_pred_ovr)"
      ],
      "execution_count": null,
      "outputs": [
        {
          "output_type": "execute_result",
          "data": {
            "text/plain": [
              "0.9172585227272727"
            ]
          },
          "metadata": {
            "tags": []
          },
          "execution_count": 29
        }
      ]
    },
    {
      "cell_type": "code",
      "metadata": {
        "id": "0AEpiy3CrDif"
      },
      "source": [
        "from sklearn.metrics import f1_score"
      ],
      "execution_count": null,
      "outputs": []
    },
    {
      "cell_type": "code",
      "metadata": {
        "id": "3UEowT7CGPSr",
        "colab": {
          "base_uri": "https://localhost:8080/",
          "height": 34
        },
        "outputId": "7804acf4-446d-4eac-c261-bf6086bfd305"
      },
      "source": [
        "f1_score(y_test, Y_pred_ovr, average='weighted')"
      ],
      "execution_count": null,
      "outputs": [
        {
          "output_type": "execute_result",
          "data": {
            "text/plain": [
              "0.6420400942359448"
            ]
          },
          "metadata": {
            "tags": []
          },
          "execution_count": 32
        }
      ]
    },
    {
      "cell_type": "code",
      "metadata": {
        "id": "jC5gCB5--2TQ",
        "colab": {
          "base_uri": "https://localhost:8080/",
          "height": 136
        },
        "outputId": "7c239992-43eb-4a77-a9d3-921d6ee5e284"
      },
      "source": [
        "Y_pred_ensemble"
      ],
      "execution_count": null,
      "outputs": [
        {
          "output_type": "execute_result",
          "data": {
            "text/plain": [
              "array([[0., 0., 0., 0., 0., 0.],\n",
              "       [0., 0., 0., 0., 0., 0.],\n",
              "       [0., 0., 0., 0., 0., 0.],\n",
              "       ...,\n",
              "       [0., 0., 0., 0., 0., 0.],\n",
              "       [0., 0., 0., 0., 0., 0.],\n",
              "       [0., 0., 0., 0., 0., 0.]])"
            ]
          },
          "metadata": {
            "tags": []
          },
          "execution_count": 33
        }
      ]
    },
    {
      "cell_type": "code",
      "metadata": {
        "id": "NZk5DUEJByGB",
        "colab": {
          "base_uri": "https://localhost:8080/",
          "height": 34
        },
        "outputId": "594534e2-2be7-4e56-c6ae-f90ac1addf0f"
      },
      "source": [
        "accuracy_score(y_test, Y_pred_ensemble >= .5)"
      ],
      "execution_count": null,
      "outputs": [
        {
          "output_type": "execute_result",
          "data": {
            "text/plain": [
              "0.9193683155080213"
            ]
          },
          "metadata": {
            "tags": []
          },
          "execution_count": 34
        }
      ]
    },
    {
      "cell_type": "code",
      "metadata": {
        "id": "rVmeqdYHF5_a",
        "colab": {
          "base_uri": "https://localhost:8080/",
          "height": 34
        },
        "outputId": "5c390572-b07f-4027-f53c-6bf3dbbb67e5"
      },
      "source": [
        "f1_score(y_test, Y_pred_ensemble >= 0.5, average='weighted')"
      ],
      "execution_count": null,
      "outputs": [
        {
          "output_type": "execute_result",
          "data": {
            "text/plain": [
              "0.6616911579886408"
            ]
          },
          "metadata": {
            "tags": []
          },
          "execution_count": 35
        }
      ]
    },
    {
      "cell_type": "code",
      "metadata": {
        "id": "dFF6OBjfGpBO",
        "colab": {
          "base_uri": "https://localhost:8080/",
          "height": 204
        },
        "outputId": "be6cceb0-ac3c-47a1-d356-f1c000ad05f4"
      },
      "source": [
        "# initialize classifier chains multi-label classifier\n",
        "classifier = ClassifierChain(LogisticRegression())\n",
        "\n",
        "# Training logistic regression model on train data\n",
        "classifier.fit(X_train_vectorized, y_train)\n",
        "\n",
        "# predict\n",
        "predictions = classifier.predict(X_test_vectorized)\n",
        "\n",
        "# accuracy\n",
        "print(\"Accuracy = \",accuracy_score(y_test,predictions))\n",
        "print(\"\\n\")"
      ],
      "execution_count": null,
      "outputs": [
        {
          "output_type": "stream",
          "text": [
            "/usr/local/lib/python3.6/dist-packages/sklearn/linear_model/_logistic.py:940: ConvergenceWarning: lbfgs failed to converge (status=1):\n",
            "STOP: TOTAL NO. of ITERATIONS REACHED LIMIT.\n",
            "\n",
            "Increase the number of iterations (max_iter) or scale the data as shown in:\n",
            "    https://scikit-learn.org/stable/modules/preprocessing.html\n",
            "Please also refer to the documentation for alternative solver options:\n",
            "    https://scikit-learn.org/stable/modules/linear_model.html#logistic-regression\n",
            "  extra_warning_msg=_LOGISTIC_SOLVER_CONVERGENCE_MSG)\n"
          ],
          "name": "stderr"
        },
        {
          "output_type": "stream",
          "text": [
            "Accuracy =  0.9193683155080213\n",
            "\n",
            "\n"
          ],
          "name": "stdout"
        }
      ]
    },
    {
      "cell_type": "code",
      "metadata": {
        "id": "YMNFNH6rrou_",
        "colab": {
          "base_uri": "https://localhost:8080/",
          "height": 306
        },
        "outputId": "20a0741b-2572-4668-940b-76104dde5070"
      },
      "source": [
        "from sklearn.metrics import roc_auc_score, roc_curve, multilabel_confusion_matrix\n",
        "\n",
        "multilabel_confusion_matrix(y_test, predictions)"
      ],
      "execution_count": null,
      "outputs": [
        {
          "output_type": "execute_result",
          "data": {
            "text/plain": [
              "array([[[43080,   210],\n",
              "        [ 1966,  2616]],\n",
              "\n",
              "       [[47332,    54],\n",
              "        [  416,    70]],\n",
              "\n",
              "       [[45118,   198],\n",
              "        [  889,  1667]],\n",
              "\n",
              "       [[45018,   465],\n",
              "        [  995,  1394]],\n",
              "\n",
              "       [[47731,     5],\n",
              "        [  118,    18]],\n",
              "\n",
              "       [[47427,    13],\n",
              "        [  355,    77]]])"
            ]
          },
          "metadata": {
            "tags": []
          },
          "execution_count": 39
        }
      ]
    },
    {
      "cell_type": "code",
      "metadata": {
        "id": "ALqfq28hG0Xu"
      },
      "source": [
        "predictions"
      ],
      "execution_count": null,
      "outputs": []
    },
    {
      "cell_type": "code",
      "metadata": {
        "id": "F3TUdIg4HGnb"
      },
      "source": [
        "df_train"
      ],
      "execution_count": null,
      "outputs": []
    },
    {
      "cell_type": "markdown",
      "metadata": {
        "id": "-2Gdrts1HRXa"
      },
      "source": [
        "# Train on the entire dataset"
      ]
    },
    {
      "cell_type": "code",
      "metadata": {
        "id": "fOs1XxFLQIgN",
        "colab": {
          "base_uri": "https://localhost:8080/",
          "height": 1000
        },
        "outputId": "7a2fd729-6f8b-4293-9822-eafaaa58d19c"
      },
      "source": [
        "df_train"
      ],
      "execution_count": null,
      "outputs": [
        {
          "output_type": "execute_result",
          "data": {
            "text/html": [
              "<div>\n",
              "<style scoped>\n",
              "    .dataframe tbody tr th:only-of-type {\n",
              "        vertical-align: middle;\n",
              "    }\n",
              "\n",
              "    .dataframe tbody tr th {\n",
              "        vertical-align: top;\n",
              "    }\n",
              "\n",
              "    .dataframe thead th {\n",
              "        text-align: right;\n",
              "    }\n",
              "</style>\n",
              "<table border=\"1\" class=\"dataframe\">\n",
              "  <thead>\n",
              "    <tr style=\"text-align: right;\">\n",
              "      <th></th>\n",
              "      <th>Unnamed: 0</th>\n",
              "      <th>id</th>\n",
              "      <th>comment_text</th>\n",
              "      <th>toxic</th>\n",
              "      <th>severe_toxic</th>\n",
              "      <th>obscene</th>\n",
              "      <th>threat</th>\n",
              "      <th>insult</th>\n",
              "      <th>identity_hate</th>\n",
              "      <th>clean_text</th>\n",
              "      <th>tokenized</th>\n",
              "      <th>stopwords_removed</th>\n",
              "      <th>combined_postag_wnet</th>\n",
              "      <th>lemmatize_word_w_pos</th>\n",
              "      <th>lemmatize_text</th>\n",
              "    </tr>\n",
              "  </thead>\n",
              "  <tbody>\n",
              "    <tr>\n",
              "      <th>0</th>\n",
              "      <td>0</td>\n",
              "      <td>0000997932d777bf</td>\n",
              "      <td>Explanation\\nWhy the edits made under my usern...</td>\n",
              "      <td>0</td>\n",
              "      <td>0</td>\n",
              "      <td>0</td>\n",
              "      <td>0</td>\n",
              "      <td>0</td>\n",
              "      <td>0</td>\n",
              "      <td>explanation why the edits made under my userna...</td>\n",
              "      <td>['explanation', 'why', 'the', 'edits', 'made',...</td>\n",
              "      <td>['explanation', 'edits', 'made', 'username', '...</td>\n",
              "      <td>[('explanation', 'n'), ('edits', 'n'), ('made'...</td>\n",
              "      <td>['explanation', 'edits', 'make', 'username', '...</td>\n",
              "      <td>explanation edits make username hardcore metal...</td>\n",
              "    </tr>\n",
              "    <tr>\n",
              "      <th>1</th>\n",
              "      <td>1</td>\n",
              "      <td>000103f0d9cfb60f</td>\n",
              "      <td>D'aww! He matches this background colour I'm s...</td>\n",
              "      <td>0</td>\n",
              "      <td>0</td>\n",
              "      <td>0</td>\n",
              "      <td>0</td>\n",
              "      <td>0</td>\n",
              "      <td>0</td>\n",
              "      <td>daww he matches this background colour i am se...</td>\n",
              "      <td>['daww', 'he', 'matches', 'this', 'background'...</td>\n",
              "      <td>['daww', 'matches', 'background', 'colour', 's...</td>\n",
              "      <td>[('daww', 'n'), ('matches', 'n'), ('background...</td>\n",
              "      <td>['daww', 'match', 'background', 'colour', 'see...</td>\n",
              "      <td>daww match background colour seemingly stick t...</td>\n",
              "    </tr>\n",
              "    <tr>\n",
              "      <th>2</th>\n",
              "      <td>2</td>\n",
              "      <td>000113f07ec002fd</td>\n",
              "      <td>Hey man, I'm really not trying to edit war. It...</td>\n",
              "      <td>0</td>\n",
              "      <td>0</td>\n",
              "      <td>0</td>\n",
              "      <td>0</td>\n",
              "      <td>0</td>\n",
              "      <td>0</td>\n",
              "      <td>hey man i am really not trying to edit war it ...</td>\n",
              "      <td>['hey', 'man', 'i', 'am', 'really', 'not', 'tr...</td>\n",
              "      <td>['hey', 'man', 'really', 'trying', 'edit', 'wa...</td>\n",
              "      <td>[('hey', 'n'), ('man', 'n'), ('really', 'r'), ...</td>\n",
              "      <td>['hey', 'man', 'really', 'try', 'edit', 'war',...</td>\n",
              "      <td>hey man really try edit war guy constantly rem...</td>\n",
              "    </tr>\n",
              "    <tr>\n",
              "      <th>3</th>\n",
              "      <td>3</td>\n",
              "      <td>0001b41b1c6bb37e</td>\n",
              "      <td>\"\\nMore\\nI can't make any real suggestions on ...</td>\n",
              "      <td>0</td>\n",
              "      <td>0</td>\n",
              "      <td>0</td>\n",
              "      <td>0</td>\n",
              "      <td>0</td>\n",
              "      <td>0</td>\n",
              "      <td>more i can not make any real suggestions on i...</td>\n",
              "      <td>['more', 'i', 'can', 'not', 'make', 'any', 're...</td>\n",
              "      <td>['make', 'real', 'suggestions', 'improvement',...</td>\n",
              "      <td>[('make', 'v'), ('real', 'a'), ('suggestions',...</td>\n",
              "      <td>['make', 'real', 'suggestion', 'improvement', ...</td>\n",
              "      <td>make real suggestion improvement wondered sect...</td>\n",
              "    </tr>\n",
              "    <tr>\n",
              "      <th>4</th>\n",
              "      <td>4</td>\n",
              "      <td>0001d958c54c6e35</td>\n",
              "      <td>You, sir, are my hero. Any chance you remember...</td>\n",
              "      <td>0</td>\n",
              "      <td>0</td>\n",
              "      <td>0</td>\n",
              "      <td>0</td>\n",
              "      <td>0</td>\n",
              "      <td>0</td>\n",
              "      <td>you sir are my hero any chance you remember wh...</td>\n",
              "      <td>['you', 'sir', 'are', 'my', 'hero', 'any', 'ch...</td>\n",
              "      <td>['sir', 'hero', 'chance', 'remember', 'page']</td>\n",
              "      <td>[('sir', 'n'), ('hero', 'n'), ('chance', 'n'),...</td>\n",
              "      <td>['sir', 'hero', 'chance', 'remember', 'page']</td>\n",
              "      <td>sir hero chance remember page</td>\n",
              "    </tr>\n",
              "    <tr>\n",
              "      <th>...</th>\n",
              "      <td>...</td>\n",
              "      <td>...</td>\n",
              "      <td>...</td>\n",
              "      <td>...</td>\n",
              "      <td>...</td>\n",
              "      <td>...</td>\n",
              "      <td>...</td>\n",
              "      <td>...</td>\n",
              "      <td>...</td>\n",
              "      <td>...</td>\n",
              "      <td>...</td>\n",
              "      <td>...</td>\n",
              "      <td>...</td>\n",
              "      <td>...</td>\n",
              "      <td>...</td>\n",
              "    </tr>\n",
              "    <tr>\n",
              "      <th>159566</th>\n",
              "      <td>159566</td>\n",
              "      <td>ffe987279560d7ff</td>\n",
              "      <td>\":::::And for the second time of asking, when ...</td>\n",
              "      <td>0</td>\n",
              "      <td>0</td>\n",
              "      <td>0</td>\n",
              "      <td>0</td>\n",
              "      <td>0</td>\n",
              "      <td>0</td>\n",
              "      <td>and for the second time of asking when your vi...</td>\n",
              "      <td>['and', 'for', 'the', 'second', 'time', 'of', ...</td>\n",
              "      <td>['second', 'time', 'asking', 'view', 'complete...</td>\n",
              "      <td>[('second', 'n'), ('time', 'n'), ('asking', 'v...</td>\n",
              "      <td>['second', 'time', 'ask', 'view', 'completely'...</td>\n",
              "      <td>second time ask view completely contradicts co...</td>\n",
              "    </tr>\n",
              "    <tr>\n",
              "      <th>159567</th>\n",
              "      <td>159567</td>\n",
              "      <td>ffea4adeee384e90</td>\n",
              "      <td>You should be ashamed of yourself \\n\\nThat is ...</td>\n",
              "      <td>0</td>\n",
              "      <td>0</td>\n",
              "      <td>0</td>\n",
              "      <td>0</td>\n",
              "      <td>0</td>\n",
              "      <td>0</td>\n",
              "      <td>you should be ashamed of yourself that is a ho...</td>\n",
              "      <td>['you', 'should', 'be', 'ashamed', 'of', 'your...</td>\n",
              "      <td>['ashamed', 'horrible', 'thing', 'put', 'talk'...</td>\n",
              "      <td>[('ashamed', 'n'), ('horrible', 'n'), ('thing'...</td>\n",
              "      <td>['ashamed', 'horrible', 'thing', 'put', 'talk'...</td>\n",
              "      <td>ashamed horrible thing put talk page</td>\n",
              "    </tr>\n",
              "    <tr>\n",
              "      <th>159568</th>\n",
              "      <td>159568</td>\n",
              "      <td>ffee36eab5c267c9</td>\n",
              "      <td>Spitzer \\n\\nUmm, theres no actual article for ...</td>\n",
              "      <td>0</td>\n",
              "      <td>0</td>\n",
              "      <td>0</td>\n",
              "      <td>0</td>\n",
              "      <td>0</td>\n",
              "      <td>0</td>\n",
              "      <td>spitzer umm there is no actual article for pro...</td>\n",
              "      <td>['spitzer', 'umm', 'there', 'is', 'no', 'actua...</td>\n",
              "      <td>['spitzer', 'umm', 'actual', 'article', 'prost...</td>\n",
              "      <td>[('spitzer', 'n'), ('umm', 'n'), ('actual', 'a...</td>\n",
              "      <td>['spitzer', 'umm', 'actual', 'article', 'prost...</td>\n",
              "      <td>spitzer umm actual article prostitution ring c...</td>\n",
              "    </tr>\n",
              "    <tr>\n",
              "      <th>159569</th>\n",
              "      <td>159569</td>\n",
              "      <td>fff125370e4aaaf3</td>\n",
              "      <td>And it looks like it was actually you who put ...</td>\n",
              "      <td>0</td>\n",
              "      <td>0</td>\n",
              "      <td>0</td>\n",
              "      <td>0</td>\n",
              "      <td>0</td>\n",
              "      <td>0</td>\n",
              "      <td>and it looks like it was actually you who put ...</td>\n",
              "      <td>['and', 'it', 'looks', 'like', 'it', 'was', 'a...</td>\n",
              "      <td>['looks', 'like', 'actually', 'put', 'speedy',...</td>\n",
              "      <td>[('looks', 'v'), ('like', 'n'), ('actually', '...</td>\n",
              "      <td>['look', 'like', 'actually', 'put', 'speedy', ...</td>\n",
              "      <td>look like actually put speedy first version de...</td>\n",
              "    </tr>\n",
              "    <tr>\n",
              "      <th>159570</th>\n",
              "      <td>159570</td>\n",
              "      <td>fff46fc426af1f9a</td>\n",
              "      <td>\"\\nAnd ... I really don't think you understand...</td>\n",
              "      <td>0</td>\n",
              "      <td>0</td>\n",
              "      <td>0</td>\n",
              "      <td>0</td>\n",
              "      <td>0</td>\n",
              "      <td>0</td>\n",
              "      <td>and  i really do not think you understand i c...</td>\n",
              "      <td>['and', 'i', 'really', 'do', 'not', 'think', '...</td>\n",
              "      <td>['really', 'think', 'understand', 'came', 'ide...</td>\n",
              "      <td>[('really', 'r'), ('think', 'v'), ('understand...</td>\n",
              "      <td>['really', 'think', 'understand', 'come', 'ide...</td>\n",
              "      <td>really think understand come idea bad right aw...</td>\n",
              "    </tr>\n",
              "  </tbody>\n",
              "</table>\n",
              "<p>159571 rows × 15 columns</p>\n",
              "</div>"
            ],
            "text/plain": [
              "        Unnamed: 0  ...                                     lemmatize_text\n",
              "0                0  ...  explanation edits make username hardcore metal...\n",
              "1                1  ...  daww match background colour seemingly stick t...\n",
              "2                2  ...  hey man really try edit war guy constantly rem...\n",
              "3                3  ...  make real suggestion improvement wondered sect...\n",
              "4                4  ...                      sir hero chance remember page\n",
              "...            ...  ...                                                ...\n",
              "159566      159566  ...  second time ask view completely contradicts co...\n",
              "159567      159567  ...               ashamed horrible thing put talk page\n",
              "159568      159568  ...  spitzer umm actual article prostitution ring c...\n",
              "159569      159569  ...  look like actually put speedy first version de...\n",
              "159570      159570  ...  really think understand come idea bad right aw...\n",
              "\n",
              "[159571 rows x 15 columns]"
            ]
          },
          "metadata": {
            "tags": []
          },
          "execution_count": 6
        }
      ]
    },
    {
      "cell_type": "code",
      "metadata": {
        "id": "quEhnO9RQNWn",
        "colab": {
          "base_uri": "https://localhost:8080/",
          "height": 265
        },
        "outputId": "e2a67608-5ce0-458f-c2b3-977926023072"
      },
      "source": [
        "from matplotlib import pyplot as plt\n",
        "\n",
        "df_train['lemmatize_comment_length'] = df_train['lemmatize_text'].apply(lambda x: len(str(x)))\n",
        "plt.figure()\n",
        "plt.hist(df_train['lemmatize_comment_length'])\n",
        "plt.show()"
      ],
      "execution_count": null,
      "outputs": [
        {
          "output_type": "display_data",
          "data": {
            "image/png": "[encoded data removed]",
            "text/plain": [
              "<Figure size 432x288 with 1 Axes>"
            ]
          },
          "metadata": {
            "tags": [],
            "needs_background": "light"
          }
        }
      ]
    },
    {
      "cell_type": "code",
      "metadata": {
        "id": "_YYOhemjSNHH"
      },
      "source": [
        "df_train = df_train.fillna('')\n",
        "df_test = df_test.fillna('')"
      ],
      "execution_count": null,
      "outputs": []
    },
    {
      "cell_type": "code",
      "metadata": {
        "id": "HmYKOFJrbq_L",
        "colab": {
          "base_uri": "https://localhost:8080/",
          "height": 839
        },
        "outputId": "1cbc75e0-2c70-460e-a879-bd2fe4238ddb"
      },
      "source": [
        "df_test"
      ],
      "execution_count": null,
      "outputs": [
        {
          "output_type": "execute_result",
          "data": {
            "text/html": [
              "<div>\n",
              "<style scoped>\n",
              "    .dataframe tbody tr th:only-of-type {\n",
              "        vertical-align: middle;\n",
              "    }\n",
              "\n",
              "    .dataframe tbody tr th {\n",
              "        vertical-align: top;\n",
              "    }\n",
              "\n",
              "    .dataframe thead th {\n",
              "        text-align: right;\n",
              "    }\n",
              "</style>\n",
              "<table border=\"1\" class=\"dataframe\">\n",
              "  <thead>\n",
              "    <tr style=\"text-align: right;\">\n",
              "      <th></th>\n",
              "      <th>Unnamed: 0</th>\n",
              "      <th>Unnamed: 0.1</th>\n",
              "      <th>id</th>\n",
              "      <th>comment_text</th>\n",
              "      <th>clean_text</th>\n",
              "      <th>tokenized</th>\n",
              "      <th>stopwords_removed</th>\n",
              "      <th>combined_postag_wnet</th>\n",
              "      <th>lemmatize_word_w_pos</th>\n",
              "      <th>lemmatize_text</th>\n",
              "    </tr>\n",
              "  </thead>\n",
              "  <tbody>\n",
              "    <tr>\n",
              "      <th>0</th>\n",
              "      <td>0</td>\n",
              "      <td>0</td>\n",
              "      <td>00001cee341fdb12</td>\n",
              "      <td>Yo bitch Ja Rule is more succesful then you'll...</td>\n",
              "      <td>yo bitch ja rule is more succesful then you wi...</td>\n",
              "      <td>['yo', 'bitch', 'ja', 'rule', 'is', 'more', 's...</td>\n",
              "      <td>['yo', 'bitch', 'ja', 'rule', 'succesful', 'ev...</td>\n",
              "      <td>[('yo', 'n'), ('bitch', 'n'), ('ja', 'n'), ('r...</td>\n",
              "      <td>['yo', 'bitch', 'ja', 'rule', 'succesful', 'ev...</td>\n",
              "      <td>yo bitch ja rule succesful ever hating sad mof...</td>\n",
              "    </tr>\n",
              "    <tr>\n",
              "      <th>1</th>\n",
              "      <td>1</td>\n",
              "      <td>1</td>\n",
              "      <td>0000247867823ef7</td>\n",
              "      <td>== From RfC == \\n\\n The title is fine as it is...</td>\n",
              "      <td>from rfc  the title is fine as it is in my op...</td>\n",
              "      <td>['from', 'rfc', 'the', 'title', 'is', 'fine', ...</td>\n",
              "      <td>['rfc', 'title', 'fine', 'opinion']</td>\n",
              "      <td>[('rfc', 'n'), ('title', 'n'), ('fine', 'a'), ...</td>\n",
              "      <td>['rfc', 'title', 'fine', 'opinion']</td>\n",
              "      <td>rfc title fine opinion</td>\n",
              "    </tr>\n",
              "    <tr>\n",
              "      <th>2</th>\n",
              "      <td>2</td>\n",
              "      <td>2</td>\n",
              "      <td>00013b17ad220c46</td>\n",
              "      <td>\" \\n\\n == Sources == \\n\\n * Zawe Ashton on Lap...</td>\n",
              "      <td>sources   zawe ashton on lapland</td>\n",
              "      <td>['sources', 'zawe', 'ashton', 'on', 'lapland']</td>\n",
              "      <td>['sources', 'zawe', 'ashton', 'lapland']</td>\n",
              "      <td>[('sources', 'n'), ('zawe', 'n'), ('ashton', '...</td>\n",
              "      <td>['source', 'zawe', 'ashton', 'lapland']</td>\n",
              "      <td>source zawe ashton lapland</td>\n",
              "    </tr>\n",
              "    <tr>\n",
              "      <th>3</th>\n",
              "      <td>3</td>\n",
              "      <td>3</td>\n",
              "      <td>00017563c3f7919a</td>\n",
              "      <td>:If you have a look back at the source, the in...</td>\n",
              "      <td>if you have a look back at the source the info...</td>\n",
              "      <td>['if', 'you', 'have', 'a', 'look', 'back', 'at...</td>\n",
              "      <td>['look', 'back', 'source', 'information', 'upd...</td>\n",
              "      <td>[('look', 'v'), ('back', 'r'), ('source', 'n')...</td>\n",
              "      <td>['look', 'back', 'source', 'information', 'upd...</td>\n",
              "      <td>look back source information update correct fo...</td>\n",
              "    </tr>\n",
              "    <tr>\n",
              "      <th>4</th>\n",
              "      <td>4</td>\n",
              "      <td>4</td>\n",
              "      <td>00017695ad8997eb</td>\n",
              "      <td>I don't anonymously edit articles at all.</td>\n",
              "      <td>i do not anonymously edit articles at all</td>\n",
              "      <td>['i', 'do', 'not', 'anonymously', 'edit', 'art...</td>\n",
              "      <td>['anonymously', 'edit', 'articles']</td>\n",
              "      <td>[('anonymously', 'n'), ('edit', 'n'), ('articl...</td>\n",
              "      <td>['anonymously', 'edit', 'article']</td>\n",
              "      <td>anonymously edit article</td>\n",
              "    </tr>\n",
              "    <tr>\n",
              "      <th>...</th>\n",
              "      <td>...</td>\n",
              "      <td>...</td>\n",
              "      <td>...</td>\n",
              "      <td>...</td>\n",
              "      <td>...</td>\n",
              "      <td>...</td>\n",
              "      <td>...</td>\n",
              "      <td>...</td>\n",
              "      <td>...</td>\n",
              "      <td>...</td>\n",
              "    </tr>\n",
              "    <tr>\n",
              "      <th>153159</th>\n",
              "      <td>153159</td>\n",
              "      <td>153159</td>\n",
              "      <td>fffcd0960ee309b5</td>\n",
              "      <td>. \\n i totally agree, this stuff is nothing bu...</td>\n",
              "      <td>i totally agree this stuff is nothing but too...</td>\n",
              "      <td>['i', 'totally', 'agree', 'this', 'stuff', 'is...</td>\n",
              "      <td>['totally', 'agree', 'stuff', 'nothing', 'tool...</td>\n",
              "      <td>[('totally', 'r'), ('agree', 'v'), ('stuff', '...</td>\n",
              "      <td>['totally', 'agree', 'stuff', 'nothing', 'tool...</td>\n",
              "      <td>totally agree stuff nothing toolongcrap</td>\n",
              "    </tr>\n",
              "    <tr>\n",
              "      <th>153160</th>\n",
              "      <td>153160</td>\n",
              "      <td>153160</td>\n",
              "      <td>fffd7a9a6eb32c16</td>\n",
              "      <td>== Throw from out field to home plate. == \\n\\n...</td>\n",
              "      <td>throw from out field to home plate  does it g...</td>\n",
              "      <td>['throw', 'from', 'out', 'field', 'to', 'home'...</td>\n",
              "      <td>['throw', 'field', 'home', 'plate', 'get', 'fa...</td>\n",
              "      <td>[('throw', 'v'), ('field', 'n'), ('home', 'n')...</td>\n",
              "      <td>['throw', 'field', 'home', 'plate', 'get', 'fa...</td>\n",
              "      <td>throw field home plate get fast throw cut man ...</td>\n",
              "    </tr>\n",
              "    <tr>\n",
              "      <th>153161</th>\n",
              "      <td>153161</td>\n",
              "      <td>153161</td>\n",
              "      <td>fffda9e8d6fafa9e</td>\n",
              "      <td>\" \\n\\n == Okinotorishima categories == \\n\\n I ...</td>\n",
              "      <td>okinotorishima categories  i see your change...</td>\n",
              "      <td>['okinotorishima', 'categories', 'i', 'see', '...</td>\n",
              "      <td>['okinotorishima', 'categories', 'see', 'chang...</td>\n",
              "      <td>[('okinotorishima', 'n'), ('categories', 'n'),...</td>\n",
              "      <td>['okinotorishima', 'category', 'see', 'change'...</td>\n",
              "      <td>okinotorishima category see change agree corre...</td>\n",
              "    </tr>\n",
              "    <tr>\n",
              "      <th>153162</th>\n",
              "      <td>153162</td>\n",
              "      <td>153162</td>\n",
              "      <td>fffe8f1340a79fc2</td>\n",
              "      <td>\" \\n\\n == \"\"One of the founding nations of the...</td>\n",
              "      <td>one of the founding nations of the eu  germa...</td>\n",
              "      <td>['one', 'of', 'the', 'founding', 'nations', 'o...</td>\n",
              "      <td>['one', 'founding', 'nations', 'eu', 'germany'...</td>\n",
              "      <td>[('one', 'n'), ('founding', 'v'), ('nations', ...</td>\n",
              "      <td>['one', 'found', 'nation', 'eu', 'germany', 'l...</td>\n",
              "      <td>one found nation eu germany law return quite s...</td>\n",
              "    </tr>\n",
              "    <tr>\n",
              "      <th>153163</th>\n",
              "      <td>153163</td>\n",
              "      <td>153163</td>\n",
              "      <td>ffffce3fb183ee80</td>\n",
              "      <td>\" \\n :::Stop already. Your bullshit is not wel...</td>\n",
              "      <td>stop already your bullshit is not welcome her...</td>\n",
              "      <td>['stop', 'already', 'your', 'bullshit', 'is', ...</td>\n",
              "      <td>['stop', 'already', 'bullshit', 'welcome', 'fo...</td>\n",
              "      <td>[('stop', 'v'), ('already', 'r'), ('bullshit',...</td>\n",
              "      <td>['stop', 'already', 'bullshit', 'welcome', 'fo...</td>\n",
              "      <td>stop already bullshit welcome fool think kind ...</td>\n",
              "    </tr>\n",
              "  </tbody>\n",
              "</table>\n",
              "<p>153164 rows × 10 columns</p>\n",
              "</div>"
            ],
            "text/plain": [
              "        Unnamed: 0  ...                                     lemmatize_text\n",
              "0                0  ...  yo bitch ja rule succesful ever hating sad mof...\n",
              "1                1  ...                             rfc title fine opinion\n",
              "2                2  ...                         source zawe ashton lapland\n",
              "3                3  ...  look back source information update correct fo...\n",
              "4                4  ...                           anonymously edit article\n",
              "...            ...  ...                                                ...\n",
              "153159      153159  ...            totally agree stuff nothing toolongcrap\n",
              "153160      153160  ...  throw field home plate get fast throw cut man ...\n",
              "153161      153161  ...  okinotorishima category see change agree corre...\n",
              "153162      153162  ...  one found nation eu germany law return quite s...\n",
              "153163      153163  ...  stop already bullshit welcome fool think kind ...\n",
              "\n",
              "[153164 rows x 10 columns]"
            ]
          },
          "metadata": {
            "tags": []
          },
          "execution_count": 9
        }
      ]
    },
    {
      "cell_type": "code",
      "metadata": {
        "id": "5LNd7YUJRe8n"
      },
      "source": [
        "vectorizer = TfidfVectorizer(strip_accents='unicode', analyzer='word', norm='l2', max_features=10000) # ngram_range=(1,2)\n",
        "X_train_vectorized = vectorizer.fit_transform(df_train['lemmatize_text'])\n",
        "X_test_vectorized = vectorizer.transform(df_test['lemmatize_text'])"
      ],
      "execution_count": null,
      "outputs": []
    },
    {
      "cell_type": "code",
      "metadata": {
        "id": "dAtwMccpcrSq"
      },
      "source": [
        "type(X_train_vectorized)\n",
        "X_train_vectorized.todense().shape"
      ],
      "execution_count": null,
      "outputs": []
    },
    {
      "cell_type": "code",
      "metadata": {
        "id": "pOfLjV5vcsyE",
        "colab": {
          "base_uri": "https://localhost:8080/"
        },
        "outputId": "7b14aa40-2497-4932-c0fd-83e5940cd57a"
      },
      "source": [
        "X_test_vectorized"
      ],
      "execution_count": null,
      "outputs": [
        {
          "output_type": "execute_result",
          "data": {
            "text/plain": [
              "<153164x5000 sparse matrix of type '<class 'numpy.float64'>'\n",
              "\twith 2908849 stored elements in Compressed Sparse Row format>"
            ]
          },
          "metadata": {
            "tags": []
          },
          "execution_count": 7
        }
      ]
    },
    {
      "cell_type": "code",
      "metadata": {
        "id": "_zhjl5h2ECQP"
      },
      "source": [
        "# predict_proba for roc_auc_score"
      ],
      "execution_count": null,
      "outputs": []
    },
    {
      "cell_type": "code",
      "metadata": {
        "id": "LQGIuwFrcw51",
        "colab": {
          "base_uri": "https://localhost:8080/",
          "height": 454
        },
        "outputId": "f89f732c-2e0f-4aa5-ea56-65f47ed8531a"
      },
      "source": [
        "from sklearn.linear_model import LogisticRegression\n",
        "from sklearn.metrics import accuracy_score, f1_score, roc_auc_score\n",
        "logreg = LogisticRegression(C=12.0, max_iter=300)\n",
        "\n",
        "# create submission file\n",
        "submission_binary = pd.read_csv('/content/drive/My Drive/CS3244 Project/sample_submission.csv')\n",
        "\n",
        "columns = ['obscene','insult','toxic','severe_toxic','identity_hate','threat']\n",
        "\n",
        "vectorizer = TfidfVectorizer(strip_accents='unicode', analyzer='word', norm='l2', max_features=5000) # ngram_range=(1,2)\n",
        "X_train_vectorized = vectorizer.fit_transform(df_train['lemmatize_text'])\n",
        "X_test_vectorized = vectorizer.transform(df_test['lemmatize_text'])\n",
        "\n",
        "for label in columns:\n",
        "    print('... Processing {}'.format(label))\n",
        "    y = df_train[label]\n",
        "    # train the model using X_dtm & y\n",
        "    logreg.fit(X_train_vectorized, y)\n",
        "    # compute the training accuracy\n",
        "    y_pred_X = logreg.predict(X_train_vectorized)\n",
        "    y_pred_proba_X = logreg.predict_proba(X_train_vectorized) [:,1]\n",
        "    print('Training accuracy is {}'.format(accuracy_score(y, y_pred_X)))\n",
        "    print('Training f1_score is {}'.format(f1_score(y, y_pred_X)))\n",
        "    print('Training roc_auc_score is {}'.format(roc_auc_score(y, y_pred_proba_X)))\n",
        "\n",
        "    # compute the predicted probabilities for X_test_dtm\n",
        "    test_y_prob = logreg.predict_proba(X_test_vectorized)[:,1]\n",
        "    submission_binary[label] = test_y_prob"
      ],
      "execution_count": null,
      "outputs": [
        {
          "output_type": "stream",
          "text": [
            "... Processing obscene\n",
            "Training accuracy is 0.9818576057052973\n",
            "Training f1_score is 0.8119274995127654\n",
            "Training roc_auc_score is 0.9888227160378774\n",
            "... Processing insult\n",
            "Training accuracy is 0.9758226745461268\n",
            "Training f1_score is 0.7236785560807907\n",
            "Training roc_auc_score is 0.984102166171212\n",
            "... Processing toxic\n",
            "Training accuracy is 0.9637026778048643\n",
            "Training f1_score is 0.789105738421206\n",
            "Training roc_auc_score is 0.9777146595538143\n",
            "... Processing severe_toxic\n",
            "Training accuracy is 0.9920348935583533\n",
            "Training f1_score is 0.4922093487814623\n",
            "Training roc_auc_score is 0.9934567875315532\n",
            "... Processing identity_hate\n",
            "Training accuracy is 0.994052804080942\n",
            "Training f1_score is 0.5620673742501153\n",
            "Training roc_auc_score is 0.992883169774825\n",
            "... Processing threat\n",
            "Training accuracy is 0.9979946230831417\n",
            "Training f1_score is 0.553072625698324\n",
            "Training roc_auc_score is 0.9984694749869599\n"
          ],
          "name": "stdout"
        }
      ]
    },
    {
      "cell_type": "code",
      "metadata": {
        "id": "haAKFSxXOkmA",
        "colab": {
          "base_uri": "https://localhost:8080/",
          "height": 425
        },
        "outputId": "f2d561fc-45f2-4b81-b1f8-9cb25c69fcc3"
      },
      "source": [
        "from sklearn.linear_model import LogisticRegression\n",
        "from sklearn.metrics import accuracy_score, f1_score, roc_auc_score\n",
        "logreg = LogisticRegression(C=12.0, max_iter=300)\n",
        "\n",
        "# create submission file\n",
        "submission_binary = pd.read_csv('/content/drive/My Drive/CS3244 Project/sample_submission.csv')\n",
        "\n",
        "columns = ['obscene','insult','toxic','severe_toxic','identity_hate','threat']\n",
        "\n",
        "X = df_train['lemmatize_text']\n",
        "y = df_train[columns]\n",
        "\n",
        "X_train, X_test, y_train, y_test = train_test_split(X, y, test_size=0.30)\n",
        "vectorizer = TfidfVectorizer(strip_accents='unicode', analyzer='word', norm='l2', max_features=5000) # ngram_range=(1,2)\n",
        "X_train_vectorized = vectorizer.fit_transform(X_train)\n",
        "X_test_vectorized = vectorizer.transform(X_test)\n",
        "\n",
        "for label in columns:\n",
        "    print('... Processing {}'.format(label))\n",
        "    y_train_label = y_train[label]\n",
        "    y_test_label = y_test[label]\n",
        "    # train the model using X_dtm & y\n",
        "    logreg.fit(X_train_vectorized, y_train_label)\n",
        "    # compute the training accuracy\n",
        "    y_test_pred_X = logreg.predict(X_test_vectorized)\n",
        "    y_test_pred_proba_X = logreg.predict_proba(X_test_vectorized) [:,1]\n",
        "    print('Test accuracy is {}'.format(accuracy_score(y_test_label, y_test_pred_X)))\n",
        "    print('Test f1_score is {}'.format(f1_score(y_test_label, y_test_pred_X)))\n",
        "    print('Test roc_auc_score is {}'.format(roc_auc_score(y_test_label, y_test_pred_proba_X)))\n",
        "\n",
        "    # compute the predicted probabilities for X_test_dtm"
      ],
      "execution_count": null,
      "outputs": [
        {
          "output_type": "stream",
          "text": [
            "... Processing obscene\n",
            "Test accuracy is 0.9780038435828877\n",
            "Test f1_score is 0.7686222808174028\n",
            "Test roc_auc_score is 0.9708640493380037\n",
            "... Processing insult\n",
            "Test accuracy is 0.9707344585561497\n",
            "Test f1_score is 0.6577082824334228\n",
            "Test roc_auc_score is 0.9640924159751705\n",
            "... Processing toxic\n",
            "Test accuracy is 0.9587650401069518\n",
            "Test f1_score is 0.7567767373090193\n",
            "Test roc_auc_score is 0.9607971672698011\n",
            "... Processing severe_toxic\n",
            "Test accuracy is 0.9902865975935828\n",
            "Test f1_score is 0.3478260869565218\n",
            "Test roc_auc_score is 0.976027907606855\n",
            "... Processing identity_hate\n",
            "Test accuracy is 0.9923963903743316\n",
            "Test f1_score is 0.42767295597484273\n",
            "Test roc_auc_score is 0.9638256667477881\n",
            "... Processing threat\n",
            "Test accuracy is 0.9971799799465241\n",
            "Test f1_score is 0.33497536945812806\n",
            "Test roc_auc_score is 0.9751574751136067\n"
          ],
          "name": "stdout"
        }
      ]
    },
    {
      "cell_type": "code",
      "metadata": {
        "id": "CUciT70rMb9x",
        "colab": {
          "base_uri": "https://localhost:8080/",
          "height": 54
        },
        "outputId": "c53e05bb-1105-45e2-d0ba-815c63eea265"
      },
      "source": [
        "logreg.predict_proba(X_train_vectorized)[:,1]"
      ],
      "execution_count": null,
      "outputs": [
        {
          "output_type": "execute_result",
          "data": {
            "text/plain": [
              "array([3.43729323e-05, 1.16832790e-04, 1.03053792e-04, ...,\n",
              "       5.80949670e-05, 8.08299300e-05, 1.96999781e-03])"
            ]
          },
          "metadata": {
            "tags": []
          },
          "execution_count": 24
        }
      ]
    },
    {
      "cell_type": "code",
      "metadata": {
        "id": "jFPRbPy6fM5l",
        "colab": {
          "base_uri": "https://localhost:8080/",
          "height": 407
        },
        "outputId": "1b28aca0-d5d9-409a-9666-cf5fd4bcb069"
      },
      "source": [
        "submission_binary"
      ],
      "execution_count": null,
      "outputs": [
        {
          "output_type": "execute_result",
          "data": {
            "text/html": [
              "<div>\n",
              "<style scoped>\n",
              "    .dataframe tbody tr th:only-of-type {\n",
              "        vertical-align: middle;\n",
              "    }\n",
              "\n",
              "    .dataframe tbody tr th {\n",
              "        vertical-align: top;\n",
              "    }\n",
              "\n",
              "    .dataframe thead th {\n",
              "        text-align: right;\n",
              "    }\n",
              "</style>\n",
              "<table border=\"1\" class=\"dataframe\">\n",
              "  <thead>\n",
              "    <tr style=\"text-align: right;\">\n",
              "      <th></th>\n",
              "      <th>id</th>\n",
              "      <th>toxic</th>\n",
              "      <th>severe_toxic</th>\n",
              "      <th>obscene</th>\n",
              "      <th>threat</th>\n",
              "      <th>insult</th>\n",
              "      <th>identity_hate</th>\n",
              "    </tr>\n",
              "  </thead>\n",
              "  <tbody>\n",
              "    <tr>\n",
              "      <th>0</th>\n",
              "      <td>00001cee341fdb12</td>\n",
              "      <td>0.999664</td>\n",
              "      <td>0.196321</td>\n",
              "      <td>0.999294</td>\n",
              "      <td>0.163336</td>\n",
              "      <td>0.970496</td>\n",
              "      <td>0.239690</td>\n",
              "    </tr>\n",
              "    <tr>\n",
              "      <th>1</th>\n",
              "      <td>0000247867823ef7</td>\n",
              "      <td>0.001448</td>\n",
              "      <td>0.000560</td>\n",
              "      <td>0.000378</td>\n",
              "      <td>0.000283</td>\n",
              "      <td>0.002833</td>\n",
              "      <td>0.000757</td>\n",
              "    </tr>\n",
              "    <tr>\n",
              "      <th>2</th>\n",
              "      <td>00013b17ad220c46</td>\n",
              "      <td>0.005990</td>\n",
              "      <td>0.000249</td>\n",
              "      <td>0.001976</td>\n",
              "      <td>0.000008</td>\n",
              "      <td>0.001816</td>\n",
              "      <td>0.000089</td>\n",
              "    </tr>\n",
              "    <tr>\n",
              "      <th>3</th>\n",
              "      <td>00017563c3f7919a</td>\n",
              "      <td>0.001782</td>\n",
              "      <td>0.001891</td>\n",
              "      <td>0.001778</td>\n",
              "      <td>0.000128</td>\n",
              "      <td>0.002619</td>\n",
              "      <td>0.000091</td>\n",
              "    </tr>\n",
              "    <tr>\n",
              "      <th>4</th>\n",
              "      <td>00017695ad8997eb</td>\n",
              "      <td>0.012462</td>\n",
              "      <td>0.000262</td>\n",
              "      <td>0.001410</td>\n",
              "      <td>0.000348</td>\n",
              "      <td>0.002985</td>\n",
              "      <td>0.000386</td>\n",
              "    </tr>\n",
              "    <tr>\n",
              "      <th>...</th>\n",
              "      <td>...</td>\n",
              "      <td>...</td>\n",
              "      <td>...</td>\n",
              "      <td>...</td>\n",
              "      <td>...</td>\n",
              "      <td>...</td>\n",
              "      <td>...</td>\n",
              "    </tr>\n",
              "    <tr>\n",
              "      <th>153159</th>\n",
              "      <td>fffcd0960ee309b5</td>\n",
              "      <td>0.033246</td>\n",
              "      <td>0.000117</td>\n",
              "      <td>0.002090</td>\n",
              "      <td>0.000333</td>\n",
              "      <td>0.012084</td>\n",
              "      <td>0.000247</td>\n",
              "    </tr>\n",
              "    <tr>\n",
              "      <th>153160</th>\n",
              "      <td>fffd7a9a6eb32c16</td>\n",
              "      <td>0.038302</td>\n",
              "      <td>0.002041</td>\n",
              "      <td>0.006383</td>\n",
              "      <td>0.008475</td>\n",
              "      <td>0.017371</td>\n",
              "      <td>0.033007</td>\n",
              "    </tr>\n",
              "    <tr>\n",
              "      <th>153161</th>\n",
              "      <td>fffda9e8d6fafa9e</td>\n",
              "      <td>0.000974</td>\n",
              "      <td>0.000127</td>\n",
              "      <td>0.005805</td>\n",
              "      <td>0.000212</td>\n",
              "      <td>0.001298</td>\n",
              "      <td>0.000321</td>\n",
              "    </tr>\n",
              "    <tr>\n",
              "      <th>153162</th>\n",
              "      <td>fffe8f1340a79fc2</td>\n",
              "      <td>0.008781</td>\n",
              "      <td>0.000976</td>\n",
              "      <td>0.021825</td>\n",
              "      <td>0.007176</td>\n",
              "      <td>0.007857</td>\n",
              "      <td>0.022365</td>\n",
              "    </tr>\n",
              "    <tr>\n",
              "      <th>153163</th>\n",
              "      <td>ffffce3fb183ee80</td>\n",
              "      <td>0.996695</td>\n",
              "      <td>0.000174</td>\n",
              "      <td>0.894595</td>\n",
              "      <td>0.001049</td>\n",
              "      <td>0.286736</td>\n",
              "      <td>0.001376</td>\n",
              "    </tr>\n",
              "  </tbody>\n",
              "</table>\n",
              "<p>153164 rows × 7 columns</p>\n",
              "</div>"
            ],
            "text/plain": [
              "                      id     toxic  ...    insult  identity_hate\n",
              "0       00001cee341fdb12  0.999664  ...  0.970496       0.239690\n",
              "1       0000247867823ef7  0.001448  ...  0.002833       0.000757\n",
              "2       00013b17ad220c46  0.005990  ...  0.001816       0.000089\n",
              "3       00017563c3f7919a  0.001782  ...  0.002619       0.000091\n",
              "4       00017695ad8997eb  0.012462  ...  0.002985       0.000386\n",
              "...                  ...       ...  ...       ...            ...\n",
              "153159  fffcd0960ee309b5  0.033246  ...  0.012084       0.000247\n",
              "153160  fffd7a9a6eb32c16  0.038302  ...  0.017371       0.033007\n",
              "153161  fffda9e8d6fafa9e  0.000974  ...  0.001298       0.000321\n",
              "153162  fffe8f1340a79fc2  0.008781  ...  0.007857       0.022365\n",
              "153163  ffffce3fb183ee80  0.996695  ...  0.286736       0.001376\n",
              "\n",
              "[153164 rows x 7 columns]"
            ]
          },
          "metadata": {
            "tags": []
          },
          "execution_count": 34
        }
      ]
    },
    {
      "cell_type": "code",
      "metadata": {
        "id": "c4Wbxm52fVA5"
      },
      "source": [
        "submission_binary.to_csv('submission_binary_relevance_improved.csv',index=False)"
      ],
      "execution_count": null,
      "outputs": []
    },
    {
      "cell_type": "markdown",
      "metadata": {
        "id": "haK17eySkFSR"
      },
      "source": [
        "### Classifier Chains"
      ]
    },
    {
      "cell_type": "code",
      "metadata": {
        "id": "Qrw3-rZJkI2k"
      },
      "source": [
        "from scipy.sparse import csr_matrix, hstack\n",
        "\n",
        "def add_feature(X, feature_to_add):\n",
        "    '''\n",
        "    Returns sparse feature matrix with added feature.\n",
        "    feature_to_add can also be a list of features.\n",
        "    '''\n",
        "    return hstack([X, csr_matrix(feature_to_add).T], 'csr')"
      ],
      "execution_count": null,
      "outputs": []
    },
    {
      "cell_type": "code",
      "metadata": {
        "id": "Cr16kzBUlhmC"
      },
      "source": [
        "submission_chain_classifiers = pd.read_csv('/content/drive/My Drive/CS3244 Project/sample_submission.csv')"
      ],
      "execution_count": null,
      "outputs": []
    },
    {
      "cell_type": "code",
      "metadata": {
        "id": "6zLeq36Qkgua",
        "colab": {
          "base_uri": "https://localhost:8080/",
          "height": 1000
        },
        "outputId": "a4bfa1ce-0383-4a59-80bd-66ea2570b796"
      },
      "source": [
        "columns = ['obscene','insult','toxic','severe_toxic','identity_hate','threat']\n",
        "from sklearn.linear_model import LogisticRegression\n",
        "from sklearn.metrics import accuracy_score, f1_score, roc_auc_score\n",
        "logreg = LogisticRegression(C=12.0)\n",
        "\n",
        "for label in columns:\n",
        "    print('... Processing {}'.format(label))\n",
        "    y = df_train[label]\n",
        "    # train the model using X_test_vectorized & y\n",
        "    logreg.fit(X_train_vectorized,y)\n",
        "    # compute the training accuracy\n",
        "    y_pred_X = logreg.predict(X_train_vectorized)\n",
        "    print('Training Accuracy is {}'.format(accuracy_score(y,y_pred_X)))\n",
        "    print('Training f1_score is {}'.format(f1_score(y,y_pred_X)))\n",
        "    print('Training Roc_auc_score is {}'.format(roc_auc_score(y,y_pred_X)))\n",
        "\n",
        "    # make predictions from df_test\n",
        "    test_y = logreg.predict(X_test_vectorized)\n",
        "    test_y_prob = logreg.predict_proba(X_test_vectorized)[:,1]\n",
        "    submission_chain_classifiers[label] = test_y_prob\n",
        "    # chain current label to X_train_vectorized\n",
        "    X_train_vectorized = add_feature(X_train_vectorized, y_pred_X)\n",
        "    print('Shape of X_train_vectorized is now {}'.format(X_train_vectorized.shape))\n",
        "    # chain current label predictions to X_test_vectorized\n",
        "    X_test_vectorized = add_feature(X_test_vectorized, test_y)\n",
        "    print('Shape of X_test_vectorized is now {}'.format(X_test_vectorized.shape))"
      ],
      "execution_count": null,
      "outputs": [
        {
          "output_type": "stream",
          "text": [
            "... Processing obscene\n"
          ],
          "name": "stdout"
        },
        {
          "output_type": "stream",
          "text": [
            "/usr/local/lib/python3.6/dist-packages/sklearn/linear_model/_logistic.py:940: ConvergenceWarning: lbfgs failed to converge (status=1):\n",
            "STOP: TOTAL NO. of ITERATIONS REACHED LIMIT.\n",
            "\n",
            "Increase the number of iterations (max_iter) or scale the data as shown in:\n",
            "    https://scikit-learn.org/stable/modules/preprocessing.html\n",
            "Please also refer to the documentation for alternative solver options:\n",
            "    https://scikit-learn.org/stable/modules/linear_model.html#logistic-regression\n",
            "  extra_warning_msg=_LOGISTIC_SOLVER_CONVERGENCE_MSG)\n"
          ],
          "name": "stderr"
        },
        {
          "output_type": "stream",
          "text": [
            "Training Accuracy is 0.9818200048881063\n",
            "Training f1_score is 0.8115866727284535\n",
            "Training Roc_auc_score is 0.8674318895780013\n",
            "Shape of X_train_vectorized is now (159571, 5001)\n",
            "Shape of X_test_vectorized is now (153164, 5001)\n",
            "... Processing insult\n"
          ],
          "name": "stdout"
        },
        {
          "output_type": "stream",
          "text": [
            "/usr/local/lib/python3.6/dist-packages/sklearn/linear_model/_logistic.py:940: ConvergenceWarning: lbfgs failed to converge (status=1):\n",
            "STOP: TOTAL NO. of ITERATIONS REACHED LIMIT.\n",
            "\n",
            "Increase the number of iterations (max_iter) or scale the data as shown in:\n",
            "    https://scikit-learn.org/stable/modules/preprocessing.html\n",
            "Please also refer to the documentation for alternative solver options:\n",
            "    https://scikit-learn.org/stable/modules/linear_model.html#logistic-regression\n",
            "  extra_warning_msg=_LOGISTIC_SOLVER_CONVERGENCE_MSG)\n"
          ],
          "name": "stderr"
        },
        {
          "output_type": "stream",
          "text": [
            "Training Accuracy is 0.9761360146893859\n",
            "Training f1_score is 0.7296990346394094\n",
            "Training Roc_auc_score is 0.822736212024254\n",
            "Shape of X_train_vectorized is now (159571, 5002)\n",
            "Shape of X_test_vectorized is now (153164, 5002)\n",
            "... Processing toxic\n"
          ],
          "name": "stdout"
        },
        {
          "output_type": "stream",
          "text": [
            "/usr/local/lib/python3.6/dist-packages/sklearn/linear_model/_logistic.py:940: ConvergenceWarning: lbfgs failed to converge (status=1):\n",
            "STOP: TOTAL NO. of ITERATIONS REACHED LIMIT.\n",
            "\n",
            "Increase the number of iterations (max_iter) or scale the data as shown in:\n",
            "    https://scikit-learn.org/stable/modules/preprocessing.html\n",
            "Please also refer to the documentation for alternative solver options:\n",
            "    https://scikit-learn.org/stable/modules/linear_model.html#logistic-regression\n",
            "  extra_warning_msg=_LOGISTIC_SOLVER_CONVERGENCE_MSG)\n"
          ],
          "name": "stderr"
        },
        {
          "output_type": "stream",
          "text": [
            "Training Accuracy is 0.9634833397045829\n",
            "Training f1_score is 0.7879934509732582\n",
            "Training Roc_auc_score is 0.8493076362354165\n",
            "Shape of X_train_vectorized is now (159571, 5003)\n",
            "Shape of X_test_vectorized is now (153164, 5003)\n",
            "... Processing severe_toxic\n"
          ],
          "name": "stdout"
        },
        {
          "output_type": "stream",
          "text": [
            "/usr/local/lib/python3.6/dist-packages/sklearn/linear_model/_logistic.py:940: ConvergenceWarning: lbfgs failed to converge (status=1):\n",
            "STOP: TOTAL NO. of ITERATIONS REACHED LIMIT.\n",
            "\n",
            "Increase the number of iterations (max_iter) or scale the data as shown in:\n",
            "    https://scikit-learn.org/stable/modules/preprocessing.html\n",
            "Please also refer to the documentation for alternative solver options:\n",
            "    https://scikit-learn.org/stable/modules/linear_model.html#logistic-regression\n",
            "  extra_warning_msg=_LOGISTIC_SOLVER_CONVERGENCE_MSG)\n"
          ],
          "name": "stderr"
        },
        {
          "output_type": "stream",
          "text": [
            "Training Accuracy is 0.9927179750706582\n",
            "Training f1_score is 0.5351999999999999\n",
            "Training Roc_auc_score is 0.7089709194349271\n",
            "Shape of X_train_vectorized is now (159571, 5004)\n",
            "Shape of X_test_vectorized is now (153164, 5004)\n",
            "... Processing identity_hate\n"
          ],
          "name": "stdout"
        },
        {
          "output_type": "stream",
          "text": [
            "/usr/local/lib/python3.6/dist-packages/sklearn/linear_model/_logistic.py:940: ConvergenceWarning: lbfgs failed to converge (status=1):\n",
            "STOP: TOTAL NO. of ITERATIONS REACHED LIMIT.\n",
            "\n",
            "Increase the number of iterations (max_iter) or scale the data as shown in:\n",
            "    https://scikit-learn.org/stable/modules/preprocessing.html\n",
            "Please also refer to the documentation for alternative solver options:\n",
            "    https://scikit-learn.org/stable/modules/linear_model.html#logistic-regression\n",
            "  extra_warning_msg=_LOGISTIC_SOLVER_CONVERGENCE_MSG)\n"
          ],
          "name": "stderr"
        },
        {
          "output_type": "stream",
          "text": [
            "Training Accuracy is 0.994466413070044\n",
            "Training f1_score is 0.6027890238416556\n",
            "Training Roc_auc_score is 0.7379663008228258\n",
            "Shape of X_train_vectorized is now (159571, 5005)\n",
            "Shape of X_test_vectorized is now (153164, 5005)\n",
            "... Processing threat\n"
          ],
          "name": "stdout"
        },
        {
          "output_type": "stream",
          "text": [
            "/usr/local/lib/python3.6/dist-packages/sklearn/linear_model/_logistic.py:940: ConvergenceWarning: lbfgs failed to converge (status=1):\n",
            "STOP: TOTAL NO. of ITERATIONS REACHED LIMIT.\n",
            "\n",
            "Increase the number of iterations (max_iter) or scale the data as shown in:\n",
            "    https://scikit-learn.org/stable/modules/preprocessing.html\n",
            "Please also refer to the documentation for alternative solver options:\n",
            "    https://scikit-learn.org/stable/modules/linear_model.html#logistic-regression\n",
            "  extra_warning_msg=_LOGISTIC_SOLVER_CONVERGENCE_MSG)\n"
          ],
          "name": "stderr"
        },
        {
          "output_type": "stream",
          "text": [
            "Training Accuracy is 0.998076091520389\n",
            "Training f1_score is 0.577716643741403\n",
            "Training Roc_auc_score is 0.7195427021488733\n",
            "Shape of X_train_vectorized is now (159571, 5006)\n",
            "Shape of X_test_vectorized is now (153164, 5006)\n"
          ],
          "name": "stdout"
        }
      ]
    },
    {
      "cell_type": "code",
      "metadata": {
        "id": "FItfRL7Tl_oO"
      },
      "source": [
        "submission_chain_classifiers.to_csv('submission_chain_classifiers.csv', index=False)"
      ],
      "execution_count": null,
      "outputs": []
    },
    {
      "cell_type": "markdown",
      "metadata": {
        "id": "L2OFXE_1p8Zd"
      },
      "source": [
        "### skmultilearn"
      ]
    },
    {
      "cell_type": "code",
      "metadata": {
        "id": "u9OJqdPIqne9",
        "colab": {
          "base_uri": "https://localhost:8080/",
          "height": 34
        },
        "outputId": "7e334a31-fb9f-44b8-889d-3472435a3446"
      },
      "source": [
        "!pip install scikit-multilearn"
      ],
      "execution_count": null,
      "outputs": [
        {
          "output_type": "stream",
          "text": [
            "Requirement already satisfied: scikit-multilearn in /usr/local/lib/python3.6/dist-packages (0.2.0)\n"
          ],
          "name": "stdout"
        }
      ]
    },
    {
      "cell_type": "code",
      "metadata": {
        "id": "JPn4Ys6YmYXC"
      },
      "source": [
        "# using binary relevance\n",
        "from skmultilearn.problem_transform import BinaryRelevance\n",
        "from sklearn.naive_bayes import GaussianNB\n",
        "columns = ['obscene','insult','toxic','severe_toxic','identity_hate','threat']\n",
        "from sklearn.linear_model import LogisticRegression\n",
        "from sklearn.metrics import accuracy_score, f1_score, roc_auc_score\n",
        "logreg = LogisticRegression(C=12.0)\n",
        "\n",
        "vectorizer = TfidfVectorizer(strip_accents='unicode', analyzer='word', norm='l2', max_features=5000) # ngram_range=(1,2)\n",
        "X_train_vectorized = vectorizer.fit_transform(df_train['lemmatize_text'])\n",
        "X_test_vectorized = vectorizer.transform(df_test['lemmatize_text'])\n",
        "\n",
        "# initialize binary relevance multi-label classifier\n",
        "# with a gaussian naive bayes base classifier\n",
        "classifier = BinaryRelevance(LogisticRegression(C=12.0, max_iter=300))\n",
        "\n",
        "y_train = df_train[columns]\n",
        "\n",
        "# train\n",
        "classifier.fit(X_train_vectorized, y_train)\n",
        "\n",
        "# predict\n",
        "predictions = classifier.predict(X_train_vectorized)\n",
        "\n",
        "# accuracy\n",
        "print(\"Training Accuracy = \",accuracy_score(y_train,predictions))\n",
        "# print(\"Training F1_score = \",f1_score(y_train,predictions))\n",
        "# print(\"Training Roc_auc_score = \",roc_auc_score(y_train,predictions))\n",
        "# print(\"\\n\")"
      ],
      "execution_count": null,
      "outputs": []
    },
    {
      "cell_type": "code",
      "metadata": {
        "id": "0UFE7TjXu4tp"
      },
      "source": [
        "submission_df = pd.DataFrame.sparse.from_spmatrix(classifier.predict_proba(X_test_vectorized))"
      ],
      "execution_count": null,
      "outputs": []
    },
    {
      "cell_type": "code",
      "metadata": {
        "id": "w_KDNjXAvwGF"
      },
      "source": [
        "submission_binary_multilearn = pd.read_csv('/content/drive/My Drive/CS3244 Project/sample_submission.csv')\n",
        "submission_binary_multilearn[columns] = submission_df"
      ],
      "execution_count": null,
      "outputs": []
    },
    {
      "cell_type": "code",
      "metadata": {
        "id": "Evtj_zvxwYlt"
      },
      "source": [
        "submission_binary_multilearn.to_csv('submission_binaryrelevance_multilearn.csv', index=False)"
      ],
      "execution_count": null,
      "outputs": []
    },
    {
      "cell_type": "code",
      "metadata": {
        "id": "R_qAUUQlxTE-",
        "colab": {
          "base_uri": "https://localhost:8080/",
          "height": 419
        },
        "outputId": "5ef6ad23-b0c5-4478-b073-bccc26ce0a13"
      },
      "source": [
        "submission_df"
      ],
      "execution_count": null,
      "outputs": [
        {
          "output_type": "execute_result",
          "data": {
            "text/html": [
              "<div>\n",
              "<style scoped>\n",
              "    .dataframe tbody tr th:only-of-type {\n",
              "        vertical-align: middle;\n",
              "    }\n",
              "\n",
              "    .dataframe tbody tr th {\n",
              "        vertical-align: top;\n",
              "    }\n",
              "\n",
              "    .dataframe thead th {\n",
              "        text-align: right;\n",
              "    }\n",
              "</style>\n",
              "<table border=\"1\" class=\"dataframe\">\n",
              "  <thead>\n",
              "    <tr style=\"text-align: right;\">\n",
              "      <th></th>\n",
              "      <th>0</th>\n",
              "      <th>1</th>\n",
              "      <th>2</th>\n",
              "      <th>3</th>\n",
              "      <th>4</th>\n",
              "      <th>5</th>\n",
              "    </tr>\n",
              "  </thead>\n",
              "  <tbody>\n",
              "    <tr>\n",
              "      <th>0</th>\n",
              "      <td>0.999304</td>\n",
              "      <td>0.971684</td>\n",
              "      <td>0.999637</td>\n",
              "      <td>0.195651</td>\n",
              "      <td>0.244325</td>\n",
              "      <td>0.162436</td>\n",
              "    </tr>\n",
              "    <tr>\n",
              "      <th>1</th>\n",
              "      <td>0.000360</td>\n",
              "      <td>0.002950</td>\n",
              "      <td>0.001487</td>\n",
              "      <td>0.000559</td>\n",
              "      <td>0.000757</td>\n",
              "      <td>0.000284</td>\n",
              "    </tr>\n",
              "    <tr>\n",
              "      <th>2</th>\n",
              "      <td>0.002007</td>\n",
              "      <td>0.001752</td>\n",
              "      <td>0.005824</td>\n",
              "      <td>0.000240</td>\n",
              "      <td>0.000087</td>\n",
              "      <td>0.000008</td>\n",
              "    </tr>\n",
              "    <tr>\n",
              "      <th>3</th>\n",
              "      <td>0.001825</td>\n",
              "      <td>0.002732</td>\n",
              "      <td>0.001768</td>\n",
              "      <td>0.001948</td>\n",
              "      <td>0.000091</td>\n",
              "      <td>0.000129</td>\n",
              "    </tr>\n",
              "    <tr>\n",
              "      <th>4</th>\n",
              "      <td>0.001381</td>\n",
              "      <td>0.003202</td>\n",
              "      <td>0.012235</td>\n",
              "      <td>0.000270</td>\n",
              "      <td>0.000390</td>\n",
              "      <td>0.000349</td>\n",
              "    </tr>\n",
              "    <tr>\n",
              "      <th>...</th>\n",
              "      <td>...</td>\n",
              "      <td>...</td>\n",
              "      <td>...</td>\n",
              "      <td>...</td>\n",
              "      <td>...</td>\n",
              "      <td>...</td>\n",
              "    </tr>\n",
              "    <tr>\n",
              "      <th>153159</th>\n",
              "      <td>0.002037</td>\n",
              "      <td>0.012269</td>\n",
              "      <td>0.033514</td>\n",
              "      <td>0.000116</td>\n",
              "      <td>0.000255</td>\n",
              "      <td>0.000334</td>\n",
              "    </tr>\n",
              "    <tr>\n",
              "      <th>153160</th>\n",
              "      <td>0.006314</td>\n",
              "      <td>0.017226</td>\n",
              "      <td>0.034668</td>\n",
              "      <td>0.001989</td>\n",
              "      <td>0.032510</td>\n",
              "      <td>0.008440</td>\n",
              "    </tr>\n",
              "    <tr>\n",
              "      <th>153161</th>\n",
              "      <td>0.005997</td>\n",
              "      <td>0.001384</td>\n",
              "      <td>0.000868</td>\n",
              "      <td>0.000124</td>\n",
              "      <td>0.000329</td>\n",
              "      <td>0.000214</td>\n",
              "    </tr>\n",
              "    <tr>\n",
              "      <th>153162</th>\n",
              "      <td>0.021722</td>\n",
              "      <td>0.008776</td>\n",
              "      <td>0.008539</td>\n",
              "      <td>0.000995</td>\n",
              "      <td>0.022550</td>\n",
              "      <td>0.007206</td>\n",
              "    </tr>\n",
              "    <tr>\n",
              "      <th>153163</th>\n",
              "      <td>0.895498</td>\n",
              "      <td>0.299050</td>\n",
              "      <td>0.996549</td>\n",
              "      <td>0.000177</td>\n",
              "      <td>0.001395</td>\n",
              "      <td>0.001048</td>\n",
              "    </tr>\n",
              "  </tbody>\n",
              "</table>\n",
              "<p>153164 rows × 6 columns</p>\n",
              "</div>"
            ],
            "text/plain": [
              "               0         1         2         3         4         5\n",
              "0       0.999304  0.971684  0.999637  0.195651  0.244325  0.162436\n",
              "1       0.000360  0.002950  0.001487  0.000559  0.000757  0.000284\n",
              "2       0.002007  0.001752  0.005824  0.000240  0.000087  0.000008\n",
              "3       0.001825  0.002732  0.001768  0.001948  0.000091  0.000129\n",
              "4       0.001381  0.003202  0.012235  0.000270  0.000390  0.000349\n",
              "...          ...       ...       ...       ...       ...       ...\n",
              "153159  0.002037  0.012269  0.033514  0.000116  0.000255  0.000334\n",
              "153160  0.006314  0.017226  0.034668  0.001989  0.032510  0.008440\n",
              "153161  0.005997  0.001384  0.000868  0.000124  0.000329  0.000214\n",
              "153162  0.021722  0.008776  0.008539  0.000995  0.022550  0.007206\n",
              "153163  0.895498  0.299050  0.996549  0.000177  0.001395  0.001048\n",
              "\n",
              "[153164 rows x 6 columns]"
            ]
          },
          "metadata": {
            "tags": []
          },
          "execution_count": 37
        }
      ]
    },
    {
      "cell_type": "code",
      "metadata": {
        "id": "A0OCrwerxWrv",
        "colab": {
          "base_uri": "https://localhost:8080/",
          "height": 419
        },
        "outputId": "2c243a17-885f-4a4a-c9eb-289e57cef30d"
      },
      "source": [
        "submission_binary_multilearn"
      ],
      "execution_count": null,
      "outputs": [
        {
          "output_type": "execute_result",
          "data": {
            "text/html": [
              "<div>\n",
              "<style scoped>\n",
              "    .dataframe tbody tr th:only-of-type {\n",
              "        vertical-align: middle;\n",
              "    }\n",
              "\n",
              "    .dataframe tbody tr th {\n",
              "        vertical-align: top;\n",
              "    }\n",
              "\n",
              "    .dataframe thead th {\n",
              "        text-align: right;\n",
              "    }\n",
              "</style>\n",
              "<table border=\"1\" class=\"dataframe\">\n",
              "  <thead>\n",
              "    <tr style=\"text-align: right;\">\n",
              "      <th></th>\n",
              "      <th>id</th>\n",
              "      <th>toxic</th>\n",
              "      <th>severe_toxic</th>\n",
              "      <th>obscene</th>\n",
              "      <th>threat</th>\n",
              "      <th>insult</th>\n",
              "      <th>identity_hate</th>\n",
              "    </tr>\n",
              "  </thead>\n",
              "  <tbody>\n",
              "    <tr>\n",
              "      <th>0</th>\n",
              "      <td>00001cee341fdb12</td>\n",
              "      <td>0.999637</td>\n",
              "      <td>0.195651</td>\n",
              "      <td>0.999304</td>\n",
              "      <td>0.162436</td>\n",
              "      <td>0.971684</td>\n",
              "      <td>0.244325</td>\n",
              "    </tr>\n",
              "    <tr>\n",
              "      <th>1</th>\n",
              "      <td>0000247867823ef7</td>\n",
              "      <td>0.001487</td>\n",
              "      <td>0.000559</td>\n",
              "      <td>0.000360</td>\n",
              "      <td>0.000284</td>\n",
              "      <td>0.002950</td>\n",
              "      <td>0.000757</td>\n",
              "    </tr>\n",
              "    <tr>\n",
              "      <th>2</th>\n",
              "      <td>00013b17ad220c46</td>\n",
              "      <td>0.005824</td>\n",
              "      <td>0.000240</td>\n",
              "      <td>0.002007</td>\n",
              "      <td>0.000008</td>\n",
              "      <td>0.001752</td>\n",
              "      <td>0.000087</td>\n",
              "    </tr>\n",
              "    <tr>\n",
              "      <th>3</th>\n",
              "      <td>00017563c3f7919a</td>\n",
              "      <td>0.001768</td>\n",
              "      <td>0.001948</td>\n",
              "      <td>0.001825</td>\n",
              "      <td>0.000129</td>\n",
              "      <td>0.002732</td>\n",
              "      <td>0.000091</td>\n",
              "    </tr>\n",
              "    <tr>\n",
              "      <th>4</th>\n",
              "      <td>00017695ad8997eb</td>\n",
              "      <td>0.012235</td>\n",
              "      <td>0.000270</td>\n",
              "      <td>0.001381</td>\n",
              "      <td>0.000349</td>\n",
              "      <td>0.003202</td>\n",
              "      <td>0.000390</td>\n",
              "    </tr>\n",
              "    <tr>\n",
              "      <th>...</th>\n",
              "      <td>...</td>\n",
              "      <td>...</td>\n",
              "      <td>...</td>\n",
              "      <td>...</td>\n",
              "      <td>...</td>\n",
              "      <td>...</td>\n",
              "      <td>...</td>\n",
              "    </tr>\n",
              "    <tr>\n",
              "      <th>153159</th>\n",
              "      <td>fffcd0960ee309b5</td>\n",
              "      <td>0.033514</td>\n",
              "      <td>0.000116</td>\n",
              "      <td>0.002037</td>\n",
              "      <td>0.000334</td>\n",
              "      <td>0.012269</td>\n",
              "      <td>0.000255</td>\n",
              "    </tr>\n",
              "    <tr>\n",
              "      <th>153160</th>\n",
              "      <td>fffd7a9a6eb32c16</td>\n",
              "      <td>0.034668</td>\n",
              "      <td>0.001989</td>\n",
              "      <td>0.006314</td>\n",
              "      <td>0.008440</td>\n",
              "      <td>0.017226</td>\n",
              "      <td>0.032510</td>\n",
              "    </tr>\n",
              "    <tr>\n",
              "      <th>153161</th>\n",
              "      <td>fffda9e8d6fafa9e</td>\n",
              "      <td>0.000868</td>\n",
              "      <td>0.000124</td>\n",
              "      <td>0.005997</td>\n",
              "      <td>0.000214</td>\n",
              "      <td>0.001384</td>\n",
              "      <td>0.000329</td>\n",
              "    </tr>\n",
              "    <tr>\n",
              "      <th>153162</th>\n",
              "      <td>fffe8f1340a79fc2</td>\n",
              "      <td>0.008539</td>\n",
              "      <td>0.000995</td>\n",
              "      <td>0.021722</td>\n",
              "      <td>0.007206</td>\n",
              "      <td>0.008776</td>\n",
              "      <td>0.022550</td>\n",
              "    </tr>\n",
              "    <tr>\n",
              "      <th>153163</th>\n",
              "      <td>ffffce3fb183ee80</td>\n",
              "      <td>0.996549</td>\n",
              "      <td>0.000177</td>\n",
              "      <td>0.895498</td>\n",
              "      <td>0.001048</td>\n",
              "      <td>0.299050</td>\n",
              "      <td>0.001395</td>\n",
              "    </tr>\n",
              "  </tbody>\n",
              "</table>\n",
              "<p>153164 rows × 7 columns</p>\n",
              "</div>"
            ],
            "text/plain": [
              "                      id     toxic  ...    insult  identity_hate\n",
              "0       00001cee341fdb12  0.999637  ...  0.971684       0.244325\n",
              "1       0000247867823ef7  0.001487  ...  0.002950       0.000757\n",
              "2       00013b17ad220c46  0.005824  ...  0.001752       0.000087\n",
              "3       00017563c3f7919a  0.001768  ...  0.002732       0.000091\n",
              "4       00017695ad8997eb  0.012235  ...  0.003202       0.000390\n",
              "...                  ...       ...  ...       ...            ...\n",
              "153159  fffcd0960ee309b5  0.033514  ...  0.012269       0.000255\n",
              "153160  fffd7a9a6eb32c16  0.034668  ...  0.017226       0.032510\n",
              "153161  fffda9e8d6fafa9e  0.000868  ...  0.001384       0.000329\n",
              "153162  fffe8f1340a79fc2  0.008539  ...  0.008776       0.022550\n",
              "153163  ffffce3fb183ee80  0.996549  ...  0.299050       0.001395\n",
              "\n",
              "[153164 rows x 7 columns]"
            ]
          },
          "metadata": {
            "tags": []
          },
          "execution_count": 38
        }
      ]
    },
    {
      "cell_type": "code",
      "metadata": {
        "id": "cpupV5yAyRgg",
        "colab": {
          "base_uri": "https://localhost:8080/",
          "height": 884
        },
        "outputId": "6b15f76d-1b15-424a-ed6e-e7f53e26742f"
      },
      "source": [
        "from skmultilearn.problem_transform import ClassifierChain\n",
        "from sklearn.linear_model import LogisticRegression\n",
        "from sklearn.metrics import accuracy_score, f1_score, roc_auc_score\n",
        "\n",
        "columns = ['obscene','insult','toxic','severe_toxic','identity_hate','threat']\n",
        "\n",
        "vectorizer = TfidfVectorizer(strip_accents='unicode', analyzer='word', norm='l2', max_features=5000) # ngram_range=(1,2)\n",
        "X_train_vectorized = vectorizer.fit_transform(df_train['lemmatize_text'])\n",
        "X_test_vectorized = vectorizer.transform(df_test['lemmatize_text'])\n",
        "\n",
        "classifier = ClassifierChain(LogisticRegression(C=12.0))\n",
        "\n",
        "y_train = df_train[columns]\n",
        "\n",
        "# Training logistic regression model on train data\n",
        "classifier.fit(X_train_vectorized, y_train)\n",
        "\n",
        "# predict\n",
        "predictions = classifier.predict(X_train_vectorized)\n",
        "\n",
        "# accuracy\n",
        "print(\"Accuracy = \",accuracy_score(y_train,predictions))\n",
        "print(\"\\n\")"
      ],
      "execution_count": null,
      "outputs": [
        {
          "output_type": "stream",
          "text": [
            "/usr/local/lib/python3.6/dist-packages/sklearn/linear_model/_logistic.py:940: ConvergenceWarning: lbfgs failed to converge (status=1):\n",
            "STOP: TOTAL NO. of ITERATIONS REACHED LIMIT.\n",
            "\n",
            "Increase the number of iterations (max_iter) or scale the data as shown in:\n",
            "    https://scikit-learn.org/stable/modules/preprocessing.html\n",
            "Please also refer to the documentation for alternative solver options:\n",
            "    https://scikit-learn.org/stable/modules/linear_model.html#logistic-regression\n",
            "  extra_warning_msg=_LOGISTIC_SOLVER_CONVERGENCE_MSG)\n",
            "/usr/local/lib/python3.6/dist-packages/sklearn/linear_model/_logistic.py:940: ConvergenceWarning: lbfgs failed to converge (status=1):\n",
            "STOP: TOTAL NO. of ITERATIONS REACHED LIMIT.\n",
            "\n",
            "Increase the number of iterations (max_iter) or scale the data as shown in:\n",
            "    https://scikit-learn.org/stable/modules/preprocessing.html\n",
            "Please also refer to the documentation for alternative solver options:\n",
            "    https://scikit-learn.org/stable/modules/linear_model.html#logistic-regression\n",
            "  extra_warning_msg=_LOGISTIC_SOLVER_CONVERGENCE_MSG)\n",
            "/usr/local/lib/python3.6/dist-packages/sklearn/linear_model/_logistic.py:940: ConvergenceWarning: lbfgs failed to converge (status=1):\n",
            "STOP: TOTAL NO. of ITERATIONS REACHED LIMIT.\n",
            "\n",
            "Increase the number of iterations (max_iter) or scale the data as shown in:\n",
            "    https://scikit-learn.org/stable/modules/preprocessing.html\n",
            "Please also refer to the documentation for alternative solver options:\n",
            "    https://scikit-learn.org/stable/modules/linear_model.html#logistic-regression\n",
            "  extra_warning_msg=_LOGISTIC_SOLVER_CONVERGENCE_MSG)\n",
            "/usr/local/lib/python3.6/dist-packages/sklearn/linear_model/_logistic.py:940: ConvergenceWarning: lbfgs failed to converge (status=1):\n",
            "STOP: TOTAL NO. of ITERATIONS REACHED LIMIT.\n",
            "\n",
            "Increase the number of iterations (max_iter) or scale the data as shown in:\n",
            "    https://scikit-learn.org/stable/modules/preprocessing.html\n",
            "Please also refer to the documentation for alternative solver options:\n",
            "    https://scikit-learn.org/stable/modules/linear_model.html#logistic-regression\n",
            "  extra_warning_msg=_LOGISTIC_SOLVER_CONVERGENCE_MSG)\n",
            "/usr/local/lib/python3.6/dist-packages/sklearn/linear_model/_logistic.py:940: ConvergenceWarning: lbfgs failed to converge (status=1):\n",
            "STOP: TOTAL NO. of ITERATIONS REACHED LIMIT.\n",
            "\n",
            "Increase the number of iterations (max_iter) or scale the data as shown in:\n",
            "    https://scikit-learn.org/stable/modules/preprocessing.html\n",
            "Please also refer to the documentation for alternative solver options:\n",
            "    https://scikit-learn.org/stable/modules/linear_model.html#logistic-regression\n",
            "  extra_warning_msg=_LOGISTIC_SOLVER_CONVERGENCE_MSG)\n",
            "/usr/local/lib/python3.6/dist-packages/sklearn/linear_model/_logistic.py:940: ConvergenceWarning: lbfgs failed to converge (status=1):\n",
            "STOP: TOTAL NO. of ITERATIONS REACHED LIMIT.\n",
            "\n",
            "Increase the number of iterations (max_iter) or scale the data as shown in:\n",
            "    https://scikit-learn.org/stable/modules/preprocessing.html\n",
            "Please also refer to the documentation for alternative solver options:\n",
            "    https://scikit-learn.org/stable/modules/linear_model.html#logistic-regression\n",
            "  extra_warning_msg=_LOGISTIC_SOLVER_CONVERGENCE_MSG)\n"
          ],
          "name": "stderr"
        },
        {
          "output_type": "stream",
          "text": [
            "Accuracy =  0.9309774332428825\n",
            "\n",
            "\n"
          ],
          "name": "stdout"
        }
      ]
    },
    {
      "cell_type": "code",
      "metadata": {
        "id": "D_GnOnvV5ZHY"
      },
      "source": [
        ""
      ],
      "execution_count": null,
      "outputs": []
    },
    {
      "cell_type": "markdown",
      "metadata": {
        "id": "MEAh0laO5dFN"
      },
      "source": [
        "# Word2Vec Gensim"
      ]
    },
    {
      "cell_type": "code",
      "metadata": {
        "id": "23D2fCCw5iF0"
      },
      "source": [
        "df_train = df_train.fillna(\"\")\n",
        "df_test = df_test.fillna(\"\")\n",
        "\n",
        "train_comments = df_train['lemmatize_text']\n",
        "test_comments = df_test['lemmatize_text']\n",
        "\n",
        "vocab_train = []\n",
        "vocab_test = []\n",
        "#print (len(train_comments))\n",
        "#print (len(test_comments))\n",
        "for sentences in train_comments:\n",
        "  vocab_train.append(sentences.split())\n",
        "for sentences in test_comments:\n",
        "  vocab_test.append(sentences.split())"
      ],
      "execution_count": null,
      "outputs": []
    },
    {
      "cell_type": "code",
      "metadata": {
        "id": "jCkQF5Dd6Uc6"
      },
      "source": [
        "vocab = vocab_train + vocab_test"
      ],
      "execution_count": null,
      "outputs": []
    },
    {
      "cell_type": "code",
      "metadata": {
        "id": "YYzKf1bM6Y1U"
      },
      "source": [
        "from gensim.models import word2vec\n",
        "import gensim\n",
        "import json"
      ],
      "execution_count": null,
      "outputs": []
    },
    {
      "cell_type": "code",
      "metadata": {
        "id": "V_T-6TuT6qsZ"
      },
      "source": [
        "num_features = 300    # Word vector dimensionality                      \n",
        "min_word_count = 40   # Minimum word count                        \n",
        "num_workers = 4       # Number of threads to run in parallel\n",
        "context = 10          # Context window size                                                                                    \n",
        "downsampling = 1e-3   # Downsample setting for frequent words"
      ],
      "execution_count": null,
      "outputs": []
    },
    {
      "cell_type": "markdown",
      "metadata": {
        "id": "G62uzRVi7Lxp"
      },
      "source": [
        "#### The word2vec algorithms include skip-gram and CBOW models, using either hierarchical softmax or negative sampling"
      ]
    },
    {
      "cell_type": "code",
      "metadata": {
        "id": "OuJZ2en66zlW"
      },
      "source": [
        "w2v = word2vec.Word2Vec(vocab, workers=num_workers, size=num_features, min_count = min_word_count, window = context, sample = downsampling)\n",
        "w2v.init_sims(replace=True)\n"
      ],
      "execution_count": null,
      "outputs": []
    },
    {
      "cell_type": "code",
      "metadata": {
        "id": "C-0D8Txa7N6G"
      },
      "source": [
        "def makeFeatureVec(words, model, num_features):\n",
        "    # Pre-initialize an empty numpy array (for speed)\n",
        "    featureVec = np.zeros((num_features,), dtype=\"float32\")\n",
        "    #\n",
        "    nwords = 0\n",
        "    # \n",
        "    # Index2word is a list that contains the names of the words in \n",
        "    # the model's vocabulary. Convert it to a set, for speed \n",
        "    index2word_set = set(model.wv.index2word)\n",
        "    #\n",
        "    # Loop over each word in the review and, if it is in the model's\n",
        "    # vocaublary, add its feature vector to the total\n",
        "    for word in words:\n",
        "        if word in index2word_set: \n",
        "            nwords = nwords + 1\n",
        "            featureVec = np.add(featureVec, model[word])\n",
        "    # Divide the result by the number of words to get the average\n",
        "    if nwords == 0:\n",
        "        nwords = 1\n",
        "    featureVec = np.divide(featureVec, nwords)\n",
        "    return featureVec\n",
        "\n",
        "\n",
        "\n",
        "def getAvgFeatureVecs(reviews, model, num_features):\n",
        "    # Given a set of reviews (each one a list of words), calculate \n",
        "    # the average feature vector for each one and return a 2D numpy array \n",
        "    # Preallocate a 2D numpy array, for speed\n",
        "    reviewFeatureVecs = np.zeros((len(reviews), num_features), dtype=\"float32\")\n",
        "    counter = 0\n",
        "    # Loop through the reviews\n",
        "    for review in reviews:\n",
        "        # Call the function (defined above) that makes average feature vectors\n",
        "        reviewFeatureVecs[counter] = makeFeatureVec(review, model, num_features)\n",
        "        counter = counter + 1\n",
        "    return reviewFeatureVecs"
      ],
      "execution_count": null,
      "outputs": []
    },
    {
      "cell_type": "code",
      "metadata": {
        "id": "I71rugHk7far",
        "colab": {
          "base_uri": "https://localhost:8080/",
          "height": 71
        },
        "outputId": "05fc0276-6a1a-454f-f179-f56a0b7e90af"
      },
      "source": [
        "X = getAvgFeatureVecs(df_train[\"lemmatize_text\"], w2v, 300)\n",
        "x_test = getAvgFeatureVecs(df_test[\"lemmatize_text\"], w2v, 300)"
      ],
      "execution_count": null,
      "outputs": [
        {
          "output_type": "stream",
          "text": [
            "/usr/local/lib/python3.6/dist-packages/ipykernel_launcher.py:16: DeprecationWarning: Call to deprecated `__getitem__` (Method will be removed in 4.0.0, use self.wv.__getitem__() instead).\n",
            "  app.launch_new_instance()\n"
          ],
          "name": "stderr"
        }
      ]
    },
    {
      "cell_type": "code",
      "metadata": {
        "id": "CmUNSGho7nX_",
        "colab": {
          "base_uri": "https://localhost:8080/",
          "height": 34
        },
        "outputId": "30715304-e102-4746-a7e3-e8bb542ee839"
      },
      "source": [
        "len(X[0])"
      ],
      "execution_count": null,
      "outputs": [
        {
          "output_type": "execute_result",
          "data": {
            "text/plain": [
              "300"
            ]
          },
          "metadata": {
            "tags": []
          },
          "execution_count": 21
        }
      ]
    },
    {
      "cell_type": "code",
      "metadata": {
        "id": "s-FBlMpkBbCc",
        "colab": {
          "base_uri": "https://localhost:8080/",
          "height": 68
        },
        "outputId": "01c493b0-af1a-481c-b496-eec72b1dff6a"
      },
      "source": [
        "time()"
      ],
      "execution_count": null,
      "outputs": [
        {
          "output_type": "stream",
          "text": [
            "CPU times: user 4 µs, sys: 1e+03 ns, total: 5 µs\n",
            "Wall time: 5.48 µs\n"
          ],
          "name": "stdout"
        },
        {
          "output_type": "execute_result",
          "data": {
            "text/plain": [
              "()"
            ]
          },
          "metadata": {
            "tags": []
          },
          "execution_count": 36
        }
      ]
    },
    {
      "cell_type": "code",
      "metadata": {
        "id": "dMGgdNjl9rRT",
        "colab": {
          "base_uri": "https://localhost:8080/",
          "height": 238
        },
        "outputId": "9d789d2a-3213-4fa7-cefc-c53310962c2c"
      },
      "source": [
        "from sklearn.metrics import log_loss,confusion_matrix,classification_report,roc_curve,auc, accuracy_score\n",
        "from sklearn.model_selection import cross_validate, cross_val_score, cross_val_predict,train_test_split,GridSearchCV\n",
        "from sklearn.linear_model import LogisticRegression\n",
        "import time\n",
        "\n",
        "target_col = ['toxic', 'severe_toxic', 'obscene', 'threat','insult', 'identity_hate']\n",
        "y = df_train[target_col]\n",
        "\n",
        "X_train, X_test, y_train, y_test = train_test_split(X, y, test_size=0.2, random_state=42)\n",
        "\n",
        "prd = np.zeros((x_test.shape[0],y.shape[1]))\n",
        "\n",
        "start = time.time()\n",
        "for i,col in enumerate(target_col):\n",
        "    lr = LogisticRegression(C=2,random_state = i,class_weight = 'balanced', max_iter=300)\n",
        "    print('Building {} model for column:{''}'.format(i,col))\n",
        "    lr.fit(X,y[col])\n",
        "    print(accuracy_score(y[col], lr.predict(X)))\n",
        "    prd[:,i] = lr.predict_proba(x_test)[:,1]\n",
        "end = time.time()\n",
        "\n",
        "print(\"total time: \", start - end)"
      ],
      "execution_count": null,
      "outputs": [
        {
          "output_type": "stream",
          "text": [
            "Building 0 model for column:toxic\n",
            "0.7533135720149651\n",
            "Building 1 model for column:severe_toxic\n",
            "0.8874294201327309\n",
            "Building 2 model for column:obscene\n",
            "0.8174104317200493\n",
            "Building 3 model for column:threat\n",
            "0.7921301489619041\n",
            "Building 4 model for column:insult\n",
            "0.800308326700967\n",
            "Building 5 model for column:identity_hate\n",
            "0.8184319205870741\n",
            "total time:  -56.259424924850464\n"
          ],
          "name": "stdout"
        }
      ]
    },
    {
      "cell_type": "code",
      "metadata": {
        "id": "st3FtpoL98NM",
        "colab": {
          "base_uri": "https://localhost:8080/",
          "height": 527
        },
        "outputId": "dc0bd351-a258-4217-de25-16f4c5de722b"
      },
      "source": [
        "for col in target_col:\n",
        "    print(\"Column:\",col)\n",
        "    pred = lr.predict(X)\n",
        "    print('\\nConfusion matrix\\n',confusion_matrix(y[col],pred))"
      ],
      "execution_count": null,
      "outputs": [
        {
          "output_type": "stream",
          "text": [
            "Column: toxic\n",
            "\n",
            "Confusion matrix\n",
            " [[122190  22087]\n",
            " [  7827   7467]]\n",
            "Column: severe_toxic\n",
            "\n",
            "Confusion matrix\n",
            " [[129754  28222]\n",
            " [   263   1332]]\n",
            "Column: obscene\n",
            "\n",
            "Confusion matrix\n",
            " [[126742  24380]\n",
            " [  3275   5174]]\n",
            "Column: threat\n",
            "\n",
            "Confusion matrix\n",
            " [[129827  29266]\n",
            " [   190    288]]\n",
            "Column: insult\n",
            "\n",
            "Confusion matrix\n",
            " [[126770  24924]\n",
            " [  3247   4630]]\n",
            "Column: identity_hate\n",
            "\n",
            "Confusion matrix\n",
            " [[129605  28561]\n",
            " [   412    993]]\n"
          ],
          "name": "stdout"
        }
      ]
    },
    {
      "cell_type": "code",
      "metadata": {
        "id": "nK1Z_Sk_-bKI"
      },
      "source": [
        "prd_1 = pd.DataFrame(prd,columns=y.columns)\n",
        "# submit = pd.concat([test['id'],prd_1],axis=1)\n",
        "# submit.to_csv(r\"C:\\Users\\Admin\\Desktop\\Y2S1\\CS3244\\submission_w2v_7.csv\",index=False)\n",
        "# submit.head()"
      ],
      "execution_count": null,
      "outputs": []
    },
    {
      "cell_type": "code",
      "metadata": {
        "id": "TCliJF_R-yNz",
        "colab": {
          "base_uri": "https://localhost:8080/",
          "height": 439
        },
        "outputId": "116afc93-d45d-4f21-c819-888790e264ef"
      },
      "source": [
        "sample_submission = pd.read_csv('/content/drive/My Drive/CS3244 Project/sample_submission.csv')\n",
        "sample_submission"
      ],
      "execution_count": null,
      "outputs": [
        {
          "output_type": "execute_result",
          "data": {
            "text/html": [
              "<div>\n",
              "<style scoped>\n",
              "    .dataframe tbody tr th:only-of-type {\n",
              "        vertical-align: middle;\n",
              "    }\n",
              "\n",
              "    .dataframe tbody tr th {\n",
              "        vertical-align: top;\n",
              "    }\n",
              "\n",
              "    .dataframe thead th {\n",
              "        text-align: right;\n",
              "    }\n",
              "</style>\n",
              "<table border=\"1\" class=\"dataframe\">\n",
              "  <thead>\n",
              "    <tr style=\"text-align: right;\">\n",
              "      <th></th>\n",
              "      <th>id</th>\n",
              "      <th>toxic</th>\n",
              "      <th>severe_toxic</th>\n",
              "      <th>obscene</th>\n",
              "      <th>threat</th>\n",
              "      <th>insult</th>\n",
              "      <th>identity_hate</th>\n",
              "    </tr>\n",
              "  </thead>\n",
              "  <tbody>\n",
              "    <tr>\n",
              "      <th>0</th>\n",
              "      <td>00001cee341fdb12</td>\n",
              "      <td>0.5</td>\n",
              "      <td>0.5</td>\n",
              "      <td>0.5</td>\n",
              "      <td>0.5</td>\n",
              "      <td>0.5</td>\n",
              "      <td>0.5</td>\n",
              "    </tr>\n",
              "    <tr>\n",
              "      <th>1</th>\n",
              "      <td>0000247867823ef7</td>\n",
              "      <td>0.5</td>\n",
              "      <td>0.5</td>\n",
              "      <td>0.5</td>\n",
              "      <td>0.5</td>\n",
              "      <td>0.5</td>\n",
              "      <td>0.5</td>\n",
              "    </tr>\n",
              "    <tr>\n",
              "      <th>2</th>\n",
              "      <td>00013b17ad220c46</td>\n",
              "      <td>0.5</td>\n",
              "      <td>0.5</td>\n",
              "      <td>0.5</td>\n",
              "      <td>0.5</td>\n",
              "      <td>0.5</td>\n",
              "      <td>0.5</td>\n",
              "    </tr>\n",
              "    <tr>\n",
              "      <th>3</th>\n",
              "      <td>00017563c3f7919a</td>\n",
              "      <td>0.5</td>\n",
              "      <td>0.5</td>\n",
              "      <td>0.5</td>\n",
              "      <td>0.5</td>\n",
              "      <td>0.5</td>\n",
              "      <td>0.5</td>\n",
              "    </tr>\n",
              "    <tr>\n",
              "      <th>4</th>\n",
              "      <td>00017695ad8997eb</td>\n",
              "      <td>0.5</td>\n",
              "      <td>0.5</td>\n",
              "      <td>0.5</td>\n",
              "      <td>0.5</td>\n",
              "      <td>0.5</td>\n",
              "      <td>0.5</td>\n",
              "    </tr>\n",
              "    <tr>\n",
              "      <th>...</th>\n",
              "      <td>...</td>\n",
              "      <td>...</td>\n",
              "      <td>...</td>\n",
              "      <td>...</td>\n",
              "      <td>...</td>\n",
              "      <td>...</td>\n",
              "      <td>...</td>\n",
              "    </tr>\n",
              "    <tr>\n",
              "      <th>153159</th>\n",
              "      <td>fffcd0960ee309b5</td>\n",
              "      <td>0.5</td>\n",
              "      <td>0.5</td>\n",
              "      <td>0.5</td>\n",
              "      <td>0.5</td>\n",
              "      <td>0.5</td>\n",
              "      <td>0.5</td>\n",
              "    </tr>\n",
              "    <tr>\n",
              "      <th>153160</th>\n",
              "      <td>fffd7a9a6eb32c16</td>\n",
              "      <td>0.5</td>\n",
              "      <td>0.5</td>\n",
              "      <td>0.5</td>\n",
              "      <td>0.5</td>\n",
              "      <td>0.5</td>\n",
              "      <td>0.5</td>\n",
              "    </tr>\n",
              "    <tr>\n",
              "      <th>153161</th>\n",
              "      <td>fffda9e8d6fafa9e</td>\n",
              "      <td>0.5</td>\n",
              "      <td>0.5</td>\n",
              "      <td>0.5</td>\n",
              "      <td>0.5</td>\n",
              "      <td>0.5</td>\n",
              "      <td>0.5</td>\n",
              "    </tr>\n",
              "    <tr>\n",
              "      <th>153162</th>\n",
              "      <td>fffe8f1340a79fc2</td>\n",
              "      <td>0.5</td>\n",
              "      <td>0.5</td>\n",
              "      <td>0.5</td>\n",
              "      <td>0.5</td>\n",
              "      <td>0.5</td>\n",
              "      <td>0.5</td>\n",
              "    </tr>\n",
              "    <tr>\n",
              "      <th>153163</th>\n",
              "      <td>ffffce3fb183ee80</td>\n",
              "      <td>0.5</td>\n",
              "      <td>0.5</td>\n",
              "      <td>0.5</td>\n",
              "      <td>0.5</td>\n",
              "      <td>0.5</td>\n",
              "      <td>0.5</td>\n",
              "    </tr>\n",
              "  </tbody>\n",
              "</table>\n",
              "<p>153164 rows × 7 columns</p>\n",
              "</div>"
            ],
            "text/plain": [
              "                      id  toxic  severe_toxic  ...  threat  insult  identity_hate\n",
              "0       00001cee341fdb12    0.5           0.5  ...     0.5     0.5            0.5\n",
              "1       0000247867823ef7    0.5           0.5  ...     0.5     0.5            0.5\n",
              "2       00013b17ad220c46    0.5           0.5  ...     0.5     0.5            0.5\n",
              "3       00017563c3f7919a    0.5           0.5  ...     0.5     0.5            0.5\n",
              "4       00017695ad8997eb    0.5           0.5  ...     0.5     0.5            0.5\n",
              "...                  ...    ...           ...  ...     ...     ...            ...\n",
              "153159  fffcd0960ee309b5    0.5           0.5  ...     0.5     0.5            0.5\n",
              "153160  fffd7a9a6eb32c16    0.5           0.5  ...     0.5     0.5            0.5\n",
              "153161  fffda9e8d6fafa9e    0.5           0.5  ...     0.5     0.5            0.5\n",
              "153162  fffe8f1340a79fc2    0.5           0.5  ...     0.5     0.5            0.5\n",
              "153163  ffffce3fb183ee80    0.5           0.5  ...     0.5     0.5            0.5\n",
              "\n",
              "[153164 rows x 7 columns]"
            ]
          },
          "metadata": {
            "tags": []
          },
          "execution_count": 32
        }
      ]
    },
    {
      "cell_type": "code",
      "metadata": {
        "id": "8JMVHNxV-iEa"
      },
      "source": [
        "sample_submission[target_col] = prd_1\n",
        "sample_submission.to_csv('gensim_word2vec.csv', index=False)"
      ],
      "execution_count": null,
      "outputs": []
    }
  ]
}